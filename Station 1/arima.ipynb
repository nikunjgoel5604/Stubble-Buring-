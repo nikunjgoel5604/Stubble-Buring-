{
 "cells": [
  {
   "cell_type": "code",
   "execution_count": 6,
   "metadata": {},
   "outputs": [],
   "source": [
    "import pandas as pd\n",
    "import numpy as np\n",
    "from pmdarima import auto_arima\n",
    "import matplotlib.pyplot as plt\n",
    "\n"
   ]
  },
  {
   "cell_type": "code",
   "execution_count": 7,
   "metadata": {},
   "outputs": [
    {
     "name": "stderr",
     "output_type": "stream",
     "text": [
      "<>:2: SyntaxWarning: invalid escape sequence '\\s'\n",
      "<>:2: SyntaxWarning: invalid escape sequence '\\s'\n",
      "C:\\Users\\goelk\\AppData\\Local\\Temp\\ipykernel_20608\\1564224310.py:2: SyntaxWarning: invalid escape sequence '\\s'\n",
      "  data = pd.read_csv('D:\\stubble buring\\stubble\\STN1.csv', parse_dates=['DATE'], dayfirst=True)\n"
     ]
    }
   ],
   "source": [
    "# Load your dataset\n",
    "data = pd.read_csv('D:\\stubble buring\\stubble\\STN1.csv', parse_dates=['DATE'], dayfirst=True)\n",
    "data.set_index('DATE', inplace=True)\n"
   ]
  },
  {
   "cell_type": "code",
   "execution_count": 8,
   "metadata": {},
   "outputs": [
    {
     "name": "stderr",
     "output_type": "stream",
     "text": [
      "C:\\Users\\goelk\\AppData\\Local\\Temp\\ipykernel_20608\\745624939.py:2: FutureWarning: DataFrame.fillna with 'method' is deprecated and will raise in a future version. Use obj.ffill() or obj.bfill() instead.\n",
      "  data.fillna(method='ffill', inplace=True)\n"
     ]
    }
   ],
   "source": [
    "# Forward fill missing values for the period with gaps\n",
    "data.fillna(method='ffill', inplace=True)\n"
   ]
  },
  {
   "cell_type": "code",
   "execution_count": 9,
   "metadata": {},
   "outputs": [
    {
     "name": "stderr",
     "output_type": "stream",
     "text": [
      "C:\\Users\\goelk\\AppData\\Local\\Temp\\ipykernel_20608\\756875591.py:2: FutureWarning: 'M' is deprecated and will be removed in a future version, please use 'ME' instead.\n",
      "  monthly_data = data.resample('M').sum()\n"
     ]
    }
   ],
   "source": [
    "# Resample to monthly frequency by summing daily values\n",
    "monthly_data = data.resample('M').sum()\n"
   ]
  },
  {
   "cell_type": "code",
   "execution_count": 10,
   "metadata": {},
   "outputs": [],
   "source": [
    "# Determine the split point (70% of the data for training)\n",
    "split_date = '2018-01-01'  # Approximate 70% for training\n",
    "train_data = monthly_data[:split_date]\n",
    "test_data = monthly_data[split_date:]\n"
   ]
  },
  {
   "cell_type": "code",
   "execution_count": 11,
   "metadata": {},
   "outputs": [
    {
     "name": "stdout",
     "output_type": "stream",
     "text": [
      "Performing stepwise search to minimize aic\n",
      " ARIMA(2,0,2)(1,0,1)[12] intercept   : AIC=inf, Time=0.43 sec\n",
      " ARIMA(0,0,0)(0,0,0)[12] intercept   : AIC=1391.412, Time=0.01 sec\n",
      " ARIMA(1,0,0)(1,0,0)[12] intercept   : AIC=1373.643, Time=0.03 sec\n",
      " ARIMA(0,0,1)(0,0,1)[12] intercept   : AIC=1363.555, Time=0.05 sec\n",
      " ARIMA(0,0,0)(0,0,0)[12]             : AIC=1395.668, Time=0.01 sec\n",
      " ARIMA(0,0,1)(0,0,0)[12] intercept   : AIC=1368.836, Time=0.02 sec\n",
      " ARIMA(0,0,1)(1,0,1)[12] intercept   : AIC=1364.170, Time=0.05 sec\n",
      " ARIMA(0,0,1)(0,0,2)[12] intercept   : AIC=1358.282, Time=0.15 sec\n",
      " ARIMA(0,0,1)(1,0,2)[12] intercept   : AIC=1356.708, Time=0.21 sec\n",
      " ARIMA(0,0,1)(2,0,2)[12] intercept   : AIC=1358.700, Time=0.46 sec\n",
      " ARIMA(0,0,1)(2,0,1)[12] intercept   : AIC=1365.862, Time=0.13 sec\n",
      " ARIMA(0,0,0)(1,0,2)[12] intercept   : AIC=1383.501, Time=0.14 sec\n",
      " ARIMA(1,0,1)(1,0,2)[12] intercept   : AIC=1358.724, Time=0.26 sec\n",
      " ARIMA(0,0,2)(1,0,2)[12] intercept   : AIC=1357.974, Time=0.27 sec\n",
      " ARIMA(1,0,0)(1,0,2)[12] intercept   : AIC=1371.109, Time=0.14 sec\n",
      " ARIMA(1,0,2)(1,0,2)[12] intercept   : AIC=1358.715, Time=0.32 sec\n",
      " ARIMA(0,0,1)(1,0,2)[12]             : AIC=1355.954, Time=0.20 sec\n",
      " ARIMA(0,0,1)(0,0,2)[12]             : AIC=1357.470, Time=0.11 sec\n",
      " ARIMA(0,0,1)(1,0,1)[12]             : AIC=1363.828, Time=0.05 sec\n",
      " ARIMA(0,0,1)(2,0,2)[12]             : AIC=1357.943, Time=0.35 sec\n",
      " ARIMA(0,0,1)(0,0,1)[12]             : AIC=1363.029, Time=0.04 sec\n",
      " ARIMA(0,0,1)(2,0,1)[12]             : AIC=1365.736, Time=0.09 sec\n",
      " ARIMA(0,0,0)(1,0,2)[12]             : AIC=1383.240, Time=0.10 sec\n",
      " ARIMA(1,0,1)(1,0,2)[12]             : AIC=1357.890, Time=0.22 sec\n",
      " ARIMA(0,0,2)(1,0,2)[12]             : AIC=1357.378, Time=0.18 sec\n",
      " ARIMA(1,0,0)(1,0,2)[12]             : AIC=1370.836, Time=0.12 sec\n",
      " ARIMA(1,0,2)(1,0,2)[12]             : AIC=1359.312, Time=0.22 sec\n",
      "\n",
      "Best model:  ARIMA(0,0,1)(1,0,2)[12]          \n",
      "Total fit time: 4.415 seconds\n",
      "                                        SARIMAX Results                                        \n",
      "===============================================================================================\n",
      "Dep. Variable:                                       y   No. Observations:                   64\n",
      "Model:             SARIMAX(0, 0, 1)x(1, 0, [1, 2], 12)   Log Likelihood                -672.977\n",
      "Date:                                 Sun, 01 Dec 2024   AIC                           1355.954\n",
      "Time:                                         12:03:57   BIC                           1366.749\n",
      "Sample:                                     09-30-2012   HQIC                          1360.207\n",
      "                                          - 12-31-2017                                         \n",
      "Covariance Type:                                   opg                                         \n",
      "==============================================================================\n",
      "                 coef    std err          z      P>|z|      [0.025      0.975]\n",
      "------------------------------------------------------------------------------\n",
      "ma.L1          0.7134      0.121      5.910      0.000       0.477       0.950\n",
      "ar.S.L12      -0.5350      0.423     -1.266      0.206      -1.363       0.293\n",
      "ma.S.L12       1.1611      0.606      1.917      0.055      -0.026       2.348\n",
      "ma.S.L24       0.6957      0.163      4.257      0.000       0.375       1.016\n",
      "sigma2      8.433e+07      9e-09   9.37e+15      0.000    8.43e+07    8.43e+07\n",
      "===================================================================================\n",
      "Ljung-Box (L1) (Q):                   0.03   Jarque-Bera (JB):                68.97\n",
      "Prob(Q):                              0.87   Prob(JB):                         0.00\n",
      "Heteroskedasticity (H):               1.22   Skew:                             1.50\n",
      "Prob(H) (two-sided):                  0.65   Kurtosis:                         7.10\n",
      "===================================================================================\n",
      "\n",
      "Warnings:\n",
      "[1] Covariance matrix calculated using the outer product of gradients (complex-step).\n",
      "[2] Covariance matrix is singular or near-singular, with condition number 1.57e+32. Standard errors may be unstable.\n"
     ]
    }
   ],
   "source": [
    "# Fit Auto ARIMA model on the training data\n",
    "model = auto_arima(train_data['FIRECOUNT'], \n",
    "                   seasonal=True, \n",
    "                   m=12,               # 12 months seasonality\n",
    "                   trace=True,         # Show model diagnostics\n",
    "                   error_action='ignore',  \n",
    "                   suppress_warnings=True)\n",
    "\n",
    "# Check model summary\n",
    "print(model.summary())\n",
    "\n"
   ]
  },
  {
   "cell_type": "code",
   "execution_count": 12,
   "metadata": {},
   "outputs": [
    {
     "name": "stdout",
     "output_type": "stream",
     "text": [
      "Mean Absolute Error (MAE): 5385.04\n",
      "Root Mean Squared Error (RMSE): 15034.56\n",
      "The predicted value for 2022 is 1488.37\n",
      "The predicted value for 2023 is 896.58\n",
      "The predicted value for 2024 is 518.10\n",
      "The predicted value for 2025 is -277.19\n"
     ]
    }
   ],
   "source": [
    "from sklearn.metrics import mean_absolute_error, mean_squared_error\n",
    "import numpy as np\n",
    "\n",
    "# Forecast for the next 48 months (4 years)\n",
    "forecast_period = 48\n",
    "forecast = model.predict(n_periods=forecast_period)\n",
    "\n",
    "# Create forecast date index for 2022-2025\n",
    "forecast_dates = pd.date_range(start='2022-01-01', periods=forecast_period, freq='ME')\n",
    "forecast_series = pd.Series(forecast, index=forecast_dates)\n",
    "\n",
    "# Assuming you have actual values for the forecast period (replace with your actual test data)\n",
    "actual_values = test_data['FIRECOUNT']  # Replace 'your_column' with the actual column name from your test set\n",
    "\n",
    "# Calculate MAE and RMSE\n",
    "mae = mean_absolute_error(actual_values, forecast)\n",
    "rmse = np.sqrt(mean_squared_error(actual_values, forecast))\n",
    "\n",
    "# Display MAE and RMSE\n",
    "print(f\"Mean Absolute Error (MAE): {mae:.2f}\")\n",
    "print(f\"Root Mean Squared Error (RMSE): {rmse:.2f}\")\n",
    "\n",
    "# Display predictions\n",
    "for year, value in zip(range(2022, 2026), forecast[:48:12]):\n",
    "    print(f\"The predicted value for {year} is {value:.2f}\")\n"
   ]
  },
  {
   "cell_type": "code",
   "execution_count": 13,
   "metadata": {},
   "outputs": [
    {
     "name": "stdout",
     "output_type": "stream",
     "text": [
      "The predicted value for 2022 is 1488.37\n",
      "The predicted value for 2023 is 896.58\n",
      "The predicted value for 2024 is 518.10\n",
      "The predicted value for 2025 is -277.19\n"
     ]
    },
    {
     "data": {
      "application/vnd.plotly.v1+json": {
       "config": {
        "plotlyServerURL": "https://plot.ly"
       },
       "data": [
        {
         "hovertemplate": "index=%{x}<br>forecast_dates=%{y}<extra></extra>",
         "legendgroup": "",
         "line": {
          "color": "#636efa",
          "dash": "solid"
         },
         "marker": {
          "symbol": "circle"
         },
         "mode": "lines",
         "name": "",
         "orientation": "v",
         "showlegend": false,
         "type": "scatter",
         "x": [
          "2022-01-31T00:00:00",
          "2022-02-28T00:00:00",
          "2022-03-31T00:00:00",
          "2022-04-30T00:00:00",
          "2022-05-31T00:00:00",
          "2022-06-30T00:00:00",
          "2022-07-31T00:00:00",
          "2022-08-31T00:00:00",
          "2022-09-30T00:00:00",
          "2022-10-31T00:00:00",
          "2022-11-30T00:00:00",
          "2022-12-31T00:00:00",
          "2023-01-31T00:00:00",
          "2023-02-28T00:00:00",
          "2023-03-31T00:00:00",
          "2023-04-30T00:00:00",
          "2023-05-31T00:00:00",
          "2023-06-30T00:00:00",
          "2023-07-31T00:00:00",
          "2023-08-31T00:00:00",
          "2023-09-30T00:00:00",
          "2023-10-31T00:00:00",
          "2023-11-30T00:00:00",
          "2023-12-31T00:00:00",
          "2024-01-31T00:00:00",
          "2024-02-29T00:00:00",
          "2024-03-31T00:00:00",
          "2024-04-30T00:00:00",
          "2024-05-31T00:00:00",
          "2024-06-30T00:00:00",
          "2024-07-31T00:00:00",
          "2024-08-31T00:00:00",
          "2024-09-30T00:00:00",
          "2024-10-31T00:00:00",
          "2024-11-30T00:00:00",
          "2024-12-31T00:00:00",
          "2025-01-31T00:00:00",
          "2025-02-28T00:00:00",
          "2025-03-31T00:00:00",
          "2025-04-30T00:00:00",
          "2025-05-31T00:00:00",
          "2025-06-30T00:00:00",
          "2025-07-31T00:00:00",
          "2025-08-31T00:00:00",
          "2025-09-30T00:00:00",
          "2025-10-31T00:00:00",
          "2025-11-30T00:00:00",
          "2025-12-31T00:00:00"
         ],
         "xaxis": "x",
         "y": [
          null,
          null,
          null,
          null,
          null,
          null,
          null,
          null,
          null,
          null,
          null,
          null,
          null,
          null,
          null,
          null,
          null,
          null,
          null,
          null,
          null,
          null,
          null,
          null,
          null,
          null,
          null,
          null,
          null,
          null,
          null,
          null,
          null,
          null,
          null,
          null,
          null,
          null,
          null,
          null,
          null,
          null,
          null,
          null,
          null,
          null,
          null,
          null
         ],
         "yaxis": "y"
        }
       ],
       "layout": {
        "legend": {
         "tracegroupgap": 0
        },
        "template": {
         "data": {
          "bar": [
           {
            "error_x": {
             "color": "#2a3f5f"
            },
            "error_y": {
             "color": "#2a3f5f"
            },
            "marker": {
             "line": {
              "color": "#E5ECF6",
              "width": 0.5
             },
             "pattern": {
              "fillmode": "overlay",
              "size": 10,
              "solidity": 0.2
             }
            },
            "type": "bar"
           }
          ],
          "barpolar": [
           {
            "marker": {
             "line": {
              "color": "#E5ECF6",
              "width": 0.5
             },
             "pattern": {
              "fillmode": "overlay",
              "size": 10,
              "solidity": 0.2
             }
            },
            "type": "barpolar"
           }
          ],
          "carpet": [
           {
            "aaxis": {
             "endlinecolor": "#2a3f5f",
             "gridcolor": "white",
             "linecolor": "white",
             "minorgridcolor": "white",
             "startlinecolor": "#2a3f5f"
            },
            "baxis": {
             "endlinecolor": "#2a3f5f",
             "gridcolor": "white",
             "linecolor": "white",
             "minorgridcolor": "white",
             "startlinecolor": "#2a3f5f"
            },
            "type": "carpet"
           }
          ],
          "choropleth": [
           {
            "colorbar": {
             "outlinewidth": 0,
             "ticks": ""
            },
            "type": "choropleth"
           }
          ],
          "contour": [
           {
            "colorbar": {
             "outlinewidth": 0,
             "ticks": ""
            },
            "colorscale": [
             [
              0,
              "#0d0887"
             ],
             [
              0.1111111111111111,
              "#46039f"
             ],
             [
              0.2222222222222222,
              "#7201a8"
             ],
             [
              0.3333333333333333,
              "#9c179e"
             ],
             [
              0.4444444444444444,
              "#bd3786"
             ],
             [
              0.5555555555555556,
              "#d8576b"
             ],
             [
              0.6666666666666666,
              "#ed7953"
             ],
             [
              0.7777777777777778,
              "#fb9f3a"
             ],
             [
              0.8888888888888888,
              "#fdca26"
             ],
             [
              1,
              "#f0f921"
             ]
            ],
            "type": "contour"
           }
          ],
          "contourcarpet": [
           {
            "colorbar": {
             "outlinewidth": 0,
             "ticks": ""
            },
            "type": "contourcarpet"
           }
          ],
          "heatmap": [
           {
            "colorbar": {
             "outlinewidth": 0,
             "ticks": ""
            },
            "colorscale": [
             [
              0,
              "#0d0887"
             ],
             [
              0.1111111111111111,
              "#46039f"
             ],
             [
              0.2222222222222222,
              "#7201a8"
             ],
             [
              0.3333333333333333,
              "#9c179e"
             ],
             [
              0.4444444444444444,
              "#bd3786"
             ],
             [
              0.5555555555555556,
              "#d8576b"
             ],
             [
              0.6666666666666666,
              "#ed7953"
             ],
             [
              0.7777777777777778,
              "#fb9f3a"
             ],
             [
              0.8888888888888888,
              "#fdca26"
             ],
             [
              1,
              "#f0f921"
             ]
            ],
            "type": "heatmap"
           }
          ],
          "heatmapgl": [
           {
            "colorbar": {
             "outlinewidth": 0,
             "ticks": ""
            },
            "colorscale": [
             [
              0,
              "#0d0887"
             ],
             [
              0.1111111111111111,
              "#46039f"
             ],
             [
              0.2222222222222222,
              "#7201a8"
             ],
             [
              0.3333333333333333,
              "#9c179e"
             ],
             [
              0.4444444444444444,
              "#bd3786"
             ],
             [
              0.5555555555555556,
              "#d8576b"
             ],
             [
              0.6666666666666666,
              "#ed7953"
             ],
             [
              0.7777777777777778,
              "#fb9f3a"
             ],
             [
              0.8888888888888888,
              "#fdca26"
             ],
             [
              1,
              "#f0f921"
             ]
            ],
            "type": "heatmapgl"
           }
          ],
          "histogram": [
           {
            "marker": {
             "pattern": {
              "fillmode": "overlay",
              "size": 10,
              "solidity": 0.2
             }
            },
            "type": "histogram"
           }
          ],
          "histogram2d": [
           {
            "colorbar": {
             "outlinewidth": 0,
             "ticks": ""
            },
            "colorscale": [
             [
              0,
              "#0d0887"
             ],
             [
              0.1111111111111111,
              "#46039f"
             ],
             [
              0.2222222222222222,
              "#7201a8"
             ],
             [
              0.3333333333333333,
              "#9c179e"
             ],
             [
              0.4444444444444444,
              "#bd3786"
             ],
             [
              0.5555555555555556,
              "#d8576b"
             ],
             [
              0.6666666666666666,
              "#ed7953"
             ],
             [
              0.7777777777777778,
              "#fb9f3a"
             ],
             [
              0.8888888888888888,
              "#fdca26"
             ],
             [
              1,
              "#f0f921"
             ]
            ],
            "type": "histogram2d"
           }
          ],
          "histogram2dcontour": [
           {
            "colorbar": {
             "outlinewidth": 0,
             "ticks": ""
            },
            "colorscale": [
             [
              0,
              "#0d0887"
             ],
             [
              0.1111111111111111,
              "#46039f"
             ],
             [
              0.2222222222222222,
              "#7201a8"
             ],
             [
              0.3333333333333333,
              "#9c179e"
             ],
             [
              0.4444444444444444,
              "#bd3786"
             ],
             [
              0.5555555555555556,
              "#d8576b"
             ],
             [
              0.6666666666666666,
              "#ed7953"
             ],
             [
              0.7777777777777778,
              "#fb9f3a"
             ],
             [
              0.8888888888888888,
              "#fdca26"
             ],
             [
              1,
              "#f0f921"
             ]
            ],
            "type": "histogram2dcontour"
           }
          ],
          "mesh3d": [
           {
            "colorbar": {
             "outlinewidth": 0,
             "ticks": ""
            },
            "type": "mesh3d"
           }
          ],
          "parcoords": [
           {
            "line": {
             "colorbar": {
              "outlinewidth": 0,
              "ticks": ""
             }
            },
            "type": "parcoords"
           }
          ],
          "pie": [
           {
            "automargin": true,
            "type": "pie"
           }
          ],
          "scatter": [
           {
            "fillpattern": {
             "fillmode": "overlay",
             "size": 10,
             "solidity": 0.2
            },
            "type": "scatter"
           }
          ],
          "scatter3d": [
           {
            "line": {
             "colorbar": {
              "outlinewidth": 0,
              "ticks": ""
             }
            },
            "marker": {
             "colorbar": {
              "outlinewidth": 0,
              "ticks": ""
             }
            },
            "type": "scatter3d"
           }
          ],
          "scattercarpet": [
           {
            "marker": {
             "colorbar": {
              "outlinewidth": 0,
              "ticks": ""
             }
            },
            "type": "scattercarpet"
           }
          ],
          "scattergeo": [
           {
            "marker": {
             "colorbar": {
              "outlinewidth": 0,
              "ticks": ""
             }
            },
            "type": "scattergeo"
           }
          ],
          "scattergl": [
           {
            "marker": {
             "colorbar": {
              "outlinewidth": 0,
              "ticks": ""
             }
            },
            "type": "scattergl"
           }
          ],
          "scattermapbox": [
           {
            "marker": {
             "colorbar": {
              "outlinewidth": 0,
              "ticks": ""
             }
            },
            "type": "scattermapbox"
           }
          ],
          "scatterpolar": [
           {
            "marker": {
             "colorbar": {
              "outlinewidth": 0,
              "ticks": ""
             }
            },
            "type": "scatterpolar"
           }
          ],
          "scatterpolargl": [
           {
            "marker": {
             "colorbar": {
              "outlinewidth": 0,
              "ticks": ""
             }
            },
            "type": "scatterpolargl"
           }
          ],
          "scatterternary": [
           {
            "marker": {
             "colorbar": {
              "outlinewidth": 0,
              "ticks": ""
             }
            },
            "type": "scatterternary"
           }
          ],
          "surface": [
           {
            "colorbar": {
             "outlinewidth": 0,
             "ticks": ""
            },
            "colorscale": [
             [
              0,
              "#0d0887"
             ],
             [
              0.1111111111111111,
              "#46039f"
             ],
             [
              0.2222222222222222,
              "#7201a8"
             ],
             [
              0.3333333333333333,
              "#9c179e"
             ],
             [
              0.4444444444444444,
              "#bd3786"
             ],
             [
              0.5555555555555556,
              "#d8576b"
             ],
             [
              0.6666666666666666,
              "#ed7953"
             ],
             [
              0.7777777777777778,
              "#fb9f3a"
             ],
             [
              0.8888888888888888,
              "#fdca26"
             ],
             [
              1,
              "#f0f921"
             ]
            ],
            "type": "surface"
           }
          ],
          "table": [
           {
            "cells": {
             "fill": {
              "color": "#EBF0F8"
             },
             "line": {
              "color": "white"
             }
            },
            "header": {
             "fill": {
              "color": "#C8D4E3"
             },
             "line": {
              "color": "white"
             }
            },
            "type": "table"
           }
          ]
         },
         "layout": {
          "annotationdefaults": {
           "arrowcolor": "#2a3f5f",
           "arrowhead": 0,
           "arrowwidth": 1
          },
          "autotypenumbers": "strict",
          "coloraxis": {
           "colorbar": {
            "outlinewidth": 0,
            "ticks": ""
           }
          },
          "colorscale": {
           "diverging": [
            [
             0,
             "#8e0152"
            ],
            [
             0.1,
             "#c51b7d"
            ],
            [
             0.2,
             "#de77ae"
            ],
            [
             0.3,
             "#f1b6da"
            ],
            [
             0.4,
             "#fde0ef"
            ],
            [
             0.5,
             "#f7f7f7"
            ],
            [
             0.6,
             "#e6f5d0"
            ],
            [
             0.7,
             "#b8e186"
            ],
            [
             0.8,
             "#7fbc41"
            ],
            [
             0.9,
             "#4d9221"
            ],
            [
             1,
             "#276419"
            ]
           ],
           "sequential": [
            [
             0,
             "#0d0887"
            ],
            [
             0.1111111111111111,
             "#46039f"
            ],
            [
             0.2222222222222222,
             "#7201a8"
            ],
            [
             0.3333333333333333,
             "#9c179e"
            ],
            [
             0.4444444444444444,
             "#bd3786"
            ],
            [
             0.5555555555555556,
             "#d8576b"
            ],
            [
             0.6666666666666666,
             "#ed7953"
            ],
            [
             0.7777777777777778,
             "#fb9f3a"
            ],
            [
             0.8888888888888888,
             "#fdca26"
            ],
            [
             1,
             "#f0f921"
            ]
           ],
           "sequentialminus": [
            [
             0,
             "#0d0887"
            ],
            [
             0.1111111111111111,
             "#46039f"
            ],
            [
             0.2222222222222222,
             "#7201a8"
            ],
            [
             0.3333333333333333,
             "#9c179e"
            ],
            [
             0.4444444444444444,
             "#bd3786"
            ],
            [
             0.5555555555555556,
             "#d8576b"
            ],
            [
             0.6666666666666666,
             "#ed7953"
            ],
            [
             0.7777777777777778,
             "#fb9f3a"
            ],
            [
             0.8888888888888888,
             "#fdca26"
            ],
            [
             1,
             "#f0f921"
            ]
           ]
          },
          "colorway": [
           "#636efa",
           "#EF553B",
           "#00cc96",
           "#ab63fa",
           "#FFA15A",
           "#19d3f3",
           "#FF6692",
           "#B6E880",
           "#FF97FF",
           "#FECB52"
          ],
          "font": {
           "color": "#2a3f5f"
          },
          "geo": {
           "bgcolor": "white",
           "lakecolor": "white",
           "landcolor": "#E5ECF6",
           "showlakes": true,
           "showland": true,
           "subunitcolor": "white"
          },
          "hoverlabel": {
           "align": "left"
          },
          "hovermode": "closest",
          "mapbox": {
           "style": "light"
          },
          "paper_bgcolor": "white",
          "plot_bgcolor": "#E5ECF6",
          "polar": {
           "angularaxis": {
            "gridcolor": "white",
            "linecolor": "white",
            "ticks": ""
           },
           "bgcolor": "#E5ECF6",
           "radialaxis": {
            "gridcolor": "white",
            "linecolor": "white",
            "ticks": ""
           }
          },
          "scene": {
           "xaxis": {
            "backgroundcolor": "#E5ECF6",
            "gridcolor": "white",
            "gridwidth": 2,
            "linecolor": "white",
            "showbackground": true,
            "ticks": "",
            "zerolinecolor": "white"
           },
           "yaxis": {
            "backgroundcolor": "#E5ECF6",
            "gridcolor": "white",
            "gridwidth": 2,
            "linecolor": "white",
            "showbackground": true,
            "ticks": "",
            "zerolinecolor": "white"
           },
           "zaxis": {
            "backgroundcolor": "#E5ECF6",
            "gridcolor": "white",
            "gridwidth": 2,
            "linecolor": "white",
            "showbackground": true,
            "ticks": "",
            "zerolinecolor": "white"
           }
          },
          "shapedefaults": {
           "line": {
            "color": "#2a3f5f"
           }
          },
          "ternary": {
           "aaxis": {
            "gridcolor": "white",
            "linecolor": "white",
            "ticks": ""
           },
           "baxis": {
            "gridcolor": "white",
            "linecolor": "white",
            "ticks": ""
           },
           "bgcolor": "#E5ECF6",
           "caxis": {
            "gridcolor": "white",
            "linecolor": "white",
            "ticks": ""
           }
          },
          "title": {
           "x": 0.05
          },
          "xaxis": {
           "automargin": true,
           "gridcolor": "white",
           "linecolor": "white",
           "ticks": "",
           "title": {
            "standoff": 15
           },
           "zerolinecolor": "white",
           "zerolinewidth": 2
          },
          "yaxis": {
           "automargin": true,
           "gridcolor": "white",
           "linecolor": "white",
           "ticks": "",
           "title": {
            "standoff": 15
           },
           "zerolinecolor": "white",
           "zerolinewidth": 2
          }
         }
        },
        "title": {
         "text": "Forecast for the Next 48 Months"
        },
        "xaxis": {
         "anchor": "y",
         "domain": [
          0,
          1
         ],
         "title": {
          "text": "index"
         }
        },
        "yaxis": {
         "anchor": "x",
         "domain": [
          0,
          1
         ],
         "title": {
          "text": "forecast_dates"
         }
        }
       }
      }
     },
     "metadata": {},
     "output_type": "display_data"
    }
   ],
   "source": [
    "import pandas as pd\n",
    "import plotly.express as px\n",
    "\n",
    "# Forecast for the next 48 months (4 years)\n",
    "forecast_period = 48\n",
    "forecast = model.predict(n_periods=forecast_period)\n",
    "\n",
    "# Create forecast date index for 2022-2025\n",
    "forecast_dates = pd.date_range(start='2022-01-01', periods=forecast_period, freq='ME')\n",
    "forecast_series = pd.Series(forecast, index=forecast_dates)\n",
    "\n",
    "# Display predictions\n",
    "for year, value in zip(range(2022, 2026), forecast[:48:12]):\n",
    "    print(f\"The predicted value for {year} is {value:.2f}\")\n",
    "\n",
    "# Plot the forecast using Plotly Express\n",
    "fig = px.line(forecast_series, x=forecast_series.index, y=forecast_series.values, \n",
    "              labels={'x': 'Date', 'y': 'forecast_dates'}, \n",
    "              title='Forecast for the Next 48 Months')\n",
    "\n",
    "# Show the plot\n",
    "fig.show()\n"
   ]
  },
  {
   "cell_type": "code",
   "execution_count": 14,
   "metadata": {},
   "outputs": [
    {
     "name": "stdout",
     "output_type": "stream",
     "text": [
      "Predicted values for the next 48 months:\n",
      "Month 1: 1488.3657493079586\n",
      "Month 2: -1.1403279288128616e-11\n",
      "Month 3: 1.8205671563883853e-11\n",
      "Month 4: 3.822424325194734e-12\n",
      "Month 5: -2.4716366273504037e-11\n",
      "Month 6: -1.0424261321014787e-11\n",
      "Month 7: 6.930585705317477e-12\n",
      "Month 8: 1.1253549083882608\n",
      "Month 9: 199.88923915210302\n",
      "Month 10: 19999.52911400112\n",
      "Month 11: 19599.36958432299\n",
      "Month 12: 524.0622831959739\n",
      "Month 13: 896.5767507234067\n",
      "Month 14: 5.784802216010367e-12\n",
      "Month 15: 8.192096126591199e-13\n",
      "Month 16: 3.6857275624043775e-12\n",
      "Month 17: 6.209829833230589e-12\n",
      "Month 18: 2.3808002762052206e-12\n",
      "Month 19: -4.055445771675528e-12\n",
      "Month 20: 5.13279455385451\n",
      "Month 21: -37.58599999815567\n",
      "Month 22: -811.8294045664261\n",
      "Month 23: -6390.1884571963155\n",
      "Month 24: -809.1301521727362\n",
      "Month 25: 518.1018478405898\n",
      "Month 26: -3.094942525390246e-12\n",
      "Month 27: -4.382875287265721e-13\n",
      "Month 28: -1.971910973605497e-12\n",
      "Month 29: -3.3223376891107053e-12\n",
      "Month 30: -1.2737583315977584e-12\n",
      "Month 31: 2.1697149028595513e-12\n",
      "Month 32: -2.746110159972202\n",
      "Month 33: 20.108986514985325\n",
      "Month 34: 434.33902383057233\n",
      "Month 35: 3418.83183952219\n",
      "Month 36: 432.8948895787787\n",
      "Month 37: -277.1910570990962\n",
      "Month 38: 1.6558334888197994e-12\n",
      "Month 39: 2.3448938448574884e-13\n",
      "Month 40: 1.0549973708011037e-12\n",
      "Month 41: 1.7774927843301483e-12\n",
      "Month 42: 6.814768561354333e-13\n",
      "Month 43: -1.1608249807137327e-12\n",
      "Month 44: 1.469203750818254\n",
      "Month 45: -10.758562727603469\n",
      "Month 46: -232.37688430717415\n",
      "Month 47: -1829.1183781548364\n",
      "Month 48: -231.604254173705\n"
     ]
    },
    {
     "data": {
      "image/png": "[encoded data removed]",
      "text/plain": [
       "<Figure size 1000x600 with 1 Axes>"
      ]
     },
     "metadata": {},
     "output_type": "display_data"
    }
   ],
   "source": [
    "import matplotlib.pyplot as plt\n",
    "import numpy as np\n",
    "from sklearn.metrics import mean_absolute_error, mean_squared_error\n",
    "\n",
    "# Assuming 'model' is already trained and forecast_period is set to 48 (next 48 months)\n",
    "forecast_period = 48\n",
    "forecast = model.predict(n_periods=forecast_period)\n",
    "\n",
    "# Display all predicted values\n",
    "print(\"Predicted values for the next 48 months:\")\n",
    "for i, value in enumerate(forecast, start=1):\n",
    "    print(f\"Month {i}: {value}\")\n",
    "\n",
    "# Plotting the forecast\n",
    "plt.figure(figsize=(10, 6))\n",
    "plt.plot(np.arange(1, forecast_period + 1), forecast, marker='o', linestyle='-', color='b', label='Forecast')\n",
    "plt.title(\"Forecast for the Next 48 Months\")\n",
    "plt.xlabel(\"Months\")\n",
    "plt.ylabel(\"Predicted Value\")\n",
    "plt.legend()\n",
    "plt.grid(True)\n",
    "plt.show()\n"
   ]
  },
  {
   "cell_type": "code",
   "execution_count": null,
   "metadata": {},
   "outputs": [],
   "source": []
  },
  {
   "cell_type": "code",
   "execution_count": 15,
   "metadata": {},
   "outputs": [
    {
     "name": "stderr",
     "output_type": "stream",
     "text": [
      "C:\\Users\\goelk\\AppData\\Local\\Temp\\ipykernel_20608\\3573445340.py:19: FutureWarning:\n",
      "\n",
      "'M' is deprecated and will be removed in a future version, please use 'ME' instead.\n",
      "\n"
     ]
    },
    {
     "data": {
      "text/plain": [
       "((78, 14), (34, 14))"
      ]
     },
     "execution_count": 15,
     "metadata": {},
     "output_type": "execute_result"
    }
   ],
   "source": [
    "import pandas as pd\n",
    "from sklearn.model_selection import train_test_split\n",
    "\n",
    "# Load the dataset\n",
    "file_path = 'D:\\\\stubble buring\\\\stubble\\\\STN1.csv'\n",
    "data = pd.read_csv(file_path)\n",
    "\n",
    "# Display the first few rows to understand the structure of the dataset\n",
    "data.head()\n",
    "\n",
    "# Parse the DATE column as datetime\n",
    "data['DATE'] = pd.to_datetime(data['DATE'], format='%d-%m-%Y')\n",
    "\n",
    "# Check for missing values in the dataset\n",
    "missing_summary = data.isnull().sum()\n",
    "\n",
    "# Aggregate daily data into monthly data by summing\n",
    "data.set_index('DATE', inplace=True)\n",
    "monthly_data = data.resample('M').sum()\n",
    "\n",
    "# Fill missing values using linear interpolation for simplicity\n",
    "monthly_data_imputed = monthly_data.interpolate(method='linear')\n",
    "\n",
    "# Verify if missing values are handled\n",
    "missing_summary_after_imputation = monthly_data_imputed.isnull().sum()\n",
    "\n",
    "# Split the data into training (70%) and testing (30%) based on years\n",
    "# Identify the cutoff year for 70% of the data\n",
    "cutoff_year = int(len(monthly_data_imputed) * 0.7)\n",
    "train_data = monthly_data_imputed.iloc[:cutoff_year]\n",
    "test_data = monthly_data_imputed.iloc[cutoff_year:]\n",
    "\n",
    "# Display the shapes of the split data\n",
    "train_data.shape, test_data.shape\n"
   ]
  },
  {
   "cell_type": "code",
   "execution_count": 16,
   "metadata": {},
   "outputs": [
    {
     "name": "stderr",
     "output_type": "stream",
     "text": [
      "C:\\Users\\goelk\\AppData\\Local\\Temp\\ipykernel_20608\\2638665677.py:15: FutureWarning:\n",
      "\n",
      "'M' is deprecated and will be removed in a future version, please use 'ME' instead.\n",
      "\n"
     ]
    },
    {
     "name": "stdout",
     "output_type": "stream",
     "text": [
      "Performing stepwise search to minimize aic\n",
      " ARIMA(2,0,2)(1,0,1)[12] intercept   : AIC=1662.247, Time=0.35 sec\n",
      " ARIMA(0,0,0)(0,0,0)[12] intercept   : AIC=1695.098, Time=0.01 sec\n",
      " ARIMA(1,0,0)(1,0,0)[12] intercept   : AIC=1668.344, Time=0.04 sec\n",
      " ARIMA(0,0,1)(0,0,1)[12] intercept   : AIC=1664.573, Time=0.04 sec\n",
      " ARIMA(0,0,0)(0,0,0)[12]             : AIC=1701.267, Time=0.01 sec\n",
      " ARIMA(2,0,2)(0,0,1)[12] intercept   : AIC=1669.109, Time=0.14 sec\n",
      " ARIMA(2,0,2)(1,0,0)[12] intercept   : AIC=1662.727, Time=0.15 sec\n",
      " ARIMA(2,0,2)(2,0,1)[12] intercept   : AIC=1658.435, Time=0.49 sec\n",
      " ARIMA(2,0,2)(2,0,0)[12] intercept   : AIC=1662.469, Time=0.56 sec\n",
      " ARIMA(2,0,2)(2,0,2)[12] intercept   : AIC=1657.129, Time=0.46 sec\n",
      " ARIMA(2,0,2)(1,0,2)[12] intercept   : AIC=1657.611, Time=0.70 sec\n",
      " ARIMA(1,0,2)(2,0,2)[12] intercept   : AIC=1655.223, Time=0.56 sec\n",
      " ARIMA(1,0,2)(1,0,2)[12] intercept   : AIC=1661.790, Time=0.47 sec\n",
      " ARIMA(1,0,2)(2,0,1)[12] intercept   : AIC=1656.495, Time=0.59 sec\n",
      " ARIMA(1,0,2)(1,0,1)[12] intercept   : AIC=1660.153, Time=0.15 sec\n",
      " ARIMA(0,0,2)(2,0,2)[12] intercept   : AIC=1653.962, Time=0.42 sec\n",
      " ARIMA(0,0,2)(1,0,2)[12] intercept   : AIC=1653.726, Time=0.55 sec\n",
      " ARIMA(0,0,2)(0,0,2)[12] intercept   : AIC=1654.302, Time=0.18 sec\n",
      " ARIMA(0,0,2)(1,0,1)[12] intercept   : AIC=1659.729, Time=0.08 sec\n",
      " ARIMA(0,0,2)(0,0,1)[12] intercept   : AIC=1666.338, Time=0.06 sec\n",
      " ARIMA(0,0,2)(2,0,1)[12] intercept   : AIC=1654.758, Time=0.31 sec\n",
      " ARIMA(0,0,1)(1,0,2)[12] intercept   : AIC=1651.828, Time=0.59 sec\n",
      " ARIMA(0,0,1)(0,0,2)[12] intercept   : AIC=1652.394, Time=0.14 sec\n",
      " ARIMA(0,0,1)(1,0,1)[12] intercept   : AIC=1657.608, Time=0.06 sec\n",
      " ARIMA(0,0,1)(2,0,2)[12] intercept   : AIC=1652.055, Time=0.27 sec\n",
      " ARIMA(0,0,1)(2,0,1)[12] intercept   : AIC=1652.839, Time=0.29 sec\n",
      " ARIMA(0,0,0)(1,0,2)[12] intercept   : AIC=1677.275, Time=0.30 sec\n",
      " ARIMA(1,0,1)(1,0,2)[12] intercept   : AIC=1661.534, Time=0.34 sec\n",
      " ARIMA(1,0,0)(1,0,2)[12] intercept   : AIC=1664.602, Time=0.31 sec\n",
      " ARIMA(0,0,1)(1,0,2)[12]             : AIC=1655.849, Time=0.20 sec\n",
      "\n",
      "Best model:  ARIMA(0,0,1)(1,0,2)[12] intercept\n",
      "Total fit time: 8.850 seconds\n"
     ]
    },
    {
     "name": "stderr",
     "output_type": "stream",
     "text": [
      "C:\\Users\\goelk\\AppData\\Local\\Temp\\ipykernel_20608\\2638665677.py:36: FutureWarning:\n",
      "\n",
      "'M' is deprecated and will be removed in a future version, please use 'ME' instead.\n",
      "\n"
     ]
    },
    {
     "name": "stdout",
     "output_type": "stream",
     "text": [
      "The predicted value for 2022 is 1361.78\n",
      "The predicted value for 2023 is nan\n",
      "The predicted value for 2024 is nan\n",
      "The predicted value for 2025 is nan\n"
     ]
    },
    {
     "data": {
      "image/png": "[encoded data removed]",
      "text/plain": [
       "<Figure size 1000x600 with 1 Axes>"
      ]
     },
     "metadata": {},
     "output_type": "display_data"
    }
   ],
   "source": [
    "import pandas as pd\n",
    "from pmdarima import auto_arima\n",
    "import numpy as np\n",
    "import matplotlib.pyplot as plt\n",
    "\n",
    "# Load the dataset\n",
    "file_path = 'D:\\\\stubble buring\\\\stubble\\\\STN1.csv'\n",
    "data = pd.read_csv(file_path)\n",
    "\n",
    "# Parse the DATE column as datetime\n",
    "data['DATE'] = pd.to_datetime(data['DATE'], format='%d-%m-%Y')\n",
    "\n",
    "# Aggregate daily data into monthly data by summing\n",
    "data.set_index('DATE', inplace=True)\n",
    "monthly_data = data.resample('M').sum()\n",
    "\n",
    "# Fill missing values using linear interpolation for simplicity\n",
    "monthly_data_imputed = monthly_data.interpolate(method='linear')\n",
    "\n",
    "# Split the data into training (70%) and testing (30%)\n",
    "cutoff_year = int(len(monthly_data_imputed) * 0.7)\n",
    "train_data = monthly_data_imputed.iloc[:cutoff_year]\n",
    "test_data = monthly_data_imputed.iloc[cutoff_year:]\n",
    "\n",
    "# For example, we will predict 'FIRECOUNT', you can choose any other column\n",
    "train_series = train_data['FIRECOUNT']\n",
    "test_series = test_data['FIRECOUNT']\n",
    "\n",
    "# Fit Auto-ARIMA model\n",
    "model = auto_arima(train_series, seasonal=True, m=12, stepwise=True, trace=True)\n",
    "\n",
    "# Forecast for the next 48 months (4 years)\n",
    "forecast, conf_int = model.predict(n_periods=48, return_conf_int=True)\n",
    "\n",
    "# Generate forecasted dates (from January 2022 to December 2025)\n",
    "forecast_dates = pd.date_range(start='2022-01-01', periods=48, freq='M')\n",
    "\n",
    "# Display the forecast\n",
    "forecast_df = pd.DataFrame(forecast, index=forecast_dates, columns=['Forecast'])\n",
    "\n",
    "# Print predicted values in the requested format\n",
    "for year in range(2022, 2026):\n",
    "    forecast_value = forecast_df.loc[f\"{year}-12-31\", 'Forecast']\n",
    "    print(f\"The predicted value for {year} is {forecast_value:.2f}\")\n",
    "\n",
    "# Plot the results\n",
    "plt.figure(figsize=(10,6))\n",
    "plt.plot(monthly_data_imputed.index, monthly_data_imputed['FIRECOUNT'], label='Historical Data')\n",
    "plt.plot(forecast_df.index, forecast_df['Forecast'], label='Forecasted Data', color='red')\n",
    "plt.fill_between(forecast_df.index, conf_int[:, 0], conf_int[:, 1], color='pink', alpha=0.3)\n",
    "plt.legend()\n",
    "plt.title('FIRECOUNT Forecasting')\n",
    "plt.xlabel('Date')\n",
    "plt.ylabel('FIRECOUNT')\n",
    "plt.show()\n"
   ]
  },
  {
   "cell_type": "code",
   "execution_count": 17,
   "metadata": {},
   "outputs": [
    {
     "name": "stderr",
     "output_type": "stream",
     "text": [
      "C:\\Users\\goelk\\AppData\\Local\\Temp\\ipykernel_20608\\613383652.py:15: FutureWarning:\n",
      "\n",
      "DataFrame.fillna with 'method' is deprecated and will raise in a future version. Use obj.ffill() or obj.bfill() instead.\n",
      "\n"
     ]
    },
    {
     "name": "stdout",
     "output_type": "stream",
     "text": [
      "True\n",
      "Performing stepwise search to minimize aic\n",
      " ARIMA(2,1,2)(0,0,0)[0] intercept   : AIC=3617.081, Time=0.33 sec\n",
      " ARIMA(0,1,0)(0,0,0)[0] intercept   : AIC=3850.702, Time=0.01 sec\n",
      " ARIMA(1,1,0)(0,0,0)[0] intercept   : AIC=3801.220, Time=0.02 sec\n",
      " ARIMA(0,1,1)(0,0,0)[0] intercept   : AIC=inf, Time=0.04 sec\n",
      " ARIMA(0,1,0)(0,0,0)[0]             : AIC=3848.704, Time=0.01 sec\n",
      " ARIMA(1,1,2)(0,0,0)[0] intercept   : AIC=inf, Time=0.20 sec\n",
      " ARIMA(2,1,1)(0,0,0)[0] intercept   : AIC=3651.545, Time=0.26 sec\n",
      " ARIMA(3,1,2)(0,0,0)[0] intercept   : AIC=3473.056, Time=0.08 sec\n",
      " ARIMA(3,1,1)(0,0,0)[0] intercept   : AIC=3471.070, Time=0.11 sec\n",
      " ARIMA(3,1,0)(0,0,0)[0] intercept   : AIC=3469.303, Time=0.04 sec\n",
      " ARIMA(2,1,0)(0,0,0)[0] intercept   : AIC=3772.941, Time=0.03 sec\n",
      " ARIMA(4,1,0)(0,0,0)[0] intercept   : AIC=3471.077, Time=0.05 sec\n",
      " ARIMA(4,1,1)(0,0,0)[0] intercept   : AIC=inf, Time=0.33 sec\n",
      " ARIMA(3,1,0)(0,0,0)[0]             : AIC=3467.311, Time=0.06 sec\n",
      " ARIMA(2,1,0)(0,0,0)[0]             : AIC=3770.939, Time=0.01 sec\n",
      " ARIMA(4,1,0)(0,0,0)[0]             : AIC=3469.085, Time=0.03 sec\n",
      " ARIMA(3,1,1)(0,0,0)[0]             : AIC=3469.078, Time=0.08 sec\n",
      " ARIMA(2,1,1)(0,0,0)[0]             : AIC=inf, Time=0.11 sec\n",
      " ARIMA(4,1,1)(0,0,0)[0]             : AIC=inf, Time=0.32 sec\n",
      "\n",
      "Best model:  ARIMA(3,1,0)(0,0,0)[0]          \n",
      "Total fit time: 2.124 seconds\n",
      "                               SARIMAX Results                                \n",
      "==============================================================================\n",
      "Dep. Variable:                      y   No. Observations:                  212\n",
      "Model:               SARIMAX(3, 1, 0)   Log Likelihood               -1729.655\n",
      "Date:                Sun, 01 Dec 2024   AIC                           3467.311\n",
      "Time:                        12:20:46   BIC                           3480.718\n",
      "Sample:                             0   HQIC                          3472.730\n",
      "                                - 212                                         \n",
      "Covariance Type:                  opg                                         \n",
      "==============================================================================\n",
      "                 coef    std err          z      P>|z|      [0.025      0.975]\n",
      "------------------------------------------------------------------------------\n",
      "ar.L1         -0.9551      0.122     -7.817      0.000      -1.195      -0.716\n",
      "ar.L2         -0.9220      0.111     -8.289      0.000      -1.140      -0.704\n",
      "ar.L3         -0.8783      0.017    -51.207      0.000      -0.912      -0.845\n",
      "sigma2      7.639e+05   3.55e+04     21.515      0.000    6.94e+05    8.33e+05\n",
      "===================================================================================\n",
      "Ljung-Box (L1) (Q):                   0.19   Jarque-Bera (JB):               490.94\n",
      "Prob(Q):                              0.66   Prob(JB):                         0.00\n",
      "Heteroskedasticity (H):               0.88   Skew:                             1.00\n",
      "Prob(H) (two-sided):                  0.59   Kurtosis:                        10.20\n",
      "===================================================================================\n",
      "\n",
      "Warnings:\n",
      "[1] Covariance matrix calculated using the outer product of gradients (complex-step).\n",
      "The predicted FIRECOUNT for 2020-02-09 is 128.49\n",
      "The predicted FIRECOUNT for 2020-02-10 is 347.17\n",
      "The predicted FIRECOUNT for 2020-02-11 is 3114.41\n",
      "The predicted FIRECOUNT for 2020-02-12 is 214.97\n",
      "The predicted FIRECOUNT for 2020-03-09 is 240.58\n",
      "The predicted FIRECOUNT for 2020-03-10 is 458.99\n",
      "The predicted FIRECOUNT for 2020-03-11 is 2773.41\n",
      "The predicted FIRECOUNT for 2020-03-12 is 339.09\n",
      "The predicted FIRECOUNT for 2020-04-09 is 338.24\n",
      "The predicted FIRECOUNT for 2020-04-10 is 550.79\n",
      "The predicted FIRECOUNT for 2020-04-11 is 2486.68\n",
      "The predicted FIRECOUNT for 2020-04-12 is 442.52\n",
      "The predicted FIRECOUNT for 2020-05-09 is 423.20\n",
      "The predicted FIRECOUNT for 2020-05-10 is 626.11\n",
      "The predicted FIRECOUNT for 2020-05-11 is 2245.55\n",
      "The predicted FIRECOUNT for 2020-05-12 is 528.74\n",
      "The predicted FIRECOUNT for 2020-06-09 is 497.02\n",
      "The predicted FIRECOUNT for 2020-06-10 is 687.90\n",
      "The predicted FIRECOUNT for 2020-06-11 is 2042.75\n",
      "The predicted FIRECOUNT for 2020-06-12 is 600.63\n",
      "The predicted FIRECOUNT for 2020-07-09 is 561.09\n",
      "The predicted FIRECOUNT for 2020-07-10 is 738.55\n",
      "The predicted FIRECOUNT for 2020-07-11 is 1872.16\n",
      "The predicted FIRECOUNT for 2020-07-12 is 660.58\n",
      "The predicted FIRECOUNT for 2020-08-09 is 616.63\n",
      "The predicted FIRECOUNT for 2020-08-10 is 780.06\n",
      "The predicted FIRECOUNT for 2020-08-11 is 1728.65\n",
      "The predicted FIRECOUNT for 2020-08-12 is 710.59\n",
      "The predicted FIRECOUNT for 2020-09-09 is 664.74\n",
      "The predicted FIRECOUNT for 2020-09-10 is 814.05\n",
      "The predicted FIRECOUNT for 2020-09-11 is 1607.90\n",
      "The predicted FIRECOUNT for 2020-09-12 is 752.31\n",
      "The predicted FIRECOUNT for 2020-10-09 is 706.36\n",
      "The predicted FIRECOUNT for 2020-10-10 is 841.88\n",
      "The predicted FIRECOUNT for 2020-10-11 is 1506.30\n",
      "The predicted FIRECOUNT for 2020-10-12 is 787.13\n",
      "The predicted FIRECOUNT for 2020-11-09 is 742.34\n",
      "The predicted FIRECOUNT for 2020-11-10 is 864.65\n",
      "The predicted FIRECOUNT for 2020-11-11 is 1420.79\n",
      "The predicted FIRECOUNT for 2020-11-12 is 816.20\n",
      "The predicted FIRECOUNT for 2020-12-09 is 773.42\n",
      "The predicted FIRECOUNT for 2020-12-10 is 883.26\n",
      "The predicted FIRECOUNT for 2020-12-11 is 1348.82\n",
      "The predicted FIRECOUNT for 2020-12-12 is 840.48\n",
      "The predicted FIRECOUNT for 2021-01-09 is 800.25\n",
      "The predicted FIRECOUNT for 2021-01-10 is 898.47\n",
      "The predicted FIRECOUNT for 2021-01-11 is 1288.24\n",
      "The predicted FIRECOUNT for 2021-01-12 is 860.75\n",
      "The predicted FIRECOUNT for 2021-02-09 is 823.38\n",
      "The predicted FIRECOUNT for 2021-02-10 is 910.89\n",
      "The predicted FIRECOUNT for 2021-02-11 is 1237.24\n",
      "The predicted FIRECOUNT for 2021-02-12 is 877.69\n",
      "The predicted FIRECOUNT for 2021-03-09 is 843.32\n",
      "The predicted FIRECOUNT for 2021-03-10 is 921.03\n",
      "The predicted FIRECOUNT for 2021-03-11 is 1194.30\n",
      "The predicted FIRECOUNT for 2021-03-12 is 891.84\n",
      "The predicted FIRECOUNT for 2021-04-09 is 860.49\n",
      "The predicted FIRECOUNT for 2021-04-10 is 929.29\n",
      "The predicted FIRECOUNT for 2021-04-11 is 1158.15\n",
      "The predicted FIRECOUNT for 2021-04-12 is 903.67\n",
      "The predicted FIRECOUNT for 2021-05-09 is 875.28\n",
      "The predicted FIRECOUNT for 2021-05-10 is 936.02\n",
      "The predicted FIRECOUNT for 2021-05-11 is 1127.70\n",
      "The predicted FIRECOUNT for 2021-05-12 is 913.56\n",
      "The predicted FIRECOUNT for 2021-06-09 is 887.99\n",
      "The predicted FIRECOUNT for 2021-06-10 is 941.50\n",
      "The predicted FIRECOUNT for 2021-06-11 is 1102.05\n",
      "The predicted FIRECOUNT for 2021-06-12 is 921.83\n",
      "The predicted FIRECOUNT for 2021-07-09 is 898.92\n",
      "The predicted FIRECOUNT for 2021-07-10 is 945.96\n",
      "The predicted FIRECOUNT for 2021-07-11 is 1080.45\n",
      "The predicted FIRECOUNT for 2021-07-12 is 928.76\n",
      "The predicted FIRECOUNT for 2021-08-09 is 908.32\n",
      "The predicted FIRECOUNT for 2021-08-10 is 949.58\n",
      "The predicted FIRECOUNT for 2021-08-11 is 1062.25\n",
      "The predicted FIRECOUNT for 2021-08-12 is 934.55\n",
      "The predicted FIRECOUNT for 2021-09-09 is 916.39\n",
      "The predicted FIRECOUNT for 2021-09-10 is 952.52\n",
      "The predicted FIRECOUNT for 2021-09-11 is 1046.92\n",
      "The predicted FIRECOUNT for 2021-09-12 is 939.40\n",
      "The predicted FIRECOUNT for 2021-10-09 is 923.31\n",
      "The predicted FIRECOUNT for 2021-10-10 is 954.90\n",
      "The predicted FIRECOUNT for 2021-10-11 is 1034.00\n",
      "The predicted FIRECOUNT for 2021-10-12 is 943.45\n",
      "The predicted FIRECOUNT for 2021-11-09 is 929.25\n",
      "The predicted FIRECOUNT for 2021-11-10 is 956.83\n",
      "The predicted FIRECOUNT for 2021-11-11 is 1023.11\n",
      "The predicted FIRECOUNT for 2021-11-12 is 946.85\n",
      "The predicted FIRECOUNT for 2021-12-09 is 934.35\n",
      "The predicted FIRECOUNT for 2021-12-10 is 958.39\n",
      "The predicted FIRECOUNT for 2021-12-11 is 1013.94\n",
      "The predicted FIRECOUNT for 2021-12-12 is 949.70\n",
      "The predicted FIRECOUNT for 2021-12-31 is 128.49\n",
      "The predicted FIRECOUNT for 2022-01-31 is 347.17\n",
      "The predicted FIRECOUNT for 2022-02-28 is 3114.41\n",
      "The predicted FIRECOUNT for 2022-03-31 is 214.97\n",
      "The predicted FIRECOUNT for 2022-04-30 is 240.58\n",
      "The predicted FIRECOUNT for 2022-05-31 is 458.99\n",
      "The predicted FIRECOUNT for 2022-06-30 is 2773.41\n",
      "The predicted FIRECOUNT for 2022-07-31 is 339.09\n",
      "The predicted FIRECOUNT for 2022-08-31 is 338.24\n",
      "The predicted FIRECOUNT for 2022-09-30 is 550.79\n",
      "The predicted FIRECOUNT for 2022-10-31 is 2486.68\n",
      "The predicted FIRECOUNT for 2022-11-30 is 442.52\n",
      "The predicted FIRECOUNT for 2022-12-31 is 423.20\n",
      "The predicted FIRECOUNT for 2023-01-31 is 626.11\n",
      "The predicted FIRECOUNT for 2023-02-28 is 2245.55\n",
      "The predicted FIRECOUNT for 2023-03-31 is 528.74\n",
      "The predicted FIRECOUNT for 2023-04-30 is 497.02\n",
      "The predicted FIRECOUNT for 2023-05-31 is 687.90\n",
      "The predicted FIRECOUNT for 2023-06-30 is 2042.75\n",
      "The predicted FIRECOUNT for 2023-07-31 is 600.63\n",
      "The predicted FIRECOUNT for 2023-08-31 is 561.09\n",
      "The predicted FIRECOUNT for 2023-09-30 is 738.55\n",
      "The predicted FIRECOUNT for 2023-10-31 is 1872.16\n",
      "The predicted FIRECOUNT for 2023-11-30 is 660.58\n",
      "The predicted FIRECOUNT for 2023-12-31 is 616.63\n",
      "The predicted FIRECOUNT for 2024-01-31 is 780.06\n",
      "The predicted FIRECOUNT for 2024-02-29 is 1728.65\n",
      "The predicted FIRECOUNT for 2024-03-31 is 710.59\n",
      "The predicted FIRECOUNT for 2024-04-30 is 664.74\n",
      "The predicted FIRECOUNT for 2024-05-31 is 814.05\n",
      "The predicted FIRECOUNT for 2024-06-30 is 1607.90\n",
      "The predicted FIRECOUNT for 2024-07-31 is 752.31\n",
      "The predicted FIRECOUNT for 2024-08-31 is 706.36\n",
      "The predicted FIRECOUNT for 2024-09-30 is 841.88\n",
      "The predicted FIRECOUNT for 2024-10-31 is 1506.30\n",
      "The predicted FIRECOUNT for 2024-11-30 is 787.13\n",
      "The predicted FIRECOUNT for 2024-12-31 is 742.34\n",
      "The predicted FIRECOUNT for 2025-01-31 is 864.65\n",
      "The predicted FIRECOUNT for 2025-02-28 is 1420.79\n",
      "The predicted FIRECOUNT for 2025-03-31 is 816.20\n",
      "The predicted FIRECOUNT for 2025-04-30 is 773.42\n",
      "The predicted FIRECOUNT for 2025-05-31 is 883.26\n",
      "The predicted FIRECOUNT for 2025-06-30 is 1348.82\n",
      "The predicted FIRECOUNT for 2025-07-31 is 840.48\n",
      "The predicted FIRECOUNT for 2025-08-31 is 800.25\n",
      "The predicted FIRECOUNT for 2025-09-30 is 898.47\n",
      "The predicted FIRECOUNT for 2025-10-31 is 1288.24\n",
      "The predicted FIRECOUNT for 2025-11-30 is 860.75\n"
     ]
    },
    {
     "name": "stderr",
     "output_type": "stream",
     "text": [
      "e:\\Anaconda\\Lib\\site-packages\\statsmodels\\tsa\\base\\tsa_model.py:836: ValueWarning:\n",
      "\n",
      "No supported index is available. Prediction results will be given with an integer index beginning at `start`.\n",
      "\n",
      "e:\\Anaconda\\Lib\\site-packages\\statsmodels\\tsa\\base\\tsa_model.py:836: FutureWarning:\n",
      "\n",
      "No supported index is available. In the next version, calling this method in a model without a supported index will result in an exception.\n",
      "\n",
      "e:\\Anaconda\\Lib\\site-packages\\statsmodels\\tsa\\base\\tsa_model.py:836: ValueWarning:\n",
      "\n",
      "No supported index is available. Prediction results will be given with an integer index beginning at `start`.\n",
      "\n",
      "e:\\Anaconda\\Lib\\site-packages\\statsmodels\\tsa\\base\\tsa_model.py:836: FutureWarning:\n",
      "\n",
      "No supported index is available. In the next version, calling this method in a model without a supported index will result in an exception.\n",
      "\n",
      "C:\\Users\\goelk\\AppData\\Local\\Temp\\ipykernel_20608\\613383652.py:43: FutureWarning:\n",
      "\n",
      "'M' is deprecated and will be removed in a future version, please use 'ME' instead.\n",
      "\n"
     ]
    },
    {
     "data": {
      "application/vnd.plotly.v1+json": {
       "config": {
        "plotlyServerURL": "https://plot.ly"
       },
       "data": [
        {
         "hovertemplate": "<extra></extra>",
         "legendgroup": "",
         "line": {
          "color": "#636efa",
          "dash": "solid"
         },
         "marker": {
          "symbol": "circle"
         },
         "mode": "lines",
         "name": "",
         "orientation": "v",
         "showlegend": false,
         "type": "scatter",
         "xaxis": "x",
         "yaxis": "y"
        },
        {
         "mode": "lines",
         "name": "Training Data",
         "type": "scatter",
         "x": [
          "2012-09-09T00:00:00",
          "2012-09-10T00:00:00",
          "2012-09-11T00:00:00",
          "2012-09-12T00:00:00",
          "2012-10-09T00:00:00",
          "2012-10-10T00:00:00",
          "2012-10-11T00:00:00",
          "2012-10-12T00:00:00",
          "2012-11-09T00:00:00",
          "2012-11-10T00:00:00",
          "2012-11-11T00:00:00",
          "2012-11-12T00:00:00",
          "2012-12-09T00:00:00",
          "2012-12-10T00:00:00",
          "2012-12-11T00:00:00",
          "2012-12-12T00:00:00",
          "2016-01-09T00:00:00",
          "2016-01-10T00:00:00",
          "2016-01-11T00:00:00",
          "2016-01-12T00:00:00",
          "2016-02-09T00:00:00",
          "2016-02-10T00:00:00",
          "2016-02-11T00:00:00",
          "2016-02-12T00:00:00",
          "2016-03-09T00:00:00",
          "2016-03-10T00:00:00",
          "2016-03-11T00:00:00",
          "2016-03-12T00:00:00",
          "2016-04-09T00:00:00",
          "2016-04-10T00:00:00",
          "2016-04-11T00:00:00",
          "2016-04-12T00:00:00",
          "2016-05-09T00:00:00",
          "2016-05-10T00:00:00",
          "2016-05-11T00:00:00",
          "2016-05-12T00:00:00",
          "2016-06-09T00:00:00",
          "2016-06-10T00:00:00",
          "2016-06-11T00:00:00",
          "2016-06-12T00:00:00",
          "2016-07-09T00:00:00",
          "2016-07-10T00:00:00",
          "2016-07-11T00:00:00",
          "2016-07-12T00:00:00",
          "2016-08-09T00:00:00",
          "2016-08-10T00:00:00",
          "2016-08-11T00:00:00",
          "2016-08-12T00:00:00",
          "2016-09-09T00:00:00",
          "2016-09-10T00:00:00",
          "2016-09-11T00:00:00",
          "2016-09-12T00:00:00",
          "2016-10-09T00:00:00",
          "2016-10-10T00:00:00",
          "2016-10-11T00:00:00",
          "2016-10-12T00:00:00",
          "2016-11-09T00:00:00",
          "2016-11-10T00:00:00",
          "2016-11-11T00:00:00",
          "2016-11-12T00:00:00",
          "2016-12-09T00:00:00",
          "2016-12-10T00:00:00",
          "2016-12-11T00:00:00",
          "2016-12-12T00:00:00",
          "2017-01-09T00:00:00",
          "2017-01-10T00:00:00",
          "2017-01-11T00:00:00",
          "2017-01-12T00:00:00",
          "2017-02-09T00:00:00",
          "2017-02-10T00:00:00",
          "2017-02-11T00:00:00",
          "2017-02-12T00:00:00",
          "2017-03-09T00:00:00",
          "2017-03-10T00:00:00",
          "2017-03-11T00:00:00",
          "2017-03-12T00:00:00",
          "2017-04-09T00:00:00",
          "2017-04-10T00:00:00",
          "2017-04-11T00:00:00",
          "2017-04-12T00:00:00",
          "2017-05-09T00:00:00",
          "2017-05-10T00:00:00",
          "2017-05-11T00:00:00",
          "2017-05-12T00:00:00",
          "2017-06-09T00:00:00",
          "2017-06-10T00:00:00",
          "2017-06-11T00:00:00",
          "2017-06-12T00:00:00",
          "2017-07-09T00:00:00",
          "2017-07-10T00:00:00",
          "2017-07-11T00:00:00",
          "2017-07-12T00:00:00",
          "2017-08-09T00:00:00",
          "2017-08-10T00:00:00",
          "2017-08-11T00:00:00",
          "2017-08-12T00:00:00",
          "2017-09-09T00:00:00",
          "2017-09-10T00:00:00",
          "2017-09-11T00:00:00",
          "2017-09-12T00:00:00",
          "2017-10-09T00:00:00",
          "2017-10-10T00:00:00",
          "2017-10-11T00:00:00",
          "2017-10-12T00:00:00",
          "2017-11-09T00:00:00",
          "2017-11-10T00:00:00",
          "2017-11-11T00:00:00",
          "2017-11-12T00:00:00",
          "2017-12-09T00:00:00",
          "2017-12-10T00:00:00",
          "2017-12-11T00:00:00",
          "2017-12-12T00:00:00",
          "2018-01-09T00:00:00",
          "2018-01-10T00:00:00",
          "2018-01-11T00:00:00",
          "2018-01-12T00:00:00",
          "2018-02-09T00:00:00",
          "2018-02-10T00:00:00",
          "2018-02-11T00:00:00",
          "2018-02-12T00:00:00",
          "2018-03-09T00:00:00",
          "2018-03-10T00:00:00",
          "2018-03-11T00:00:00",
          "2018-03-12T00:00:00",
          "2018-04-09T00:00:00",
          "2018-04-10T00:00:00",
          "2018-04-11T00:00:00",
          "2018-04-12T00:00:00",
          "2018-05-09T00:00:00",
          "2018-05-10T00:00:00",
          "2018-05-11T00:00:00",
          "2018-05-12T00:00:00",
          "2018-06-09T00:00:00",
          "2018-06-10T00:00:00",
          "2018-06-11T00:00:00",
          "2018-06-12T00:00:00",
          "2018-07-09T00:00:00",
          "2018-07-10T00:00:00",
          "2018-07-11T00:00:00",
          "2018-07-12T00:00:00",
          "2018-08-09T00:00:00",
          "2018-08-10T00:00:00",
          "2018-08-11T00:00:00",
          "2018-08-12T00:00:00",
          "2018-09-09T00:00:00",
          "2018-09-10T00:00:00",
          "2018-09-11T00:00:00",
          "2018-09-12T00:00:00",
          "2018-10-09T00:00:00",
          "2018-10-10T00:00:00",
          "2018-10-11T00:00:00",
          "2018-10-12T00:00:00",
          "2018-11-09T00:00:00",
          "2018-11-10T00:00:00",
          "2018-11-11T00:00:00",
          "2018-11-12T00:00:00",
          "2018-12-09T00:00:00",
          "2018-12-10T00:00:00",
          "2018-12-11T00:00:00",
          "2018-12-12T00:00:00",
          "2019-01-09T00:00:00",
          "2019-01-10T00:00:00",
          "2019-01-11T00:00:00",
          "2019-01-12T00:00:00",
          "2019-02-09T00:00:00",
          "2019-02-10T00:00:00",
          "2019-02-11T00:00:00",
          "2019-02-12T00:00:00",
          "2019-03-09T00:00:00",
          "2019-03-10T00:00:00",
          "2019-03-11T00:00:00",
          "2019-03-12T00:00:00",
          "2019-04-09T00:00:00",
          "2019-04-10T00:00:00",
          "2019-04-11T00:00:00",
          "2019-04-12T00:00:00",
          "2019-05-09T00:00:00",
          "2019-05-10T00:00:00",
          "2019-05-11T00:00:00",
          "2019-05-12T00:00:00",
          "2019-06-09T00:00:00",
          "2019-06-10T00:00:00",
          "2019-06-11T00:00:00",
          "2019-06-12T00:00:00",
          "2019-07-09T00:00:00",
          "2019-07-10T00:00:00",
          "2019-07-11T00:00:00",
          "2019-07-12T00:00:00",
          "2019-08-09T00:00:00",
          "2019-08-10T00:00:00",
          "2019-08-11T00:00:00",
          "2019-08-12T00:00:00",
          "2019-09-09T00:00:00",
          "2019-09-10T00:00:00",
          "2019-09-11T00:00:00",
          "2019-09-12T00:00:00",
          "2019-10-09T00:00:00",
          "2019-10-10T00:00:00",
          "2019-10-11T00:00:00",
          "2019-10-12T00:00:00",
          "2019-11-09T00:00:00",
          "2019-11-10T00:00:00",
          "2019-11-11T00:00:00",
          "2019-11-12T00:00:00",
          "2019-12-09T00:00:00",
          "2019-12-10T00:00:00",
          "2019-12-11T00:00:00",
          "2019-12-12T00:00:00",
          "2020-01-09T00:00:00",
          "2020-01-10T00:00:00",
          "2020-01-11T00:00:00",
          "2020-01-12T00:00:00"
         ],
         "y": [
          6,
          382,
          2377,
          41,
          5,
          530,
          2741,
          23,
          5,
          906,
          1846,
          4,
          3,
          682,
          1863,
          3,
          0,
          138,
          5222,
          58,
          1,
          66,
          3369,
          191,
          1,
          45,
          4029,
          215,
          3,
          43,
          3412,
          279,
          2,
          106,
          4395,
          161,
          7,
          248,
          6184,
          87,
          3,
          271,
          8539,
          189,
          12,
          140,
          4220,
          232,
          8,
          363,
          3959,
          248,
          3,
          560,
          2983,
          3,
          3,
          899,
          4238,
          19,
          1,
          825,
          2066,
          8,
          0,
          66,
          2603,
          124,
          1,
          70,
          1292,
          80,
          2,
          100,
          1904,
          23,
          2,
          131,
          5133,
          19,
          1,
          153,
          2517,
          21,
          0,
          149,
          185,
          40,
          1,
          185,
          439,
          105,
          2,
          347,
          2380,
          76,
          3,
          288,
          979,
          50,
          5,
          290,
          1998,
          21,
          2,
          171,
          128,
          1,
          3,
          446,
          24,
          1,
          0,
          23,
          3668,
          21,
          0,
          29,
          3795,
          44,
          0,
          7,
          1188,
          26,
          1,
          51,
          998,
          19,
          0,
          80,
          3148,
          27,
          0,
          146,
          3356,
          19,
          2,
          260,
          4518,
          15,
          2,
          68,
          4828,
          16,
          3,
          91,
          2195,
          28,
          1,
          52,
          1833,
          12,
          1,
          103,
          1610,
          10,
          4,
          194,
          1403,
          0,
          1,
          3,
          342,
          132,
          4,
          31,
          1,
          106,
          3,
          45,
          2963,
          73,
          0,
          35,
          4889,
          35,
          2,
          42,
          5148,
          30,
          3,
          21,
          4309,
          83,
          1,
          45,
          154,
          82,
          2,
          134,
          438,
          69,
          5,
          162,
          1745,
          10,
          5,
          277,
          2474,
          25,
          7,
          199,
          758,
          0,
          3,
          166,
          600,
          0,
          0,
          211,
          3520,
          66
         ]
        },
        {
         "mode": "lines",
         "name": "Testing Data",
         "type": "scatter",
         "x": [
          "2020-02-09T00:00:00",
          "2020-02-10T00:00:00",
          "2020-02-11T00:00:00",
          "2020-02-12T00:00:00",
          "2020-03-09T00:00:00",
          "2020-03-10T00:00:00",
          "2020-03-11T00:00:00",
          "2020-03-12T00:00:00",
          "2020-04-09T00:00:00",
          "2020-04-10T00:00:00",
          "2020-04-11T00:00:00",
          "2020-04-12T00:00:00",
          "2020-05-09T00:00:00",
          "2020-05-10T00:00:00",
          "2020-05-11T00:00:00",
          "2020-05-12T00:00:00",
          "2020-06-09T00:00:00",
          "2020-06-10T00:00:00",
          "2020-06-11T00:00:00",
          "2020-06-12T00:00:00",
          "2020-07-09T00:00:00",
          "2020-07-10T00:00:00",
          "2020-07-11T00:00:00",
          "2020-07-12T00:00:00",
          "2020-08-09T00:00:00",
          "2020-08-10T00:00:00",
          "2020-08-11T00:00:00",
          "2020-08-12T00:00:00",
          "2020-09-09T00:00:00",
          "2020-09-10T00:00:00",
          "2020-09-11T00:00:00",
          "2020-09-12T00:00:00",
          "2020-10-09T00:00:00",
          "2020-10-10T00:00:00",
          "2020-10-11T00:00:00",
          "2020-10-12T00:00:00",
          "2020-11-09T00:00:00",
          "2020-11-10T00:00:00",
          "2020-11-11T00:00:00",
          "2020-11-12T00:00:00",
          "2020-12-09T00:00:00",
          "2020-12-10T00:00:00",
          "2020-12-11T00:00:00",
          "2020-12-12T00:00:00",
          "2021-01-09T00:00:00",
          "2021-01-10T00:00:00",
          "2021-01-11T00:00:00",
          "2021-01-12T00:00:00",
          "2021-02-09T00:00:00",
          "2021-02-10T00:00:00",
          "2021-02-11T00:00:00",
          "2021-02-12T00:00:00",
          "2021-03-09T00:00:00",
          "2021-03-10T00:00:00",
          "2021-03-11T00:00:00",
          "2021-03-12T00:00:00",
          "2021-04-09T00:00:00",
          "2021-04-10T00:00:00",
          "2021-04-11T00:00:00",
          "2021-04-12T00:00:00",
          "2021-05-09T00:00:00",
          "2021-05-10T00:00:00",
          "2021-05-11T00:00:00",
          "2021-05-12T00:00:00",
          "2021-06-09T00:00:00",
          "2021-06-10T00:00:00",
          "2021-06-11T00:00:00",
          "2021-06-12T00:00:00",
          "2021-07-09T00:00:00",
          "2021-07-10T00:00:00",
          "2021-07-11T00:00:00",
          "2021-07-12T00:00:00",
          "2021-08-09T00:00:00",
          "2021-08-10T00:00:00",
          "2021-08-11T00:00:00",
          "2021-08-12T00:00:00",
          "2021-09-09T00:00:00",
          "2021-09-10T00:00:00",
          "2021-09-11T00:00:00",
          "2021-09-12T00:00:00",
          "2021-10-09T00:00:00",
          "2021-10-10T00:00:00",
          "2021-10-11T00:00:00",
          "2021-10-12T00:00:00",
          "2021-11-09T00:00:00",
          "2021-11-10T00:00:00",
          "2021-11-11T00:00:00",
          "2021-11-12T00:00:00",
          "2021-12-09T00:00:00",
          "2021-12-10T00:00:00",
          "2021-12-11T00:00:00",
          "2021-12-12T00:00:00"
         ],
         "y": [
          1,
          190,
          3628,
          65,
          4,
          114,
          2553,
          69,
          1,
          242,
          4012,
          68,
          1,
          188,
          5293,
          29,
          4,
          270,
          4327,
          19,
          5,
          262,
          5405,
          27,
          1,
          173,
          3554,
          41,
          6,
          183,
          1590,
          16,
          9,
          324,
          3582,
          42,
          1,
          588,
          2631,
          16,
          1,
          462,
          2038,
          2,
          1,
          8,
          2458,
          2,
          1,
          6,
          2834,
          7,
          0,
          23,
          2936,
          23,
          1,
          31,
          3537,
          37,
          4,
          32,
          6515,
          10,
          6,
          34,
          4600,
          19,
          4,
          98,
          5020,
          32,
          0,
          121,
          5433,
          19,
          1,
          224,
          4868,
          11,
          0,
          296,
          5833,
          16,
          0,
          137,
          4706,
          28,
          0,
          153,
          3993,
          34
         ]
        },
        {
         "mode": "lines",
         "name": "Forecast 2022-2025",
         "type": "scatter",
         "x": [
          "2021-12-31T00:00:00",
          "2022-01-31T00:00:00",
          "2022-02-28T00:00:00",
          "2022-03-31T00:00:00",
          "2022-04-30T00:00:00",
          "2022-05-31T00:00:00",
          "2022-06-30T00:00:00",
          "2022-07-31T00:00:00",
          "2022-08-31T00:00:00",
          "2022-09-30T00:00:00",
          "2022-10-31T00:00:00",
          "2022-11-30T00:00:00",
          "2022-12-31T00:00:00",
          "2023-01-31T00:00:00",
          "2023-02-28T00:00:00",
          "2023-03-31T00:00:00",
          "2023-04-30T00:00:00",
          "2023-05-31T00:00:00",
          "2023-06-30T00:00:00",
          "2023-07-31T00:00:00",
          "2023-08-31T00:00:00",
          "2023-09-30T00:00:00",
          "2023-10-31T00:00:00",
          "2023-11-30T00:00:00",
          "2023-12-31T00:00:00",
          "2024-01-31T00:00:00",
          "2024-02-29T00:00:00",
          "2024-03-31T00:00:00",
          "2024-04-30T00:00:00",
          "2024-05-31T00:00:00",
          "2024-06-30T00:00:00",
          "2024-07-31T00:00:00",
          "2024-08-31T00:00:00",
          "2024-09-30T00:00:00",
          "2024-10-31T00:00:00",
          "2024-11-30T00:00:00",
          "2024-12-31T00:00:00",
          "2025-01-31T00:00:00",
          "2025-02-28T00:00:00",
          "2025-03-31T00:00:00",
          "2025-04-30T00:00:00",
          "2025-05-31T00:00:00",
          "2025-06-30T00:00:00",
          "2025-07-31T00:00:00",
          "2025-08-31T00:00:00",
          "2025-09-30T00:00:00",
          "2025-10-31T00:00:00",
          "2025-11-30T00:00:00"
         ],
         "y": [
          128.48653565735594,
          347.16776198373395,
          3114.4072704206383,
          214.96806018056577,
          240.58361028439595,
          458.9920048487322,
          2773.4075839885663,
          339.08564892747745,
          338.23895212689195,
          550.7890001771088,
          2486.6778784793064,
          442.52158696880156,
          423.198206227469,
          626.1146521071272,
          2245.5508941165954,
          528.7418582709915,
          497.0194135665888,
          687.8977607770003,
          2042.74859540924,
          600.6286213042451,
          561.0880934840177,
          738.5500251614055,
          1872.1586737555801,
          660.5789921721232,
          616.6323536600053,
          780.0568320485498,
          1728.647142075094,
          710.5870487980574,
          664.7376229601006,
          814.0521757288259,
          1607.9011708033322,
          752.3119156306338,
          706.3607330710844,
          841.8804723706788,
          1506.2972666306598,
          787.134299656345,
          742.3431737030087,
          864.6475530292474,
          1420.7906919000397,
          816.2034435432447,
          773.4234200895561,
          883.2627223804686,
          1348.8226891008314,
          840.4761261151048,
          800.2482860705874,
          898.4734422116876,
          1288.2426327053074,
          860.749062176302
         ]
        }
       ],
       "layout": {
        "legend": {
         "tracegroupgap": 0
        },
        "template": {
         "data": {
          "bar": [
           {
            "error_x": {
             "color": "#2a3f5f"
            },
            "error_y": {
             "color": "#2a3f5f"
            },
            "marker": {
             "line": {
              "color": "#E5ECF6",
              "width": 0.5
             },
             "pattern": {
              "fillmode": "overlay",
              "size": 10,
              "solidity": 0.2
             }
            },
            "type": "bar"
           }
          ],
          "barpolar": [
           {
            "marker": {
             "line": {
              "color": "#E5ECF6",
              "width": 0.5
             },
             "pattern": {
              "fillmode": "overlay",
              "size": 10,
              "solidity": 0.2
             }
            },
            "type": "barpolar"
           }
          ],
          "carpet": [
           {
            "aaxis": {
             "endlinecolor": "#2a3f5f",
             "gridcolor": "white",
             "linecolor": "white",
             "minorgridcolor": "white",
             "startlinecolor": "#2a3f5f"
            },
            "baxis": {
             "endlinecolor": "#2a3f5f",
             "gridcolor": "white",
             "linecolor": "white",
             "minorgridcolor": "white",
             "startlinecolor": "#2a3f5f"
            },
            "type": "carpet"
           }
          ],
          "choropleth": [
           {
            "colorbar": {
             "outlinewidth": 0,
             "ticks": ""
            },
            "type": "choropleth"
           }
          ],
          "contour": [
           {
            "colorbar": {
             "outlinewidth": 0,
             "ticks": ""
            },
            "colorscale": [
             [
              0,
              "#0d0887"
             ],
             [
              0.1111111111111111,
              "#46039f"
             ],
             [
              0.2222222222222222,
              "#7201a8"
             ],
             [
              0.3333333333333333,
              "#9c179e"
             ],
             [
              0.4444444444444444,
              "#bd3786"
             ],
             [
              0.5555555555555556,
              "#d8576b"
             ],
             [
              0.6666666666666666,
              "#ed7953"
             ],
             [
              0.7777777777777778,
              "#fb9f3a"
             ],
             [
              0.8888888888888888,
              "#fdca26"
             ],
             [
              1,
              "#f0f921"
             ]
            ],
            "type": "contour"
           }
          ],
          "contourcarpet": [
           {
            "colorbar": {
             "outlinewidth": 0,
             "ticks": ""
            },
            "type": "contourcarpet"
           }
          ],
          "heatmap": [
           {
            "colorbar": {
             "outlinewidth": 0,
             "ticks": ""
            },
            "colorscale": [
             [
              0,
              "#0d0887"
             ],
             [
              0.1111111111111111,
              "#46039f"
             ],
             [
              0.2222222222222222,
              "#7201a8"
             ],
             [
              0.3333333333333333,
              "#9c179e"
             ],
             [
              0.4444444444444444,
              "#bd3786"
             ],
             [
              0.5555555555555556,
              "#d8576b"
             ],
             [
              0.6666666666666666,
              "#ed7953"
             ],
             [
              0.7777777777777778,
              "#fb9f3a"
             ],
             [
              0.8888888888888888,
              "#fdca26"
             ],
             [
              1,
              "#f0f921"
             ]
            ],
            "type": "heatmap"
           }
          ],
          "heatmapgl": [
           {
            "colorbar": {
             "outlinewidth": 0,
             "ticks": ""
            },
            "colorscale": [
             [
              0,
              "#0d0887"
             ],
             [
              0.1111111111111111,
              "#46039f"
             ],
             [
              0.2222222222222222,
              "#7201a8"
             ],
             [
              0.3333333333333333,
              "#9c179e"
             ],
             [
              0.4444444444444444,
              "#bd3786"
             ],
             [
              0.5555555555555556,
              "#d8576b"
             ],
             [
              0.6666666666666666,
              "#ed7953"
             ],
             [
              0.7777777777777778,
              "#fb9f3a"
             ],
             [
              0.8888888888888888,
              "#fdca26"
             ],
             [
              1,
              "#f0f921"
             ]
            ],
            "type": "heatmapgl"
           }
          ],
          "histogram": [
           {
            "marker": {
             "pattern": {
              "fillmode": "overlay",
              "size": 10,
              "solidity": 0.2
             }
            },
            "type": "histogram"
           }
          ],
          "histogram2d": [
           {
            "colorbar": {
             "outlinewidth": 0,
             "ticks": ""
            },
            "colorscale": [
             [
              0,
              "#0d0887"
             ],
             [
              0.1111111111111111,
              "#46039f"
             ],
             [
              0.2222222222222222,
              "#7201a8"
             ],
             [
              0.3333333333333333,
              "#9c179e"
             ],
             [
              0.4444444444444444,
              "#bd3786"
             ],
             [
              0.5555555555555556,
              "#d8576b"
             ],
             [
              0.6666666666666666,
              "#ed7953"
             ],
             [
              0.7777777777777778,
              "#fb9f3a"
             ],
             [
              0.8888888888888888,
              "#fdca26"
             ],
             [
              1,
              "#f0f921"
             ]
            ],
            "type": "histogram2d"
           }
          ],
          "histogram2dcontour": [
           {
            "colorbar": {
             "outlinewidth": 0,
             "ticks": ""
            },
            "colorscale": [
             [
              0,
              "#0d0887"
             ],
             [
              0.1111111111111111,
              "#46039f"
             ],
             [
              0.2222222222222222,
              "#7201a8"
             ],
             [
              0.3333333333333333,
              "#9c179e"
             ],
             [
              0.4444444444444444,
              "#bd3786"
             ],
             [
              0.5555555555555556,
              "#d8576b"
             ],
             [
              0.6666666666666666,
              "#ed7953"
             ],
             [
              0.7777777777777778,
              "#fb9f3a"
             ],
             [
              0.8888888888888888,
              "#fdca26"
             ],
             [
              1,
              "#f0f921"
             ]
            ],
            "type": "histogram2dcontour"
           }
          ],
          "mesh3d": [
           {
            "colorbar": {
             "outlinewidth": 0,
             "ticks": ""
            },
            "type": "mesh3d"
           }
          ],
          "parcoords": [
           {
            "line": {
             "colorbar": {
              "outlinewidth": 0,
              "ticks": ""
             }
            },
            "type": "parcoords"
           }
          ],
          "pie": [
           {
            "automargin": true,
            "type": "pie"
           }
          ],
          "scatter": [
           {
            "fillpattern": {
             "fillmode": "overlay",
             "size": 10,
             "solidity": 0.2
            },
            "type": "scatter"
           }
          ],
          "scatter3d": [
           {
            "line": {
             "colorbar": {
              "outlinewidth": 0,
              "ticks": ""
             }
            },
            "marker": {
             "colorbar": {
              "outlinewidth": 0,
              "ticks": ""
             }
            },
            "type": "scatter3d"
           }
          ],
          "scattercarpet": [
           {
            "marker": {
             "colorbar": {
              "outlinewidth": 0,
              "ticks": ""
             }
            },
            "type": "scattercarpet"
           }
          ],
          "scattergeo": [
           {
            "marker": {
             "colorbar": {
              "outlinewidth": 0,
              "ticks": ""
             }
            },
            "type": "scattergeo"
           }
          ],
          "scattergl": [
           {
            "marker": {
             "colorbar": {
              "outlinewidth": 0,
              "ticks": ""
             }
            },
            "type": "scattergl"
           }
          ],
          "scattermapbox": [
           {
            "marker": {
             "colorbar": {
              "outlinewidth": 0,
              "ticks": ""
             }
            },
            "type": "scattermapbox"
           }
          ],
          "scatterpolar": [
           {
            "marker": {
             "colorbar": {
              "outlinewidth": 0,
              "ticks": ""
             }
            },
            "type": "scatterpolar"
           }
          ],
          "scatterpolargl": [
           {
            "marker": {
             "colorbar": {
              "outlinewidth": 0,
              "ticks": ""
             }
            },
            "type": "scatterpolargl"
           }
          ],
          "scatterternary": [
           {
            "marker": {
             "colorbar": {
              "outlinewidth": 0,
              "ticks": ""
             }
            },
            "type": "scatterternary"
           }
          ],
          "surface": [
           {
            "colorbar": {
             "outlinewidth": 0,
             "ticks": ""
            },
            "colorscale": [
             [
              0,
              "#0d0887"
             ],
             [
              0.1111111111111111,
              "#46039f"
             ],
             [
              0.2222222222222222,
              "#7201a8"
             ],
             [
              0.3333333333333333,
              "#9c179e"
             ],
             [
              0.4444444444444444,
              "#bd3786"
             ],
             [
              0.5555555555555556,
              "#d8576b"
             ],
             [
              0.6666666666666666,
              "#ed7953"
             ],
             [
              0.7777777777777778,
              "#fb9f3a"
             ],
             [
              0.8888888888888888,
              "#fdca26"
             ],
             [
              1,
              "#f0f921"
             ]
            ],
            "type": "surface"
           }
          ],
          "table": [
           {
            "cells": {
             "fill": {
              "color": "#EBF0F8"
             },
             "line": {
              "color": "white"
             }
            },
            "header": {
             "fill": {
              "color": "#C8D4E3"
             },
             "line": {
              "color": "white"
             }
            },
            "type": "table"
           }
          ]
         },
         "layout": {
          "annotationdefaults": {
           "arrowcolor": "#2a3f5f",
           "arrowhead": 0,
           "arrowwidth": 1
          },
          "autotypenumbers": "strict",
          "coloraxis": {
           "colorbar": {
            "outlinewidth": 0,
            "ticks": ""
           }
          },
          "colorscale": {
           "diverging": [
            [
             0,
             "#8e0152"
            ],
            [
             0.1,
             "#c51b7d"
            ],
            [
             0.2,
             "#de77ae"
            ],
            [
             0.3,
             "#f1b6da"
            ],
            [
             0.4,
             "#fde0ef"
            ],
            [
             0.5,
             "#f7f7f7"
            ],
            [
             0.6,
             "#e6f5d0"
            ],
            [
             0.7,
             "#b8e186"
            ],
            [
             0.8,
             "#7fbc41"
            ],
            [
             0.9,
             "#4d9221"
            ],
            [
             1,
             "#276419"
            ]
           ],
           "sequential": [
            [
             0,
             "#0d0887"
            ],
            [
             0.1111111111111111,
             "#46039f"
            ],
            [
             0.2222222222222222,
             "#7201a8"
            ],
            [
             0.3333333333333333,
             "#9c179e"
            ],
            [
             0.4444444444444444,
             "#bd3786"
            ],
            [
             0.5555555555555556,
             "#d8576b"
            ],
            [
             0.6666666666666666,
             "#ed7953"
            ],
            [
             0.7777777777777778,
             "#fb9f3a"
            ],
            [
             0.8888888888888888,
             "#fdca26"
            ],
            [
             1,
             "#f0f921"
            ]
           ],
           "sequentialminus": [
            [
             0,
             "#0d0887"
            ],
            [
             0.1111111111111111,
             "#46039f"
            ],
            [
             0.2222222222222222,
             "#7201a8"
            ],
            [
             0.3333333333333333,
             "#9c179e"
            ],
            [
             0.4444444444444444,
             "#bd3786"
            ],
            [
             0.5555555555555556,
             "#d8576b"
            ],
            [
             0.6666666666666666,
             "#ed7953"
            ],
            [
             0.7777777777777778,
             "#fb9f3a"
            ],
            [
             0.8888888888888888,
             "#fdca26"
            ],
            [
             1,
             "#f0f921"
            ]
           ]
          },
          "colorway": [
           "#636efa",
           "#EF553B",
           "#00cc96",
           "#ab63fa",
           "#FFA15A",
           "#19d3f3",
           "#FF6692",
           "#B6E880",
           "#FF97FF",
           "#FECB52"
          ],
          "font": {
           "color": "#2a3f5f"
          },
          "geo": {
           "bgcolor": "white",
           "lakecolor": "white",
           "landcolor": "#E5ECF6",
           "showlakes": true,
           "showland": true,
           "subunitcolor": "white"
          },
          "hoverlabel": {
           "align": "left"
          },
          "hovermode": "closest",
          "mapbox": {
           "style": "light"
          },
          "paper_bgcolor": "white",
          "plot_bgcolor": "#E5ECF6",
          "polar": {
           "angularaxis": {
            "gridcolor": "white",
            "linecolor": "white",
            "ticks": ""
           },
           "bgcolor": "#E5ECF6",
           "radialaxis": {
            "gridcolor": "white",
            "linecolor": "white",
            "ticks": ""
           }
          },
          "scene": {
           "xaxis": {
            "backgroundcolor": "#E5ECF6",
            "gridcolor": "white",
            "gridwidth": 2,
            "linecolor": "white",
            "showbackground": true,
            "ticks": "",
            "zerolinecolor": "white"
           },
           "yaxis": {
            "backgroundcolor": "#E5ECF6",
            "gridcolor": "white",
            "gridwidth": 2,
            "linecolor": "white",
            "showbackground": true,
            "ticks": "",
            "zerolinecolor": "white"
           },
           "zaxis": {
            "backgroundcolor": "#E5ECF6",
            "gridcolor": "white",
            "gridwidth": 2,
            "linecolor": "white",
            "showbackground": true,
            "ticks": "",
            "zerolinecolor": "white"
           }
          },
          "shapedefaults": {
           "line": {
            "color": "#2a3f5f"
           }
          },
          "ternary": {
           "aaxis": {
            "gridcolor": "white",
            "linecolor": "white",
            "ticks": ""
           },
           "baxis": {
            "gridcolor": "white",
            "linecolor": "white",
            "ticks": ""
           },
           "bgcolor": "#E5ECF6",
           "caxis": {
            "gridcolor": "white",
            "linecolor": "white",
            "ticks": ""
           }
          },
          "title": {
           "x": 0.05
          },
          "xaxis": {
           "automargin": true,
           "gridcolor": "white",
           "linecolor": "white",
           "ticks": "",
           "title": {
            "standoff": 15
           },
           "zerolinecolor": "white",
           "zerolinewidth": 2
          },
          "yaxis": {
           "automargin": true,
           "gridcolor": "white",
           "linecolor": "white",
           "ticks": "",
           "title": {
            "standoff": 15
           },
           "zerolinecolor": "white",
           "zerolinewidth": 2
          }
         }
        },
        "title": {
         "text": "ARIMA Forecast (2016-09 to 2025)"
        },
        "xaxis": {
         "anchor": "y",
         "domain": [
          0,
          1
         ]
        },
        "yaxis": {
         "anchor": "x",
         "domain": [
          0,
          1
         ]
        }
       }
      }
     },
     "metadata": {},
     "output_type": "display_data"
    }
   ],
   "source": [
    "import pandas as pd\n",
    "from pmdarima import auto_arima\n",
    "import plotly.express as px\n",
    "\n",
    "# Load the data\n",
    "df = pd.read_csv(r'D:\\stubble buring\\stubble\\STN1.csv')\n",
    "\n",
    "# Convert 'DATE' to datetime and set it as index\n",
    "df['DATE'] = pd.to_datetime(df['DATE'], errors='coerce')\n",
    "df.dropna(subset=['DATE'], inplace=True)  # Drop rows with invalid dates\n",
    "df.set_index('DATE', inplace=True)\n",
    "df.sort_index(inplace=True)  # Sort the index to make it monotonic\n",
    "\n",
    "# Handle missing values - forward fill\n",
    "df.fillna(method='ffill', inplace=True)  # Forward fill to propagate the last valid value\n",
    "\n",
    "# Check if sorting worked\n",
    "print(df.index.is_monotonic_increasing)  # Should print True\n",
    "\n",
    "# Select the desired date range\n",
    "df = df['2012-09-01':'2021-12-31']  # Ensure slicing works after sorting\n",
    "\n",
    "# Split the dataset 70:30\n",
    "split_index = int(len(df) * 0.7)\n",
    "train_data = df.iloc[:split_index]\n",
    "test_data = df.iloc[split_index:]\n",
    "\n",
    "# Fit ARIMA model on training data\n",
    "arima_model = auto_arima(train_data['FIRECOUNT'], seasonal=False, trace=True)\n",
    "print(arima_model.summary())\n",
    "\n",
    "# Forecast for the test period\n",
    "forecast_test = arima_model.predict(n_periods=len(test_data))\n",
    "\n",
    "# Forecast for the next 48 months (2022-2025)\n",
    "forecast_future = arima_model.predict(n_periods=48)\n",
    "\n",
    "# Print the predicted values for the test period\n",
    "for date, value in zip(test_data.index, forecast_test):\n",
    "    print(f\"The predicted FIRECOUNT for {date.strftime('%Y-%m-%d')} is {value:.2f}\")\n",
    "\n",
    "# Print the predicted values for the years 2022-2025\n",
    "forecast_dates = pd.date_range(start=test_data.index[-1] + pd.DateOffset(1), periods=48, freq='M')\n",
    "for date, value in zip(forecast_dates, forecast_future):\n",
    "    print(f\"The predicted FIRECOUNT for {date.strftime('%Y-%m-%d')} is {value:.2f}\")\n",
    "\n",
    "# Visualization (optional)\n",
    "fig = px.line(title=\"ARIMA Forecast (2016-09 to 2025)\")\n",
    "fig.add_scatter(x=train_data.index, y=train_data['FIRECOUNT'], mode='lines', name='Training Data')\n",
    "fig.add_scatter(x=test_data.index, y=test_data['FIRECOUNT'], mode='lines', name='Testing Data')\n",
    "fig.add_scatter(x=forecast_dates, y=forecast_future, mode='lines', name='Forecast 2022-2025')\n",
    "fig.show()\n"
   ]
  },
  {
   "cell_type": "code",
   "execution_count": 18,
   "metadata": {},
   "outputs": [],
   "source": [
    "## 2"
   ]
  },
  {
   "cell_type": "code",
   "execution_count": 28,
   "metadata": {},
   "outputs": [
    {
     "name": "stderr",
     "output_type": "stream",
     "text": [
      "<>:8: SyntaxWarning:\n",
      "\n",
      "invalid escape sequence '\\s'\n",
      "\n",
      "<>:8: SyntaxWarning:\n",
      "\n",
      "invalid escape sequence '\\s'\n",
      "\n",
      "C:\\Users\\goelk\\AppData\\Local\\Temp\\ipykernel_20608\\1445434846.py:8: SyntaxWarning:\n",
      "\n",
      "invalid escape sequence '\\s'\n",
      "\n",
      "C:\\Users\\goelk\\AppData\\Local\\Temp\\ipykernel_20608\\1445434846.py:17: FutureWarning:\n",
      "\n",
      "'M' is deprecated and will be removed in a future version, please use 'ME' instead.\n",
      "\n",
      "C:\\Users\\goelk\\AppData\\Local\\Temp\\ipykernel_20608\\1445434846.py:32: FutureWarning:\n",
      "\n",
      "'M' is deprecated and will be removed in a future version, please use 'ME' instead.\n",
      "\n"
     ]
    },
    {
     "data": {
      "application/vnd.plotly.v1+json": {
       "config": {
        "plotlyServerURL": "https://plot.ly"
       },
       "data": [
        {
         "hovertemplate": "Year=%{x}<br>Predicted FIRECOUNT=%{y}<extra></extra>",
         "legendgroup": "",
         "line": {
          "color": "#636efa",
          "dash": "solid"
         },
         "marker": {
          "symbol": "circle"
         },
         "mode": "lines",
         "name": "",
         "orientation": "v",
         "showlegend": false,
         "type": "scatter",
         "x": [
          "2022-01-31T00:00:00",
          "2022-02-28T00:00:00",
          "2022-03-31T00:00:00",
          "2022-04-30T00:00:00",
          "2022-05-31T00:00:00",
          "2022-06-30T00:00:00",
          "2022-07-31T00:00:00",
          "2022-08-31T00:00:00",
          "2022-09-30T00:00:00",
          "2022-10-31T00:00:00",
          "2022-11-30T00:00:00",
          "2022-12-31T00:00:00",
          "2023-01-31T00:00:00",
          "2023-02-28T00:00:00",
          "2023-03-31T00:00:00",
          "2023-04-30T00:00:00",
          "2023-05-31T00:00:00",
          "2023-06-30T00:00:00",
          "2023-07-31T00:00:00",
          "2023-08-31T00:00:00",
          "2023-09-30T00:00:00",
          "2023-10-31T00:00:00",
          "2023-11-30T00:00:00",
          "2023-12-31T00:00:00",
          "2024-01-31T00:00:00",
          "2024-02-29T00:00:00",
          "2024-03-31T00:00:00",
          "2024-04-30T00:00:00",
          "2024-05-31T00:00:00",
          "2024-06-30T00:00:00",
          "2024-07-31T00:00:00",
          "2024-08-31T00:00:00",
          "2024-09-30T00:00:00",
          "2024-10-31T00:00:00",
          "2024-11-30T00:00:00",
          "2024-12-31T00:00:00",
          "2025-01-31T00:00:00",
          "2025-02-28T00:00:00",
          "2025-03-31T00:00:00",
          "2025-04-30T00:00:00",
          "2025-05-31T00:00:00",
          "2025-06-30T00:00:00",
          "2025-07-31T00:00:00",
          "2025-08-31T00:00:00",
          "2025-09-30T00:00:00",
          "2025-10-31T00:00:00",
          "2025-11-30T00:00:00",
          "2025-12-31T00:00:00"
         ],
         "xaxis": "x",
         "y": [
          624.1349104918286,
          10567.828491579614,
          13609.136214644492,
          7245.105279369869,
          4396.032932709422,
          5056.899938271555,
          5924.076821111042,
          7451.051177623033,
          8063.461662227577,
          7019.19352943464,
          6214.622765610027,
          6304.737125708109,
          6624.947788873523,
          6911.180128412497,
          7002.175546899204,
          6818.040183601232,
          6637.682416381261,
          6640.426506764978,
          6724.511606133897,
          6787.49632012055,
          6798.991499096734,
          6762.439795613167,
          6725.004232358277,
          6723.142206333615,
          6742.398503943756,
          6756.908132965798,
          6758.306672054483,
          6750.386479991208,
          6742.708722012372,
          6742.090933272053,
          6746.265955257206,
          6749.566297806603,
          6749.760177038673,
          6747.985123198907,
          6746.386288099127,
          6746.252538382584,
          6747.145459508774,
          6747.878268671495,
          6747.911962551248,
          6747.513724504427,
          6747.174234832305,
          6747.1498784579135,
          6747.341709745454,
          6747.5014948866665,
          6747.508155212257,
          6747.4196426939925,
          6747.34659866931,
          6747.342547500451
         ],
         "yaxis": "y"
        }
       ],
       "layout": {
        "legend": {
         "tracegroupgap": 0
        },
        "template": {
         "data": {
          "bar": [
           {
            "error_x": {
             "color": "#2a3f5f"
            },
            "error_y": {
             "color": "#2a3f5f"
            },
            "marker": {
             "line": {
              "color": "#E5ECF6",
              "width": 0.5
             },
             "pattern": {
              "fillmode": "overlay",
              "size": 10,
              "solidity": 0.2
             }
            },
            "type": "bar"
           }
          ],
          "barpolar": [
           {
            "marker": {
             "line": {
              "color": "#E5ECF6",
              "width": 0.5
             },
             "pattern": {
              "fillmode": "overlay",
              "size": 10,
              "solidity": 0.2
             }
            },
            "type": "barpolar"
           }
          ],
          "carpet": [
           {
            "aaxis": {
             "endlinecolor": "#2a3f5f",
             "gridcolor": "white",
             "linecolor": "white",
             "minorgridcolor": "white",
             "startlinecolor": "#2a3f5f"
            },
            "baxis": {
             "endlinecolor": "#2a3f5f",
             "gridcolor": "white",
             "linecolor": "white",
             "minorgridcolor": "white",
             "startlinecolor": "#2a3f5f"
            },
            "type": "carpet"
           }
          ],
          "choropleth": [
           {
            "colorbar": {
             "outlinewidth": 0,
             "ticks": ""
            },
            "type": "choropleth"
           }
          ],
          "contour": [
           {
            "colorbar": {
             "outlinewidth": 0,
             "ticks": ""
            },
            "colorscale": [
             [
              0,
              "#0d0887"
             ],
             [
              0.1111111111111111,
              "#46039f"
             ],
             [
              0.2222222222222222,
              "#7201a8"
             ],
             [
              0.3333333333333333,
              "#9c179e"
             ],
             [
              0.4444444444444444,
              "#bd3786"
             ],
             [
              0.5555555555555556,
              "#d8576b"
             ],
             [
              0.6666666666666666,
              "#ed7953"
             ],
             [
              0.7777777777777778,
              "#fb9f3a"
             ],
             [
              0.8888888888888888,
              "#fdca26"
             ],
             [
              1,
              "#f0f921"
             ]
            ],
            "type": "contour"
           }
          ],
          "contourcarpet": [
           {
            "colorbar": {
             "outlinewidth": 0,
             "ticks": ""
            },
            "type": "contourcarpet"
           }
          ],
          "heatmap": [
           {
            "colorbar": {
             "outlinewidth": 0,
             "ticks": ""
            },
            "colorscale": [
             [
              0,
              "#0d0887"
             ],
             [
              0.1111111111111111,
              "#46039f"
             ],
             [
              0.2222222222222222,
              "#7201a8"
             ],
             [
              0.3333333333333333,
              "#9c179e"
             ],
             [
              0.4444444444444444,
              "#bd3786"
             ],
             [
              0.5555555555555556,
              "#d8576b"
             ],
             [
              0.6666666666666666,
              "#ed7953"
             ],
             [
              0.7777777777777778,
              "#fb9f3a"
             ],
             [
              0.8888888888888888,
              "#fdca26"
             ],
             [
              1,
              "#f0f921"
             ]
            ],
            "type": "heatmap"
           }
          ],
          "heatmapgl": [
           {
            "colorbar": {
             "outlinewidth": 0,
             "ticks": ""
            },
            "colorscale": [
             [
              0,
              "#0d0887"
             ],
             [
              0.1111111111111111,
              "#46039f"
             ],
             [
              0.2222222222222222,
              "#7201a8"
             ],
             [
              0.3333333333333333,
              "#9c179e"
             ],
             [
              0.4444444444444444,
              "#bd3786"
             ],
             [
              0.5555555555555556,
              "#d8576b"
             ],
             [
              0.6666666666666666,
              "#ed7953"
             ],
             [
              0.7777777777777778,
              "#fb9f3a"
             ],
             [
              0.8888888888888888,
              "#fdca26"
             ],
             [
              1,
              "#f0f921"
             ]
            ],
            "type": "heatmapgl"
           }
          ],
          "histogram": [
           {
            "marker": {
             "pattern": {
              "fillmode": "overlay",
              "size": 10,
              "solidity": 0.2
             }
            },
            "type": "histogram"
           }
          ],
          "histogram2d": [
           {
            "colorbar": {
             "outlinewidth": 0,
             "ticks": ""
            },
            "colorscale": [
             [
              0,
              "#0d0887"
             ],
             [
              0.1111111111111111,
              "#46039f"
             ],
             [
              0.2222222222222222,
              "#7201a8"
             ],
             [
              0.3333333333333333,
              "#9c179e"
             ],
             [
              0.4444444444444444,
              "#bd3786"
             ],
             [
              0.5555555555555556,
              "#d8576b"
             ],
             [
              0.6666666666666666,
              "#ed7953"
             ],
             [
              0.7777777777777778,
              "#fb9f3a"
             ],
             [
              0.8888888888888888,
              "#fdca26"
             ],
             [
              1,
              "#f0f921"
             ]
            ],
            "type": "histogram2d"
           }
          ],
          "histogram2dcontour": [
           {
            "colorbar": {
             "outlinewidth": 0,
             "ticks": ""
            },
            "colorscale": [
             [
              0,
              "#0d0887"
             ],
             [
              0.1111111111111111,
              "#46039f"
             ],
             [
              0.2222222222222222,
              "#7201a8"
             ],
             [
              0.3333333333333333,
              "#9c179e"
             ],
             [
              0.4444444444444444,
              "#bd3786"
             ],
             [
              0.5555555555555556,
              "#d8576b"
             ],
             [
              0.6666666666666666,
              "#ed7953"
             ],
             [
              0.7777777777777778,
              "#fb9f3a"
             ],
             [
              0.8888888888888888,
              "#fdca26"
             ],
             [
              1,
              "#f0f921"
             ]
            ],
            "type": "histogram2dcontour"
           }
          ],
          "mesh3d": [
           {
            "colorbar": {
             "outlinewidth": 0,
             "ticks": ""
            },
            "type": "mesh3d"
           }
          ],
          "parcoords": [
           {
            "line": {
             "colorbar": {
              "outlinewidth": 0,
              "ticks": ""
             }
            },
            "type": "parcoords"
           }
          ],
          "pie": [
           {
            "automargin": true,
            "type": "pie"
           }
          ],
          "scatter": [
           {
            "fillpattern": {
             "fillmode": "overlay",
             "size": 10,
             "solidity": 0.2
            },
            "type": "scatter"
           }
          ],
          "scatter3d": [
           {
            "line": {
             "colorbar": {
              "outlinewidth": 0,
              "ticks": ""
             }
            },
            "marker": {
             "colorbar": {
              "outlinewidth": 0,
              "ticks": ""
             }
            },
            "type": "scatter3d"
           }
          ],
          "scattercarpet": [
           {
            "marker": {
             "colorbar": {
              "outlinewidth": 0,
              "ticks": ""
             }
            },
            "type": "scattercarpet"
           }
          ],
          "scattergeo": [
           {
            "marker": {
             "colorbar": {
              "outlinewidth": 0,
              "ticks": ""
             }
            },
            "type": "scattergeo"
           }
          ],
          "scattergl": [
           {
            "marker": {
             "colorbar": {
              "outlinewidth": 0,
              "ticks": ""
             }
            },
            "type": "scattergl"
           }
          ],
          "scattermapbox": [
           {
            "marker": {
             "colorbar": {
              "outlinewidth": 0,
              "ticks": ""
             }
            },
            "type": "scattermapbox"
           }
          ],
          "scatterpolar": [
           {
            "marker": {
             "colorbar": {
              "outlinewidth": 0,
              "ticks": ""
             }
            },
            "type": "scatterpolar"
           }
          ],
          "scatterpolargl": [
           {
            "marker": {
             "colorbar": {
              "outlinewidth": 0,
              "ticks": ""
             }
            },
            "type": "scatterpolargl"
           }
          ],
          "scatterternary": [
           {
            "marker": {
             "colorbar": {
              "outlinewidth": 0,
              "ticks": ""
             }
            },
            "type": "scatterternary"
           }
          ],
          "surface": [
           {
            "colorbar": {
             "outlinewidth": 0,
             "ticks": ""
            },
            "colorscale": [
             [
              0,
              "#0d0887"
             ],
             [
              0.1111111111111111,
              "#46039f"
             ],
             [
              0.2222222222222222,
              "#7201a8"
             ],
             [
              0.3333333333333333,
              "#9c179e"
             ],
             [
              0.4444444444444444,
              "#bd3786"
             ],
             [
              0.5555555555555556,
              "#d8576b"
             ],
             [
              0.6666666666666666,
              "#ed7953"
             ],
             [
              0.7777777777777778,
              "#fb9f3a"
             ],
             [
              0.8888888888888888,
              "#fdca26"
             ],
             [
              1,
              "#f0f921"
             ]
            ],
            "type": "surface"
           }
          ],
          "table": [
           {
            "cells": {
             "fill": {
              "color": "#EBF0F8"
             },
             "line": {
              "color": "white"
             }
            },
            "header": {
             "fill": {
              "color": "#C8D4E3"
             },
             "line": {
              "color": "white"
             }
            },
            "type": "table"
           }
          ]
         },
         "layout": {
          "annotationdefaults": {
           "arrowcolor": "#2a3f5f",
           "arrowhead": 0,
           "arrowwidth": 1
          },
          "autotypenumbers": "strict",
          "coloraxis": {
           "colorbar": {
            "outlinewidth": 0,
            "ticks": ""
           }
          },
          "colorscale": {
           "diverging": [
            [
             0,
             "#8e0152"
            ],
            [
             0.1,
             "#c51b7d"
            ],
            [
             0.2,
             "#de77ae"
            ],
            [
             0.3,
             "#f1b6da"
            ],
            [
             0.4,
             "#fde0ef"
            ],
            [
             0.5,
             "#f7f7f7"
            ],
            [
             0.6,
             "#e6f5d0"
            ],
            [
             0.7,
             "#b8e186"
            ],
            [
             0.8,
             "#7fbc41"
            ],
            [
             0.9,
             "#4d9221"
            ],
            [
             1,
             "#276419"
            ]
           ],
           "sequential": [
            [
             0,
             "#0d0887"
            ],
            [
             0.1111111111111111,
             "#46039f"
            ],
            [
             0.2222222222222222,
             "#7201a8"
            ],
            [
             0.3333333333333333,
             "#9c179e"
            ],
            [
             0.4444444444444444,
             "#bd3786"
            ],
            [
             0.5555555555555556,
             "#d8576b"
            ],
            [
             0.6666666666666666,
             "#ed7953"
            ],
            [
             0.7777777777777778,
             "#fb9f3a"
            ],
            [
             0.8888888888888888,
             "#fdca26"
            ],
            [
             1,
             "#f0f921"
            ]
           ],
           "sequentialminus": [
            [
             0,
             "#0d0887"
            ],
            [
             0.1111111111111111,
             "#46039f"
            ],
            [
             0.2222222222222222,
             "#7201a8"
            ],
            [
             0.3333333333333333,
             "#9c179e"
            ],
            [
             0.4444444444444444,
             "#bd3786"
            ],
            [
             0.5555555555555556,
             "#d8576b"
            ],
            [
             0.6666666666666666,
             "#ed7953"
            ],
            [
             0.7777777777777778,
             "#fb9f3a"
            ],
            [
             0.8888888888888888,
             "#fdca26"
            ],
            [
             1,
             "#f0f921"
            ]
           ]
          },
          "colorway": [
           "#636efa",
           "#EF553B",
           "#00cc96",
           "#ab63fa",
           "#FFA15A",
           "#19d3f3",
           "#FF6692",
           "#B6E880",
           "#FF97FF",
           "#FECB52"
          ],
          "font": {
           "color": "#2a3f5f"
          },
          "geo": {
           "bgcolor": "white",
           "lakecolor": "white",
           "landcolor": "#E5ECF6",
           "showlakes": true,
           "showland": true,
           "subunitcolor": "white"
          },
          "hoverlabel": {
           "align": "left"
          },
          "hovermode": "closest",
          "mapbox": {
           "style": "light"
          },
          "paper_bgcolor": "white",
          "plot_bgcolor": "#E5ECF6",
          "polar": {
           "angularaxis": {
            "gridcolor": "white",
            "linecolor": "white",
            "ticks": ""
           },
           "bgcolor": "#E5ECF6",
           "radialaxis": {
            "gridcolor": "white",
            "linecolor": "white",
            "ticks": ""
           }
          },
          "scene": {
           "xaxis": {
            "backgroundcolor": "#E5ECF6",
            "gridcolor": "white",
            "gridwidth": 2,
            "linecolor": "white",
            "showbackground": true,
            "ticks": "",
            "zerolinecolor": "white"
           },
           "yaxis": {
            "backgroundcolor": "#E5ECF6",
            "gridcolor": "white",
            "gridwidth": 2,
            "linecolor": "white",
            "showbackground": true,
            "ticks": "",
            "zerolinecolor": "white"
           },
           "zaxis": {
            "backgroundcolor": "#E5ECF6",
            "gridcolor": "white",
            "gridwidth": 2,
            "linecolor": "white",
            "showbackground": true,
            "ticks": "",
            "zerolinecolor": "white"
           }
          },
          "shapedefaults": {
           "line": {
            "color": "#2a3f5f"
           }
          },
          "ternary": {
           "aaxis": {
            "gridcolor": "white",
            "linecolor": "white",
            "ticks": ""
           },
           "baxis": {
            "gridcolor": "white",
            "linecolor": "white",
            "ticks": ""
           },
           "bgcolor": "#E5ECF6",
           "caxis": {
            "gridcolor": "white",
            "linecolor": "white",
            "ticks": ""
           }
          },
          "title": {
           "x": 0.05
          },
          "xaxis": {
           "automargin": true,
           "gridcolor": "white",
           "linecolor": "white",
           "ticks": "",
           "title": {
            "standoff": 15
           },
           "zerolinecolor": "white",
           "zerolinewidth": 2
          },
          "yaxis": {
           "automargin": true,
           "gridcolor": "white",
           "linecolor": "white",
           "ticks": "",
           "title": {
            "standoff": 15
           },
           "zerolinecolor": "white",
           "zerolinewidth": 2
          }
         }
        },
        "title": {
         "text": "ARIMA Forecast for FIRECOUNT (STN2)"
        },
        "xaxis": {
         "anchor": "y",
         "domain": [
          0,
          1
         ],
         "title": {
          "text": "Year"
         }
        },
        "yaxis": {
         "anchor": "x",
         "domain": [
          0,
          1
         ],
         "title": {
          "text": "Predicted FIRECOUNT"
         }
        }
       }
      }
     },
     "metadata": {},
     "output_type": "display_data"
    },
    {
     "name": "stdout",
     "output_type": "stream",
     "text": [
      "The predicted value for 2022 is 82476.28\n",
      "The predicted value for 2023 is 81156.04\n",
      "The predicted value for 2024 is 80979.02\n",
      "The predicted value for 2025 is 80969.23\n"
     ]
    }
   ],
   "source": [
    "import pandas as pd\n",
    "import numpy as np\n",
    "import matplotlib.pyplot as plt\n",
    "from statsmodels.tsa.arima.model import ARIMA\n",
    "import plotly.express as px\n",
    "\n",
    "# Load the STN2 dataset\n",
    "stn2_data = pd.read_csv('D:\\stubble buring\\stubble\\STN2.csv')\n",
    "\n",
    "# Convert the 'DATE' column to datetime format\n",
    "stn2_data['DATE'] = pd.to_datetime(stn2_data['DATE'], format='%d-%m-%Y')\n",
    "\n",
    "# Set the 'DATE' column as the index\n",
    "stn2_data.set_index('DATE', inplace=True)\n",
    "\n",
    "# Resample the data to monthly frequency, summing the 'FIRECOUNT' values\n",
    "stn2_monthly_data = stn2_data['FIRECOUNT'].resample('M').sum()\n",
    "\n",
    "# Split the data into training and testing (70% training, 30% testing)\n",
    "train_size = int(len(stn2_monthly_data) * 0.7)\n",
    "train_data, test_data = stn2_monthly_data[:train_size], stn2_monthly_data[train_size:]\n",
    "\n",
    "# Fit ARIMA model\n",
    "arima_model_stn2 = ARIMA(train_data, order=(5, 1, 0))  # Adjust the order based on your model diagnostics\n",
    "arima_model_stn2_fit = arima_model_stn2.fit()\n",
    "\n",
    "# Forecast the next 48 months (4 years)\n",
    "forecast_steps = 48\n",
    "forecast_stn2 = arima_model_stn2_fit.forecast(steps=forecast_steps)\n",
    "\n",
    "# Generate forecast date range for 2022-2025\n",
    "forecast_index = pd.date_range(start='2022-01-01', periods=forecast_steps, freq='M')\n",
    "\n",
    "# Create a DataFrame for the forecasted values\n",
    "forecast_df_stn2 = pd.DataFrame({'Date': forecast_index, 'Forecast': forecast_stn2})\n",
    "\n",
    "# Plot the forecast using Plotly Express\n",
    "fig_stn2 = px.line(forecast_df_stn2, x='Date', y='Forecast', title=\"ARIMA Forecast for FIRECOUNT (STN2)\", labels={'Date': 'Year', 'Forecast': 'Predicted FIRECOUNT'})\n",
    "fig_stn2.show()\n",
    "\n",
    "# Display the forecasted values for 2022-2025\n",
    "for year in range(2022, 2026):\n",
    "    predicted_value = forecast_df_stn2[forecast_df_stn2['Date'].dt.year == year]['Forecast'].sum()\n",
    "    print(f\"The predicted value for {year} is {predicted_value:.2f}\")\n"
   ]
  },
  {
   "cell_type": "code",
   "execution_count": 20,
   "metadata": {},
   "outputs": [],
   "source": [
    "## 1"
   ]
  },
  {
   "cell_type": "code",
   "execution_count": 23,
   "metadata": {},
   "outputs": [
    {
     "name": "stdout",
     "output_type": "stream",
     "text": [
      "Performing stepwise search to minimize aic\n",
      " ARIMA(2,0,2)(0,0,0)[0]             : AIC=4997.246, Time=0.10 sec\n",
      " ARIMA(0,0,0)(0,0,0)[0]             : AIC=5359.073, Time=0.00 sec\n",
      " ARIMA(1,0,0)(0,0,0)[0]             : AIC=4993.645, Time=0.02 sec\n",
      " ARIMA(0,0,1)(0,0,0)[0]             : AIC=5167.000, Time=0.03 sec\n",
      " ARIMA(2,0,0)(0,0,0)[0]             : AIC=4994.509, Time=0.03 sec\n",
      " ARIMA(1,0,1)(0,0,0)[0]             : AIC=4994.383, Time=0.03 sec\n",
      " ARIMA(2,0,1)(0,0,0)[0]             : AIC=4995.397, Time=0.04 sec\n",
      " ARIMA(1,0,0)(0,0,0)[0] intercept   : AIC=4988.423, Time=0.01 sec\n",
      " ARIMA(0,0,0)(0,0,0)[0] intercept   : AIC=5288.506, Time=0.02 sec\n",
      " ARIMA(2,0,0)(0,0,0)[0] intercept   : AIC=4989.980, Time=0.03 sec\n",
      " ARIMA(1,0,1)(0,0,0)[0] intercept   : AIC=4990.006, Time=0.03 sec\n",
      " ARIMA(0,0,1)(0,0,0)[0] intercept   : AIC=5118.375, Time=0.13 sec\n",
      " ARIMA(2,0,1)(0,0,0)[0] intercept   : AIC=4991.986, Time=0.07 sec\n",
      "\n",
      "Best model:  ARIMA(1,0,0)(0,0,0)[0] intercept\n",
      "Total fit time: 0.552 seconds\n",
      "                               SARIMAX Results                                \n",
      "==============================================================================\n",
      "Dep. Variable:                      y   No. Observations:                  302\n",
      "Model:               SARIMAX(1, 0, 0)   Log Likelihood               -2491.211\n",
      "Date:                Sun, 01 Dec 2024   AIC                           4988.423\n",
      "Time:                        14:53:02   BIC                           4999.554\n",
      "Sample:                             0   HQIC                          4992.877\n",
      "                                - 302                                         \n",
      "Covariance Type:                  opg                                         \n",
      "==============================================================================\n",
      "                 coef    std err          z      P>|z|      [0.025      0.975]\n",
      "------------------------------------------------------------------------------\n",
      "intercept    162.9444    121.948      1.336      0.181     -76.069     401.957\n",
      "ar.L1          0.7931      0.028     28.061      0.000       0.738       0.849\n",
      "sigma2      8.554e+05   4.39e+04     19.505      0.000    7.69e+05    9.41e+05\n",
      "===================================================================================\n",
      "Ljung-Box (L1) (Q):                   0.23   Jarque-Bera (JB):               895.03\n",
      "Prob(Q):                              0.63   Prob(JB):                         0.00\n",
      "Heteroskedasticity (H):               0.73   Skew:                             1.22\n",
      "Prob(H) (two-sided):                  0.11   Kurtosis:                        11.07\n",
      "===================================================================================\n",
      "\n",
      "Warnings:\n",
      "[1] Covariance matrix calculated using the outer product of gradients (complex-step).\n",
      "Model Evaluation Metrics:\n",
      "MAE: 1228.41, RMSE: 1716.24\n"
     ]
    },
    {
     "name": "stderr",
     "output_type": "stream",
     "text": [
      "e:\\Anaconda\\Lib\\site-packages\\statsmodels\\tsa\\base\\tsa_model.py:836: ValueWarning:\n",
      "\n",
      "No supported index is available. Prediction results will be given with an integer index beginning at `start`.\n",
      "\n",
      "e:\\Anaconda\\Lib\\site-packages\\statsmodels\\tsa\\base\\tsa_model.py:836: FutureWarning:\n",
      "\n",
      "No supported index is available. In the next version, calling this method in a model without a supported index will result in an exception.\n",
      "\n",
      "C:\\Users\\goelk\\AppData\\Local\\Temp\\ipykernel_20608\\2424403757.py:34: FutureWarning:\n",
      "\n",
      "'M' is deprecated and will be removed in a future version, please use 'ME' instead.\n",
      "\n",
      "e:\\Anaconda\\Lib\\site-packages\\statsmodels\\tsa\\base\\tsa_model.py:836: ValueWarning:\n",
      "\n",
      "No supported index is available. Prediction results will be given with an integer index beginning at `start`.\n",
      "\n",
      "e:\\Anaconda\\Lib\\site-packages\\statsmodels\\tsa\\base\\tsa_model.py:836: FutureWarning:\n",
      "\n",
      "No supported index is available. In the next version, calling this method in a model without a supported index will result in an exception.\n",
      "\n"
     ]
    },
    {
     "data": {
      "application/vnd.plotly.v1+json": {
       "config": {
        "plotlyServerURL": "https://plot.ly"
       },
       "data": [
        {
         "hovertemplate": "<extra></extra>",
         "legendgroup": "",
         "line": {
          "color": "#636efa",
          "dash": "solid"
         },
         "marker": {
          "symbol": "circle"
         },
         "mode": "lines",
         "name": "",
         "orientation": "v",
         "showlegend": false,
         "type": "scatter",
         "xaxis": "x",
         "yaxis": "y"
        },
        {
         "mode": "lines",
         "name": "Training Data",
         "type": "scatter",
         "x": [
          "2012-01-09T00:00:00",
          "2012-02-09T00:00:00",
          "2012-03-09T00:00:00",
          "2012-04-09T00:00:00",
          "2012-05-09T00:00:00",
          "2012-06-09T00:00:00",
          "2012-07-09T00:00:00",
          "2012-08-09T00:00:00",
          "2012-09-09T00:00:00",
          "2012-10-09T00:00:00",
          "2012-11-09T00:00:00",
          "2012-12-09T00:00:00",
          "2012-01-10T00:00:00",
          "2012-02-10T00:00:00",
          "2012-03-10T00:00:00",
          "2012-04-10T00:00:00",
          "2012-05-10T00:00:00",
          "2012-06-10T00:00:00",
          "2012-07-10T00:00:00",
          "2012-08-10T00:00:00",
          "2012-09-10T00:00:00",
          "2012-10-10T00:00:00",
          "2012-11-10T00:00:00",
          "2012-12-10T00:00:00",
          "2012-01-11T00:00:00",
          "2012-02-11T00:00:00",
          "2012-03-11T00:00:00",
          "2012-04-11T00:00:00",
          "2012-05-11T00:00:00",
          "2012-06-11T00:00:00",
          "2012-07-11T00:00:00",
          "2012-08-11T00:00:00",
          "2012-09-11T00:00:00",
          "2012-10-11T00:00:00",
          "2012-11-11T00:00:00",
          "2012-12-11T00:00:00",
          "2012-01-12T00:00:00",
          "2012-02-12T00:00:00",
          "2012-03-12T00:00:00",
          "2012-04-12T00:00:00",
          "2012-05-12T00:00:00",
          "2012-06-12T00:00:00",
          "2012-07-12T00:00:00",
          "2012-08-12T00:00:00",
          "2012-09-12T00:00:00",
          "2012-10-12T00:00:00",
          "2012-11-12T00:00:00",
          "2012-12-12T00:00:00",
          "2013-01-09T00:00:00",
          "2013-02-09T00:00:00",
          "2013-03-09T00:00:00",
          "2013-04-09T00:00:00",
          "2013-05-09T00:00:00",
          "2013-06-09T00:00:00",
          "2013-07-09T00:00:00",
          "2013-08-09T00:00:00",
          "2013-09-09T00:00:00",
          "2013-10-09T00:00:00",
          "2013-11-09T00:00:00",
          "2013-12-09T00:00:00",
          "2013-01-10T00:00:00",
          "2013-02-10T00:00:00",
          "2013-03-10T00:00:00",
          "2013-04-10T00:00:00",
          "2013-05-10T00:00:00",
          "2013-06-10T00:00:00",
          "2013-07-10T00:00:00",
          "2013-08-10T00:00:00",
          "2013-09-10T00:00:00",
          "2013-10-10T00:00:00",
          "2013-11-10T00:00:00",
          "2013-12-10T00:00:00",
          "2013-01-11T00:00:00",
          "2013-02-11T00:00:00",
          "2013-03-11T00:00:00",
          "2013-04-11T00:00:00",
          "2013-05-11T00:00:00",
          "2013-06-11T00:00:00",
          "2013-07-11T00:00:00",
          "2013-08-11T00:00:00",
          "2013-09-11T00:00:00",
          "2013-10-11T00:00:00",
          "2013-11-11T00:00:00",
          "2013-12-11T00:00:00",
          "2013-01-12T00:00:00",
          "2013-02-12T00:00:00",
          "2013-03-12T00:00:00",
          "2013-04-12T00:00:00",
          "2013-05-12T00:00:00",
          "2013-06-12T00:00:00",
          "2013-07-12T00:00:00",
          "2013-08-12T00:00:00",
          "2013-09-12T00:00:00",
          "2013-10-12T00:00:00",
          "2013-11-12T00:00:00",
          "2013-12-12T00:00:00",
          "2014-01-09T00:00:00",
          "2014-02-09T00:00:00",
          "2014-03-09T00:00:00",
          "2014-04-09T00:00:00",
          "2014-05-09T00:00:00",
          "2014-06-09T00:00:00",
          "2014-07-09T00:00:00",
          "2014-08-09T00:00:00",
          "2014-09-09T00:00:00",
          "2014-10-09T00:00:00",
          "2014-11-09T00:00:00",
          "2014-12-09T00:00:00",
          "2014-01-10T00:00:00",
          "2014-02-10T00:00:00",
          "2014-03-10T00:00:00",
          "2014-04-10T00:00:00",
          "2014-05-10T00:00:00",
          "2014-06-10T00:00:00",
          "2014-07-10T00:00:00",
          "2014-08-10T00:00:00",
          "2014-09-10T00:00:00",
          "2014-10-10T00:00:00",
          "2014-11-10T00:00:00",
          "2014-12-10T00:00:00",
          "2014-01-11T00:00:00",
          "2014-02-11T00:00:00",
          "2014-03-11T00:00:00",
          "2014-04-11T00:00:00",
          "2014-05-11T00:00:00",
          "2014-06-11T00:00:00",
          "2014-07-11T00:00:00",
          "2014-08-11T00:00:00",
          "2014-09-11T00:00:00",
          "2014-10-11T00:00:00",
          "2014-11-11T00:00:00",
          "2014-12-11T00:00:00",
          "2014-01-12T00:00:00",
          "2014-02-12T00:00:00",
          "2014-03-12T00:00:00",
          "2014-04-12T00:00:00",
          "2014-05-12T00:00:00",
          "2014-06-12T00:00:00",
          "2014-07-12T00:00:00",
          "2014-08-12T00:00:00",
          "2014-09-12T00:00:00",
          "2014-10-12T00:00:00",
          "2014-11-12T00:00:00",
          "2014-12-12T00:00:00",
          "2016-01-09T00:00:00",
          "2016-02-09T00:00:00",
          "2016-03-09T00:00:00",
          "2016-04-09T00:00:00",
          "2016-05-09T00:00:00",
          "2016-06-09T00:00:00",
          "2016-07-09T00:00:00",
          "2016-08-09T00:00:00",
          "2016-09-09T00:00:00",
          "2016-10-09T00:00:00",
          "2016-11-09T00:00:00",
          "2016-12-09T00:00:00",
          "2016-01-10T00:00:00",
          "2016-02-10T00:00:00",
          "2016-03-10T00:00:00",
          "2016-04-10T00:00:00",
          "2016-05-10T00:00:00",
          "2016-06-10T00:00:00",
          "2016-07-10T00:00:00",
          "2016-08-10T00:00:00",
          "2016-09-10T00:00:00",
          "2016-10-10T00:00:00",
          "2016-11-10T00:00:00",
          "2016-12-10T00:00:00",
          "2016-01-11T00:00:00",
          "2016-02-11T00:00:00",
          "2016-03-11T00:00:00",
          "2016-04-11T00:00:00",
          "2016-05-11T00:00:00",
          "2016-06-11T00:00:00",
          "2016-07-11T00:00:00",
          "2016-08-11T00:00:00",
          "2016-09-11T00:00:00",
          "2016-10-11T00:00:00",
          "2016-11-11T00:00:00",
          "2016-12-11T00:00:00",
          "2016-01-12T00:00:00",
          "2016-02-12T00:00:00",
          "2016-03-12T00:00:00",
          "2016-04-12T00:00:00",
          "2016-05-12T00:00:00",
          "2016-06-12T00:00:00",
          "2016-07-12T00:00:00",
          "2016-08-12T00:00:00",
          "2016-09-12T00:00:00",
          "2016-10-12T00:00:00",
          "2016-11-12T00:00:00",
          "2016-12-12T00:00:00",
          "2017-01-09T00:00:00",
          "2017-02-09T00:00:00",
          "2017-03-09T00:00:00",
          "2017-04-09T00:00:00",
          "2017-05-09T00:00:00",
          "2017-06-09T00:00:00",
          "2017-07-09T00:00:00",
          "2017-08-09T00:00:00",
          "2017-09-09T00:00:00",
          "2017-10-09T00:00:00",
          "2017-11-09T00:00:00",
          "2017-12-09T00:00:00",
          "2017-01-10T00:00:00",
          "2017-02-10T00:00:00",
          "2017-03-10T00:00:00",
          "2017-04-10T00:00:00",
          "2017-05-10T00:00:00",
          "2017-06-10T00:00:00",
          "2017-07-10T00:00:00",
          "2017-08-10T00:00:00",
          "2017-09-10T00:00:00",
          "2017-10-10T00:00:00",
          "2017-11-10T00:00:00",
          "2017-12-10T00:00:00",
          "2017-01-11T00:00:00",
          "2017-02-11T00:00:00",
          "2017-03-11T00:00:00",
          "2017-04-11T00:00:00",
          "2017-05-11T00:00:00",
          "2017-06-11T00:00:00",
          "2017-07-11T00:00:00",
          "2017-08-11T00:00:00",
          "2017-09-11T00:00:00",
          "2017-10-11T00:00:00",
          "2017-11-11T00:00:00",
          "2017-12-11T00:00:00",
          "2017-01-12T00:00:00",
          "2017-02-12T00:00:00",
          "2017-03-12T00:00:00",
          "2017-04-12T00:00:00",
          "2017-05-12T00:00:00",
          "2017-06-12T00:00:00",
          "2017-07-12T00:00:00",
          "2017-08-12T00:00:00",
          "2017-09-12T00:00:00",
          "2017-10-12T00:00:00",
          "2017-11-12T00:00:00",
          "2017-12-12T00:00:00",
          "2018-01-09T00:00:00",
          "2018-02-09T00:00:00",
          "2018-03-09T00:00:00",
          "2018-04-09T00:00:00",
          "2018-05-09T00:00:00",
          "2018-06-09T00:00:00",
          "2018-07-09T00:00:00",
          "2018-08-09T00:00:00",
          "2018-09-09T00:00:00",
          "2018-10-09T00:00:00",
          "2018-11-09T00:00:00",
          "2018-12-09T00:00:00",
          "2018-01-10T00:00:00",
          "2018-02-10T00:00:00",
          "2018-03-10T00:00:00",
          "2018-04-10T00:00:00",
          "2018-05-10T00:00:00",
          "2018-06-10T00:00:00",
          "2018-07-10T00:00:00",
          "2018-08-10T00:00:00",
          "2018-09-10T00:00:00",
          "2018-10-10T00:00:00",
          "2018-11-10T00:00:00",
          "2018-12-10T00:00:00",
          "2018-01-11T00:00:00",
          "2018-02-11T00:00:00",
          "2018-03-11T00:00:00",
          "2018-04-11T00:00:00",
          "2018-05-11T00:00:00",
          "2018-06-11T00:00:00",
          "2018-07-11T00:00:00",
          "2018-08-11T00:00:00",
          "2018-09-11T00:00:00",
          "2018-10-11T00:00:00",
          "2018-11-11T00:00:00",
          "2018-12-11T00:00:00",
          "2018-01-12T00:00:00",
          "2018-02-12T00:00:00",
          "2018-03-12T00:00:00",
          "2018-04-12T00:00:00",
          "2018-05-12T00:00:00",
          "2018-06-12T00:00:00",
          "2018-07-12T00:00:00",
          "2018-08-12T00:00:00",
          "2018-09-12T00:00:00",
          "2018-10-12T00:00:00",
          "2018-11-12T00:00:00",
          "2018-12-12T00:00:00",
          "2019-01-09T00:00:00",
          "2019-02-09T00:00:00",
          "2019-03-09T00:00:00",
          "2019-04-09T00:00:00",
          "2019-05-09T00:00:00",
          "2019-06-09T00:00:00",
          "2019-07-09T00:00:00",
          "2019-08-09T00:00:00",
          "2019-09-09T00:00:00",
          "2019-10-09T00:00:00",
          "2019-11-09T00:00:00",
          "2019-12-09T00:00:00",
          "2019-01-10T00:00:00",
          "2019-02-10T00:00:00"
         ],
         "y": [
          1,
          1,
          1,
          1,
          6,
          2,
          2,
          0,
          6,
          5,
          5,
          3,
          116,
          88,
          117,
          176,
          334,
          320,
          304,
          294,
          382,
          530,
          906,
          682,
          4411,
          4028,
          3133,
          4215,
          3408,
          4566,
          4537,
          2936,
          2377,
          2741,
          1846,
          1863,
          20,
          21,
          42,
          28,
          17,
          23,
          14,
          35,
          41,
          23,
          4,
          3,
          8,
          4,
          10,
          6,
          6,
          8,
          2,
          2,
          4,
          7,
          6,
          12,
          36,
          106,
          173,
          51,
          73,
          52,
          105,
          271,
          229,
          175,
          31,
          20,
          1878,
          4952,
          4822,
          7872,
          1687,
          728,
          34,
          327,
          1371,
          3721,
          2097,
          1733,
          66,
          19,
          26,
          53,
          26,
          53,
          27,
          30,
          22,
          28,
          31,
          34,
          0,
          0,
          0,
          0,
          0,
          0,
          0,
          4,
          3,
          3,
          0,
          6,
          253,
          142,
          111,
          184,
          283,
          402,
          350,
          163,
          219,
          255,
          669,
          921,
          3880,
          5286,
          2786,
          3188,
          5668,
          4690,
          5070,
          1523,
          2266,
          3400,
          2663,
          3083,
          29,
          14,
          39,
          34,
          38,
          56,
          22,
          44,
          75,
          62,
          17,
          13,
          0,
          1,
          1,
          3,
          2,
          7,
          3,
          12,
          8,
          3,
          3,
          1,
          138,
          66,
          45,
          43,
          106,
          248,
          271,
          140,
          363,
          560,
          899,
          825,
          5222,
          3369,
          4029,
          3412,
          4395,
          6184,
          8539,
          4220,
          3959,
          2983,
          4238,
          2066,
          58,
          191,
          215,
          279,
          161,
          87,
          189,
          232,
          248,
          3,
          19,
          8,
          0,
          1,
          2,
          2,
          1,
          0,
          1,
          2,
          3,
          5,
          2,
          3,
          66,
          70,
          100,
          131,
          153,
          149,
          185,
          347,
          288,
          290,
          171,
          446,
          2603,
          1292,
          1904,
          5133,
          2517,
          185,
          439,
          2380,
          979,
          1998,
          128,
          24,
          124,
          80,
          23,
          19,
          21,
          40,
          105,
          76,
          50,
          21,
          1,
          1,
          0,
          0,
          0,
          1,
          0,
          0,
          2,
          2,
          3,
          1,
          1,
          4,
          23,
          29,
          7,
          51,
          80,
          146,
          260,
          68,
          91,
          52,
          103,
          194,
          3668,
          3795,
          1188,
          998,
          3148,
          3356,
          4518,
          4828,
          2195,
          1833,
          1610,
          1403,
          21,
          44,
          26,
          19,
          27,
          19,
          15,
          16,
          28,
          12,
          10,
          0,
          1,
          4,
          3,
          0,
          2,
          3,
          1,
          2,
          5,
          5,
          7,
          3,
          3,
          31
         ]
        },
        {
         "mode": "lines",
         "name": "Testing Data",
         "type": "scatter",
         "x": [
          "2019-03-10T00:00:00",
          "2019-04-10T00:00:00",
          "2019-05-10T00:00:00",
          "2019-06-10T00:00:00",
          "2019-07-10T00:00:00",
          "2019-08-10T00:00:00",
          "2019-09-10T00:00:00",
          "2019-10-10T00:00:00",
          "2019-11-10T00:00:00",
          "2019-12-10T00:00:00",
          "2019-01-11T00:00:00",
          "2019-02-11T00:00:00",
          "2019-03-11T00:00:00",
          "2019-04-11T00:00:00",
          "2019-05-11T00:00:00",
          "2019-06-11T00:00:00",
          "2019-07-11T00:00:00",
          "2019-08-11T00:00:00",
          "2019-09-11T00:00:00",
          "2019-10-11T00:00:00",
          "2019-11-11T00:00:00",
          "2019-12-11T00:00:00",
          "2019-01-12T00:00:00",
          "2019-02-12T00:00:00",
          "2019-03-12T00:00:00",
          "2019-04-12T00:00:00",
          "2019-05-12T00:00:00",
          "2019-06-12T00:00:00",
          "2019-07-12T00:00:00",
          "2019-08-12T00:00:00",
          "2019-09-12T00:00:00",
          "2019-10-12T00:00:00",
          "2019-11-12T00:00:00",
          "2019-12-12T00:00:00",
          "2020-01-09T00:00:00",
          "2020-02-09T00:00:00",
          "2020-03-09T00:00:00",
          "2020-04-09T00:00:00",
          "2020-05-09T00:00:00",
          "2020-06-09T00:00:00",
          "2020-07-09T00:00:00",
          "2020-08-09T00:00:00",
          "2020-09-09T00:00:00",
          "2020-10-09T00:00:00",
          "2020-11-09T00:00:00",
          "2020-12-09T00:00:00",
          "2020-01-10T00:00:00",
          "2020-02-10T00:00:00",
          "2020-03-10T00:00:00",
          "2020-04-10T00:00:00",
          "2020-05-10T00:00:00",
          "2020-06-10T00:00:00",
          "2020-07-10T00:00:00",
          "2020-08-10T00:00:00",
          "2020-09-10T00:00:00",
          "2020-10-10T00:00:00",
          "2020-11-10T00:00:00",
          "2020-12-10T00:00:00",
          "2020-01-11T00:00:00",
          "2020-02-11T00:00:00",
          "2020-03-11T00:00:00",
          "2020-04-11T00:00:00",
          "2020-05-11T00:00:00",
          "2020-06-11T00:00:00",
          "2020-07-11T00:00:00",
          "2020-08-11T00:00:00",
          "2020-09-11T00:00:00",
          "2020-10-11T00:00:00",
          "2020-11-11T00:00:00",
          "2020-12-11T00:00:00",
          "2020-01-12T00:00:00",
          "2020-02-12T00:00:00",
          "2020-03-12T00:00:00",
          "2020-04-12T00:00:00",
          "2020-05-12T00:00:00",
          "2020-06-12T00:00:00",
          "2020-07-12T00:00:00",
          "2020-08-12T00:00:00",
          "2020-09-12T00:00:00",
          "2020-10-12T00:00:00",
          "2020-11-12T00:00:00",
          "2020-12-12T00:00:00",
          "2021-01-09T00:00:00",
          "2021-02-09T00:00:00",
          "2021-03-09T00:00:00",
          "2021-04-09T00:00:00",
          "2021-05-09T00:00:00",
          "2021-06-09T00:00:00",
          "2021-07-09T00:00:00",
          "2021-08-09T00:00:00",
          "2021-09-09T00:00:00",
          "2021-10-09T00:00:00",
          "2021-11-09T00:00:00",
          "2021-12-09T00:00:00",
          "2021-01-10T00:00:00",
          "2021-02-10T00:00:00",
          "2021-03-10T00:00:00",
          "2021-04-10T00:00:00",
          "2021-05-10T00:00:00",
          "2021-06-10T00:00:00",
          "2021-07-10T00:00:00",
          "2021-08-10T00:00:00",
          "2021-09-10T00:00:00",
          "2021-10-10T00:00:00",
          "2021-11-10T00:00:00",
          "2021-12-10T00:00:00",
          "2021-01-11T00:00:00",
          "2021-02-11T00:00:00",
          "2021-03-11T00:00:00",
          "2021-04-11T00:00:00",
          "2021-05-11T00:00:00",
          "2021-06-11T00:00:00",
          "2021-07-11T00:00:00",
          "2021-08-11T00:00:00",
          "2021-09-11T00:00:00",
          "2021-10-11T00:00:00",
          "2021-11-11T00:00:00",
          "2021-12-11T00:00:00",
          "2021-01-12T00:00:00",
          "2021-02-12T00:00:00",
          "2021-03-12T00:00:00",
          "2021-04-12T00:00:00",
          "2021-05-12T00:00:00",
          "2021-06-12T00:00:00",
          "2021-07-12T00:00:00",
          "2021-08-12T00:00:00",
          "2021-09-12T00:00:00",
          "2021-10-12T00:00:00",
          "2021-11-12T00:00:00",
          "2021-12-12T00:00:00"
         ],
         "y": [
          45,
          35,
          42,
          21,
          45,
          134,
          162,
          277,
          199,
          166,
          342,
          1,
          2963,
          4889,
          5148,
          4309,
          154,
          438,
          1745,
          2474,
          758,
          600,
          132,
          106,
          73,
          35,
          30,
          83,
          82,
          69,
          10,
          25,
          0,
          0,
          0,
          1,
          4,
          1,
          1,
          4,
          5,
          1,
          6,
          9,
          1,
          1,
          211,
          190,
          114,
          242,
          188,
          270,
          262,
          173,
          183,
          324,
          588,
          462,
          3520,
          3628,
          2553,
          4012,
          5293,
          4327,
          5405,
          3554,
          1590,
          3582,
          2631,
          2038,
          66,
          65,
          69,
          68,
          29,
          19,
          27,
          41,
          16,
          42,
          16,
          2,
          1,
          1,
          0,
          1,
          4,
          6,
          4,
          0,
          1,
          0,
          0,
          0,
          8,
          6,
          23,
          31,
          32,
          34,
          98,
          121,
          224,
          296,
          137,
          153,
          2458,
          2834,
          2936,
          3537,
          6515,
          4600,
          5020,
          5433,
          4868,
          5833,
          4706,
          3993,
          2,
          7,
          23,
          37,
          10,
          19,
          32,
          19,
          11,
          16,
          28,
          34
         ]
        },
        {
         "mode": "lines",
         "name": "Forecast",
         "type": "scatter",
         "x": [
          "2019-02-28T00:00:00",
          "2019-03-31T00:00:00",
          "2019-04-30T00:00:00",
          "2019-05-31T00:00:00",
          "2019-06-30T00:00:00",
          "2019-07-31T00:00:00",
          "2019-08-31T00:00:00",
          "2019-09-30T00:00:00",
          "2019-10-31T00:00:00",
          "2019-11-30T00:00:00",
          "2019-12-31T00:00:00",
          "2020-01-31T00:00:00",
          "2020-02-29T00:00:00",
          "2020-03-31T00:00:00",
          "2020-04-30T00:00:00",
          "2020-05-31T00:00:00",
          "2020-06-30T00:00:00",
          "2020-07-31T00:00:00",
          "2020-08-31T00:00:00",
          "2020-09-30T00:00:00",
          "2020-10-31T00:00:00",
          "2020-11-30T00:00:00",
          "2020-12-31T00:00:00",
          "2021-01-31T00:00:00",
          "2021-02-28T00:00:00",
          "2021-03-31T00:00:00",
          "2021-04-30T00:00:00",
          "2021-05-31T00:00:00",
          "2021-06-30T00:00:00",
          "2021-07-31T00:00:00",
          "2021-08-31T00:00:00",
          "2021-09-30T00:00:00",
          "2021-10-31T00:00:00",
          "2021-11-30T00:00:00",
          "2021-12-31T00:00:00",
          "2022-01-31T00:00:00",
          "2022-02-28T00:00:00",
          "2022-03-31T00:00:00",
          "2022-04-30T00:00:00",
          "2022-05-31T00:00:00",
          "2022-06-30T00:00:00",
          "2022-07-31T00:00:00",
          "2022-08-31T00:00:00",
          "2022-09-30T00:00:00",
          "2022-10-31T00:00:00",
          "2022-11-30T00:00:00",
          "2022-12-31T00:00:00",
          "2023-01-31T00:00:00"
         ],
         "y": [
          null,
          null,
          null,
          null,
          null,
          null,
          null,
          null,
          null,
          null,
          null,
          null,
          null,
          null,
          null,
          null,
          null,
          null,
          null,
          null,
          null,
          null,
          null,
          null,
          null,
          null,
          null,
          null,
          null,
          null,
          null,
          null,
          null,
          null,
          null,
          null,
          null,
          null,
          null,
          null,
          null,
          null,
          null,
          null,
          null,
          null,
          null,
          null
         ]
        }
       ],
       "layout": {
        "legend": {
         "tracegroupgap": 0
        },
        "template": {
         "data": {
          "bar": [
           {
            "error_x": {
             "color": "#2a3f5f"
            },
            "error_y": {
             "color": "#2a3f5f"
            },
            "marker": {
             "line": {
              "color": "#E5ECF6",
              "width": 0.5
             },
             "pattern": {
              "fillmode": "overlay",
              "size": 10,
              "solidity": 0.2
             }
            },
            "type": "bar"
           }
          ],
          "barpolar": [
           {
            "marker": {
             "line": {
              "color": "#E5ECF6",
              "width": 0.5
             },
             "pattern": {
              "fillmode": "overlay",
              "size": 10,
              "solidity": 0.2
             }
            },
            "type": "barpolar"
           }
          ],
          "carpet": [
           {
            "aaxis": {
             "endlinecolor": "#2a3f5f",
             "gridcolor": "white",
             "linecolor": "white",
             "minorgridcolor": "white",
             "startlinecolor": "#2a3f5f"
            },
            "baxis": {
             "endlinecolor": "#2a3f5f",
             "gridcolor": "white",
             "linecolor": "white",
             "minorgridcolor": "white",
             "startlinecolor": "#2a3f5f"
            },
            "type": "carpet"
           }
          ],
          "choropleth": [
           {
            "colorbar": {
             "outlinewidth": 0,
             "ticks": ""
            },
            "type": "choropleth"
           }
          ],
          "contour": [
           {
            "colorbar": {
             "outlinewidth": 0,
             "ticks": ""
            },
            "colorscale": [
             [
              0,
              "#0d0887"
             ],
             [
              0.1111111111111111,
              "#46039f"
             ],
             [
              0.2222222222222222,
              "#7201a8"
             ],
             [
              0.3333333333333333,
              "#9c179e"
             ],
             [
              0.4444444444444444,
              "#bd3786"
             ],
             [
              0.5555555555555556,
              "#d8576b"
             ],
             [
              0.6666666666666666,
              "#ed7953"
             ],
             [
              0.7777777777777778,
              "#fb9f3a"
             ],
             [
              0.8888888888888888,
              "#fdca26"
             ],
             [
              1,
              "#f0f921"
             ]
            ],
            "type": "contour"
           }
          ],
          "contourcarpet": [
           {
            "colorbar": {
             "outlinewidth": 0,
             "ticks": ""
            },
            "type": "contourcarpet"
           }
          ],
          "heatmap": [
           {
            "colorbar": {
             "outlinewidth": 0,
             "ticks": ""
            },
            "colorscale": [
             [
              0,
              "#0d0887"
             ],
             [
              0.1111111111111111,
              "#46039f"
             ],
             [
              0.2222222222222222,
              "#7201a8"
             ],
             [
              0.3333333333333333,
              "#9c179e"
             ],
             [
              0.4444444444444444,
              "#bd3786"
             ],
             [
              0.5555555555555556,
              "#d8576b"
             ],
             [
              0.6666666666666666,
              "#ed7953"
             ],
             [
              0.7777777777777778,
              "#fb9f3a"
             ],
             [
              0.8888888888888888,
              "#fdca26"
             ],
             [
              1,
              "#f0f921"
             ]
            ],
            "type": "heatmap"
           }
          ],
          "heatmapgl": [
           {
            "colorbar": {
             "outlinewidth": 0,
             "ticks": ""
            },
            "colorscale": [
             [
              0,
              "#0d0887"
             ],
             [
              0.1111111111111111,
              "#46039f"
             ],
             [
              0.2222222222222222,
              "#7201a8"
             ],
             [
              0.3333333333333333,
              "#9c179e"
             ],
             [
              0.4444444444444444,
              "#bd3786"
             ],
             [
              0.5555555555555556,
              "#d8576b"
             ],
             [
              0.6666666666666666,
              "#ed7953"
             ],
             [
              0.7777777777777778,
              "#fb9f3a"
             ],
             [
              0.8888888888888888,
              "#fdca26"
             ],
             [
              1,
              "#f0f921"
             ]
            ],
            "type": "heatmapgl"
           }
          ],
          "histogram": [
           {
            "marker": {
             "pattern": {
              "fillmode": "overlay",
              "size": 10,
              "solidity": 0.2
             }
            },
            "type": "histogram"
           }
          ],
          "histogram2d": [
           {
            "colorbar": {
             "outlinewidth": 0,
             "ticks": ""
            },
            "colorscale": [
             [
              0,
              "#0d0887"
             ],
             [
              0.1111111111111111,
              "#46039f"
             ],
             [
              0.2222222222222222,
              "#7201a8"
             ],
             [
              0.3333333333333333,
              "#9c179e"
             ],
             [
              0.4444444444444444,
              "#bd3786"
             ],
             [
              0.5555555555555556,
              "#d8576b"
             ],
             [
              0.6666666666666666,
              "#ed7953"
             ],
             [
              0.7777777777777778,
              "#fb9f3a"
             ],
             [
              0.8888888888888888,
              "#fdca26"
             ],
             [
              1,
              "#f0f921"
             ]
            ],
            "type": "histogram2d"
           }
          ],
          "histogram2dcontour": [
           {
            "colorbar": {
             "outlinewidth": 0,
             "ticks": ""
            },
            "colorscale": [
             [
              0,
              "#0d0887"
             ],
             [
              0.1111111111111111,
              "#46039f"
             ],
             [
              0.2222222222222222,
              "#7201a8"
             ],
             [
              0.3333333333333333,
              "#9c179e"
             ],
             [
              0.4444444444444444,
              "#bd3786"
             ],
             [
              0.5555555555555556,
              "#d8576b"
             ],
             [
              0.6666666666666666,
              "#ed7953"
             ],
             [
              0.7777777777777778,
              "#fb9f3a"
             ],
             [
              0.8888888888888888,
              "#fdca26"
             ],
             [
              1,
              "#f0f921"
             ]
            ],
            "type": "histogram2dcontour"
           }
          ],
          "mesh3d": [
           {
            "colorbar": {
             "outlinewidth": 0,
             "ticks": ""
            },
            "type": "mesh3d"
           }
          ],
          "parcoords": [
           {
            "line": {
             "colorbar": {
              "outlinewidth": 0,
              "ticks": ""
             }
            },
            "type": "parcoords"
           }
          ],
          "pie": [
           {
            "automargin": true,
            "type": "pie"
           }
          ],
          "scatter": [
           {
            "fillpattern": {
             "fillmode": "overlay",
             "size": 10,
             "solidity": 0.2
            },
            "type": "scatter"
           }
          ],
          "scatter3d": [
           {
            "line": {
             "colorbar": {
              "outlinewidth": 0,
              "ticks": ""
             }
            },
            "marker": {
             "colorbar": {
              "outlinewidth": 0,
              "ticks": ""
             }
            },
            "type": "scatter3d"
           }
          ],
          "scattercarpet": [
           {
            "marker": {
             "colorbar": {
              "outlinewidth": 0,
              "ticks": ""
             }
            },
            "type": "scattercarpet"
           }
          ],
          "scattergeo": [
           {
            "marker": {
             "colorbar": {
              "outlinewidth": 0,
              "ticks": ""
             }
            },
            "type": "scattergeo"
           }
          ],
          "scattergl": [
           {
            "marker": {
             "colorbar": {
              "outlinewidth": 0,
              "ticks": ""
             }
            },
            "type": "scattergl"
           }
          ],
          "scattermapbox": [
           {
            "marker": {
             "colorbar": {
              "outlinewidth": 0,
              "ticks": ""
             }
            },
            "type": "scattermapbox"
           }
          ],
          "scatterpolar": [
           {
            "marker": {
             "colorbar": {
              "outlinewidth": 0,
              "ticks": ""
             }
            },
            "type": "scatterpolar"
           }
          ],
          "scatterpolargl": [
           {
            "marker": {
             "colorbar": {
              "outlinewidth": 0,
              "ticks": ""
             }
            },
            "type": "scatterpolargl"
           }
          ],
          "scatterternary": [
           {
            "marker": {
             "colorbar": {
              "outlinewidth": 0,
              "ticks": ""
             }
            },
            "type": "scatterternary"
           }
          ],
          "surface": [
           {
            "colorbar": {
             "outlinewidth": 0,
             "ticks": ""
            },
            "colorscale": [
             [
              0,
              "#0d0887"
             ],
             [
              0.1111111111111111,
              "#46039f"
             ],
             [
              0.2222222222222222,
              "#7201a8"
             ],
             [
              0.3333333333333333,
              "#9c179e"
             ],
             [
              0.4444444444444444,
              "#bd3786"
             ],
             [
              0.5555555555555556,
              "#d8576b"
             ],
             [
              0.6666666666666666,
              "#ed7953"
             ],
             [
              0.7777777777777778,
              "#fb9f3a"
             ],
             [
              0.8888888888888888,
              "#fdca26"
             ],
             [
              1,
              "#f0f921"
             ]
            ],
            "type": "surface"
           }
          ],
          "table": [
           {
            "cells": {
             "fill": {
              "color": "#EBF0F8"
             },
             "line": {
              "color": "white"
             }
            },
            "header": {
             "fill": {
              "color": "#C8D4E3"
             },
             "line": {
              "color": "white"
             }
            },
            "type": "table"
           }
          ]
         },
         "layout": {
          "annotationdefaults": {
           "arrowcolor": "#2a3f5f",
           "arrowhead": 0,
           "arrowwidth": 1
          },
          "autotypenumbers": "strict",
          "coloraxis": {
           "colorbar": {
            "outlinewidth": 0,
            "ticks": ""
           }
          },
          "colorscale": {
           "diverging": [
            [
             0,
             "#8e0152"
            ],
            [
             0.1,
             "#c51b7d"
            ],
            [
             0.2,
             "#de77ae"
            ],
            [
             0.3,
             "#f1b6da"
            ],
            [
             0.4,
             "#fde0ef"
            ],
            [
             0.5,
             "#f7f7f7"
            ],
            [
             0.6,
             "#e6f5d0"
            ],
            [
             0.7,
             "#b8e186"
            ],
            [
             0.8,
             "#7fbc41"
            ],
            [
             0.9,
             "#4d9221"
            ],
            [
             1,
             "#276419"
            ]
           ],
           "sequential": [
            [
             0,
             "#0d0887"
            ],
            [
             0.1111111111111111,
             "#46039f"
            ],
            [
             0.2222222222222222,
             "#7201a8"
            ],
            [
             0.3333333333333333,
             "#9c179e"
            ],
            [
             0.4444444444444444,
             "#bd3786"
            ],
            [
             0.5555555555555556,
             "#d8576b"
            ],
            [
             0.6666666666666666,
             "#ed7953"
            ],
            [
             0.7777777777777778,
             "#fb9f3a"
            ],
            [
             0.8888888888888888,
             "#fdca26"
            ],
            [
             1,
             "#f0f921"
            ]
           ],
           "sequentialminus": [
            [
             0,
             "#0d0887"
            ],
            [
             0.1111111111111111,
             "#46039f"
            ],
            [
             0.2222222222222222,
             "#7201a8"
            ],
            [
             0.3333333333333333,
             "#9c179e"
            ],
            [
             0.4444444444444444,
             "#bd3786"
            ],
            [
             0.5555555555555556,
             "#d8576b"
            ],
            [
             0.6666666666666666,
             "#ed7953"
            ],
            [
             0.7777777777777778,
             "#fb9f3a"
            ],
            [
             0.8888888888888888,
             "#fdca26"
            ],
            [
             1,
             "#f0f921"
            ]
           ]
          },
          "colorway": [
           "#636efa",
           "#EF553B",
           "#00cc96",
           "#ab63fa",
           "#FFA15A",
           "#19d3f3",
           "#FF6692",
           "#B6E880",
           "#FF97FF",
           "#FECB52"
          ],
          "font": {
           "color": "#2a3f5f"
          },
          "geo": {
           "bgcolor": "white",
           "lakecolor": "white",
           "landcolor": "#E5ECF6",
           "showlakes": true,
           "showland": true,
           "subunitcolor": "white"
          },
          "hoverlabel": {
           "align": "left"
          },
          "hovermode": "closest",
          "mapbox": {
           "style": "light"
          },
          "paper_bgcolor": "white",
          "plot_bgcolor": "#E5ECF6",
          "polar": {
           "angularaxis": {
            "gridcolor": "white",
            "linecolor": "white",
            "ticks": ""
           },
           "bgcolor": "#E5ECF6",
           "radialaxis": {
            "gridcolor": "white",
            "linecolor": "white",
            "ticks": ""
           }
          },
          "scene": {
           "xaxis": {
            "backgroundcolor": "#E5ECF6",
            "gridcolor": "white",
            "gridwidth": 2,
            "linecolor": "white",
            "showbackground": true,
            "ticks": "",
            "zerolinecolor": "white"
           },
           "yaxis": {
            "backgroundcolor": "#E5ECF6",
            "gridcolor": "white",
            "gridwidth": 2,
            "linecolor": "white",
            "showbackground": true,
            "ticks": "",
            "zerolinecolor": "white"
           },
           "zaxis": {
            "backgroundcolor": "#E5ECF6",
            "gridcolor": "white",
            "gridwidth": 2,
            "linecolor": "white",
            "showbackground": true,
            "ticks": "",
            "zerolinecolor": "white"
           }
          },
          "shapedefaults": {
           "line": {
            "color": "#2a3f5f"
           }
          },
          "ternary": {
           "aaxis": {
            "gridcolor": "white",
            "linecolor": "white",
            "ticks": ""
           },
           "baxis": {
            "gridcolor": "white",
            "linecolor": "white",
            "ticks": ""
           },
           "bgcolor": "#E5ECF6",
           "caxis": {
            "gridcolor": "white",
            "linecolor": "white",
            "ticks": ""
           }
          },
          "title": {
           "x": 0.05
          },
          "xaxis": {
           "automargin": true,
           "gridcolor": "white",
           "linecolor": "white",
           "ticks": "",
           "title": {
            "standoff": 15
           },
           "zerolinecolor": "white",
           "zerolinewidth": 2
          },
          "yaxis": {
           "automargin": true,
           "gridcolor": "white",
           "linecolor": "white",
           "ticks": "",
           "title": {
            "standoff": 15
           },
           "zerolinecolor": "white",
           "zerolinewidth": 2
          }
         }
        },
        "title": {
         "text": "ARIMA Forecast with Original Data"
        },
        "xaxis": {
         "anchor": "y",
         "domain": [
          0,
          1
         ],
         "title": {
          "text": "Date"
         }
        },
        "yaxis": {
         "anchor": "x",
         "domain": [
          0,
          1
         ],
         "title": {
          "text": "FIRECOUNT"
         }
        }
       }
      }
     },
     "metadata": {},
     "output_type": "display_data"
    },
    {
     "name": "stdout",
     "output_type": "stream",
     "text": [
      "The predicted value for 2022 is 187.53\n",
      "The predicted value for 2023 is 750.44\n",
      "The predicted value for 2024 is 785.31\n",
      "The predicted value for 2025 is 787.47\n"
     ]
    }
   ],
   "source": [
    "import pandas as pd\n",
    "from pmdarima import auto_arima\n",
    "import numpy as np\n",
    "import plotly.express as px\n",
    "from sklearn.metrics import mean_absolute_error, mean_squared_error\n",
    "\n",
    "# Load and clean data\n",
    "df = pd.read_csv(r'D:\\stubble buring\\stubble\\STN2.csv')\n",
    "df.rename(columns={'date': 'DATE'}, inplace=True)\n",
    "df['DATE'] = pd.to_datetime(df['DATE'], errors='coerce')\n",
    "df.dropna(subset=['DATE'], inplace=True)\n",
    "\n",
    "# Handle missing values (e.g., interpolation)\n",
    "df['FIRECOUNT'] = df['FIRECOUNT'].interpolate(method='linear')\n",
    "\n",
    "# Set DATE as index\n",
    "df.set_index('DATE', inplace=True)\n",
    "\n",
    "# Split data into train and test sets\n",
    "train_ratio = 0.7\n",
    "split_index = int(len(df) * train_ratio)\n",
    "train_data = df.iloc[:split_index]\n",
    "test_data = df.iloc[split_index:]\n",
    "\n",
    "# Fit ARIMA model on training data\n",
    "arima_model = auto_arima(train_data['FIRECOUNT'], seasonal=False, trace=True)\n",
    "print(arima_model.summary())\n",
    "\n",
    "# Forecast for the next 48 months (4 years)\n",
    "forecast_period = 48\n",
    "forecast = arima_model.predict(n_periods=forecast_period)\n",
    "\n",
    "# Create forecast date index for 2022-2025\n",
    "forecast_dates = pd.date_range(start=train_data.index[-1] + pd.DateOffset(1), periods=forecast_period, freq='M')\n",
    "forecast_series = pd.Series(forecast, index=forecast_dates)\n",
    "\n",
    "# Model Evaluation\n",
    "test_forecast = arima_model.predict(n_periods=len(test_data))\n",
    "mae = mean_absolute_error(test_data['FIRECOUNT'], test_forecast)\n",
    "rmse = np.sqrt(mean_squared_error(test_data['FIRECOUNT'], test_forecast))\n",
    "print(f\"Model Evaluation Metrics:\\nMAE: {mae:.2f}, RMSE: {rmse:.2f}\")\n",
    "\n",
    "# Plot original data and forecast\n",
    "fig = px.line(title=\"ARIMA Forecast with Original Data\")\n",
    "fig.add_scatter(x=train_data.index, y=train_data['FIRECOUNT'], mode='lines', name='Training Data')\n",
    "fig.add_scatter(x=test_data.index, y=test_data['FIRECOUNT'], mode='lines', name='Testing Data')\n",
    "fig.add_scatter(x=forecast_dates, y=forecast_series, mode='lines', name='Forecast')\n",
    "fig.update_layout(xaxis_title=\"Date\", yaxis_title=\"FIRECOUNT\")\n",
    "fig.show()\n",
    "\n",
    "# Display yearly predictions\n",
    "for year, value in zip(range(2022, 2026), forecast[:48:12]):\n",
    "    print(f\"The predicted value for {year} is {value:.2f}\")\n"
   ]
  },
  {
   "cell_type": "code",
   "execution_count": 26,
   "metadata": {},
   "outputs": [
    {
     "name": "stdout",
     "output_type": "stream",
     "text": [
      "ARIMA Model Summary for STN1:\n"
     ]
    },
    {
     "ename": "NameError",
     "evalue": "name 'arima_model_stn1' is not defined",
     "output_type": "error",
     "traceback": [
      "\u001b[1;31m---------------------------------------------------------------------------\u001b[0m",
      "\u001b[1;31mNameError\u001b[0m                                 Traceback (most recent call last)",
      "Cell \u001b[1;32mIn[26], line 2\u001b[0m\n\u001b[0;32m      1\u001b[0m \u001b[38;5;28mprint\u001b[39m(\u001b[38;5;124m\"\u001b[39m\u001b[38;5;124mARIMA Model Summary for STN1:\u001b[39m\u001b[38;5;124m\"\u001b[39m)\n\u001b[1;32m----> 2\u001b[0m \u001b[38;5;28mprint\u001b[39m(arima_model_stn1\u001b[38;5;241m.\u001b[39msummary())\n\u001b[0;32m      4\u001b[0m \u001b[38;5;28mprint\u001b[39m(\u001b[38;5;124m\"\u001b[39m\u001b[38;5;124mARIMA Model Summary for STN2:\u001b[39m\u001b[38;5;124m\"\u001b[39m)\n\u001b[0;32m      5\u001b[0m \u001b[38;5;28mprint\u001b[39m(arima_model_stn2\u001b[38;5;241m.\u001b[39msummary())\n",
      "\u001b[1;31mNameError\u001b[0m: name 'arima_model_stn1' is not defined"
     ]
    }
   ],
   "source": [
    "print(\"ARIMA Model Summary for STN1:\")\n",
    "print(arima_model_stn1.summary())\n",
    "\n",
    "print(\"ARIMA Model Summary for STN2:\")\n",
    "print(arima_model_stn2.summary())\n"
   ]
  },
  {
   "cell_type": "code",
   "execution_count": 2,
   "metadata": {},
   "outputs": [
    {
     "name": "stderr",
     "output_type": "stream",
     "text": [
      "C:\\Users\\goelk\\AppData\\Local\\Temp\\ipykernel_10824\\2879877561.py:17: FutureWarning: A value is trying to be set on a copy of a DataFrame or Series through chained assignment using an inplace method.\n",
      "The behavior will change in pandas 3.0. This inplace method will never work because the intermediate object on which we are setting values always behaves as a copy.\n",
      "\n",
      "For example, when doing 'df[col].method(value, inplace=True)', try using 'df.method({col: value}, inplace=True)' or df[col] = df[col].method(value) instead, to perform the operation inplace on the original object.\n",
      "\n",
      "\n",
      "  df['FIRECOUNT'].fillna(method='ffill', inplace=True)\n",
      "C:\\Users\\goelk\\AppData\\Local\\Temp\\ipykernel_10824\\2879877561.py:17: FutureWarning: Series.fillna with 'method' is deprecated and will raise in a future version. Use obj.ffill() or obj.bfill() instead.\n",
      "  df['FIRECOUNT'].fillna(method='ffill', inplace=True)\n",
      "C:\\Users\\goelk\\AppData\\Local\\Temp\\ipykernel_10824\\2879877561.py:23: FutureWarning: 'M' is deprecated and will be removed in a future version, please use 'ME' instead.\n",
      "  df_monthly = df['FIRECOUNT'].resample('M').sum()\n"
     ]
    },
    {
     "name": "stdout",
     "output_type": "stream",
     "text": [
      "Performing stepwise search to minimize aic\n",
      " ARIMA(2,0,2)(0,0,0)[0]             : AIC=inf, Time=0.13 sec\n",
      " ARIMA(0,0,0)(0,0,0)[0]             : AIC=831.867, Time=0.01 sec\n",
      " ARIMA(1,0,0)(0,0,0)[0]             : AIC=782.751, Time=0.01 sec\n",
      " ARIMA(0,0,1)(0,0,0)[0]             : AIC=800.395, Time=0.02 sec\n",
      " ARIMA(2,0,0)(0,0,0)[0]             : AIC=784.706, Time=0.01 sec\n",
      " ARIMA(1,0,1)(0,0,0)[0]             : AIC=784.546, Time=0.01 sec\n",
      " ARIMA(2,0,1)(0,0,0)[0]             : AIC=784.689, Time=0.05 sec\n",
      " ARIMA(1,0,0)(0,0,0)[0] intercept   : AIC=771.244, Time=0.00 sec\n",
      " ARIMA(0,0,0)(0,0,0)[0] intercept   : AIC=776.879, Time=0.01 sec\n",
      " ARIMA(2,0,0)(0,0,0)[0] intercept   : AIC=767.819, Time=0.02 sec\n",
      " ARIMA(3,0,0)(0,0,0)[0] intercept   : AIC=769.953, Time=0.02 sec\n",
      " ARIMA(2,0,1)(0,0,0)[0] intercept   : AIC=769.880, Time=0.03 sec\n",
      " ARIMA(1,0,1)(0,0,0)[0] intercept   : AIC=769.202, Time=0.01 sec\n",
      " ARIMA(3,0,1)(0,0,0)[0] intercept   : AIC=771.850, Time=0.03 sec\n",
      "\n",
      "Best model:  ARIMA(2,0,0)(0,0,0)[0] intercept\n",
      "Total fit time: 0.373 seconds\n",
      "                               SARIMAX Results                                \n",
      "==============================================================================\n",
      "Dep. Variable:                      y   No. Observations:                   44\n",
      "Model:               SARIMAX(2, 0, 0)   Log Likelihood                -379.910\n",
      "Date:                Sun, 01 Dec 2024   AIC                            767.819\n",
      "Time:                        16:48:14   BIC                            774.956\n",
      "Sample:                    09-30-2016   HQIC                           770.466\n",
      "                         - 04-30-2020                                         \n",
      "Covariance Type:                  opg                                         \n",
      "==============================================================================\n",
      "                 coef    std err          z      P>|z|      [0.025      0.975]\n",
      "------------------------------------------------------------------------------\n",
      "intercept   2034.8673    484.225      4.202      0.000    1085.804    2983.931\n",
      "ar.L1          0.5503      0.199      2.760      0.006       0.160       0.941\n",
      "ar.L2         -0.3406      0.174     -1.957      0.050      -0.682       0.000\n",
      "sigma2      1.846e+06   5.29e+05      3.489      0.000    8.09e+05    2.88e+06\n",
      "===================================================================================\n",
      "Ljung-Box (L1) (Q):                   0.00   Jarque-Bera (JB):                 1.27\n",
      "Prob(Q):                              0.97   Prob(JB):                         0.53\n",
      "Heteroskedasticity (H):               0.75   Skew:                             0.08\n",
      "Prob(H) (two-sided):                  0.59   Kurtosis:                         2.19\n",
      "===================================================================================\n",
      "\n",
      "Warnings:\n",
      "[1] Covariance matrix calculated using the outer product of gradients (complex-step).\n",
      "MAE: 1764.18\n",
      "RMSE: 2117.27\n",
      "The predicted value for 2022 is 3480.62\n",
      "The predicted value for 2023 is 2575.75\n",
      "The predicted value for 2024 is 2574.84\n",
      "The predicted value for 2025 is 2574.84\n"
     ]
    },
    {
     "name": "stderr",
     "output_type": "stream",
     "text": [
      "C:\\Users\\goelk\\AppData\\Local\\Temp\\ipykernel_10824\\2879877561.py:49: FutureWarning: 'M' is deprecated and will be removed in a future version, please use 'ME' instead.\n",
      "  forecast_dates = pd.date_range(start='2022-01-01', periods=forecast_period, freq='M')\n"
     ]
    }
   ],
   "source": [
    "import pandas as pd\n",
    "from sklearn.metrics import mean_absolute_error, mean_squared_error\n",
    "from pmdarima import auto_arima\n",
    "import numpy as np\n",
    "\n",
    "# Load data\n",
    "df = pd.read_csv('D:/stubble buring/stubble/STN1.csv')\n",
    "\n",
    "# Ensure 'DATE' is a datetime column\n",
    "df['DATE'] = pd.to_datetime(df['DATE'], errors='coerce')\n",
    "df.dropna(subset=['DATE'], inplace=True)  # Drop rows with invalid/missing dates\n",
    "\n",
    "# Filter data for the range 01-09-2016 to 31-12-2021\n",
    "df = df[(df['DATE'] >= '2016-09-01') & (df['DATE'] <= '2021-12-31')]\n",
    "\n",
    "# Handle missing values in 'FIRECOUNT'\n",
    "df['FIRECOUNT'].fillna(method='ffill', inplace=True)\n",
    "\n",
    "# Set 'DATE' as index\n",
    "df.set_index('DATE', inplace=True)\n",
    "\n",
    "# Resample daily data to monthly data (sum)\n",
    "df_monthly = df['FIRECOUNT'].resample('M').sum()\n",
    "\n",
    "# Split the dataset into training (70%) and testing (30%)\n",
    "split_index = int(len(df_monthly) * 0.7)\n",
    "train = df_monthly[:split_index]\n",
    "test = df_monthly[split_index:]\n",
    "\n",
    "# Fit ARIMA model on training data\n",
    "arima_model = auto_arima(train, seasonal=False, trace=True)\n",
    "print(arima_model.summary())\n",
    "\n",
    "# Forecast for the test period\n",
    "test_forecast = arima_model.predict(n_periods=len(test))\n",
    "\n",
    "# Compute MAE and RMSE\n",
    "mae = mean_absolute_error(test, test_forecast)\n",
    "rmse = np.sqrt(mean_squared_error(test, test_forecast))\n",
    "\n",
    "print(f\"MAE: {mae:.2f}\")\n",
    "print(f\"RMSE: {rmse:.2f}\")\n",
    "\n",
    "# Forecast for the next 48 months (2022-2025)\n",
    "forecast_period = 48\n",
    "forecast = arima_model.predict(n_periods=forecast_period)\n",
    "\n",
    "# Create forecast date index\n",
    "forecast_dates = pd.date_range(start='2022-01-01', periods=forecast_period, freq='M')\n",
    "forecast_series = pd.Series(forecast, index=forecast_dates)\n",
    "\n",
    "# Display predictions\n",
    "for year, value in zip(range(2022, 2026), forecast[:48:12]):\n",
    "    print(f\"The predicted value for {year} is {value:.2f}\")\n"
   ]
  },
  {
   "cell_type": "code",
   "execution_count": 4,
   "metadata": {},
   "outputs": [
    {
     "name": "stdout",
     "output_type": "stream",
     "text": [
      "Performing stepwise search to minimize aic\n",
      " ARIMA(2,0,2)(0,0,0)[0]             : AIC=2910.392, Time=0.08 sec\n",
      " ARIMA(0,0,0)(0,0,0)[0]             : AIC=3076.531, Time=0.00 sec\n",
      " ARIMA(1,0,0)(0,0,0)[0]             : AIC=2909.637, Time=0.02 sec\n",
      " ARIMA(0,0,1)(0,0,0)[0]             : AIC=2964.728, Time=0.03 sec\n",
      " ARIMA(2,0,0)(0,0,0)[0]             : AIC=2909.839, Time=0.02 sec\n",
      " ARIMA(1,0,1)(0,0,0)[0]             : AIC=2909.104, Time=0.02 sec\n",
      " ARIMA(2,0,1)(0,0,0)[0]             : AIC=2910.465, Time=0.03 sec\n",
      " ARIMA(1,0,2)(0,0,0)[0]             : AIC=2909.113, Time=0.03 sec\n",
      " ARIMA(0,0,2)(0,0,0)[0]             : AIC=2929.519, Time=0.05 sec\n",
      " ARIMA(1,0,1)(0,0,0)[0] intercept   : AIC=2904.620, Time=0.05 sec\n",
      " ARIMA(0,0,1)(0,0,0)[0] intercept   : AIC=2942.919, Time=0.04 sec\n",
      " ARIMA(1,0,0)(0,0,0)[0] intercept   : AIC=2906.567, Time=0.01 sec\n",
      " ARIMA(2,0,1)(0,0,0)[0] intercept   : AIC=2908.731, Time=0.18 sec\n",
      " ARIMA(1,0,2)(0,0,0)[0] intercept   : AIC=2906.103, Time=0.03 sec\n",
      " ARIMA(0,0,0)(0,0,0)[0] intercept   : AIC=3042.055, Time=0.00 sec\n",
      " ARIMA(0,0,2)(0,0,0)[0] intercept   : AIC=2916.357, Time=0.07 sec\n",
      " ARIMA(2,0,0)(0,0,0)[0] intercept   : AIC=2905.456, Time=0.02 sec\n",
      " ARIMA(2,0,2)(0,0,0)[0] intercept   : AIC=2907.936, Time=0.05 sec\n",
      "\n",
      "Best model:  ARIMA(1,0,1)(0,0,0)[0] intercept\n",
      "Total fit time: 0.734 seconds\n",
      "                               SARIMAX Results                                \n",
      "==============================================================================\n",
      "Dep. Variable:                      y   No. Observations:                  179\n",
      "Model:               SARIMAX(1, 0, 1)   Log Likelihood               -1448.310\n",
      "Date:                Sun, 01 Dec 2024   AIC                           2904.620\n",
      "Time:                        16:52:27   BIC                           2917.370\n",
      "Sample:                             0   HQIC                          2909.790\n",
      "                                - 179                                         \n",
      "Covariance Type:                  opg                                         \n",
      "==============================================================================\n",
      "                 coef    std err          z      P>|z|      [0.025      0.975]\n",
      "------------------------------------------------------------------------------\n",
      "intercept    184.0724    188.934      0.974      0.330    -186.232     554.376\n",
      "ar.L1          0.6394      0.071      9.015      0.000       0.500       0.778\n",
      "ma.L1          0.2109      0.064      3.305      0.001       0.086       0.336\n",
      "sigma2       6.14e+05   5.17e+04     11.882      0.000    5.13e+05    7.15e+05\n",
      "===================================================================================\n",
      "Ljung-Box (L1) (Q):                   0.00   Jarque-Bera (JB):               460.96\n",
      "Prob(Q):                              0.95   Prob(JB):                         0.00\n",
      "Heteroskedasticity (H):               0.56   Skew:                             1.75\n",
      "Prob(H) (two-sided):                  0.03   Kurtosis:                        10.04\n",
      "===================================================================================\n",
      "\n",
      "Warnings:\n",
      "[1] Covariance matrix calculated using the outer product of gradients (complex-step).\n",
      "Model Evaluation Metrics:\n",
      "MAE: 1375.55, RMSE: 2080.17\n"
     ]
    },
    {
     "name": "stderr",
     "output_type": "stream",
     "text": [
      "e:\\Anaconda\\Lib\\site-packages\\statsmodels\\tsa\\base\\tsa_model.py:836: ValueWarning:\n",
      "\n",
      "No supported index is available. Prediction results will be given with an integer index beginning at `start`.\n",
      "\n",
      "e:\\Anaconda\\Lib\\site-packages\\statsmodels\\tsa\\base\\tsa_model.py:836: FutureWarning:\n",
      "\n",
      "No supported index is available. In the next version, calling this method in a model without a supported index will result in an exception.\n",
      "\n",
      "C:\\Users\\goelk\\AppData\\Local\\Temp\\ipykernel_10824\\4272361579.py:37: FutureWarning:\n",
      "\n",
      "'M' is deprecated and will be removed in a future version, please use 'ME' instead.\n",
      "\n",
      "e:\\Anaconda\\Lib\\site-packages\\statsmodels\\tsa\\base\\tsa_model.py:836: ValueWarning:\n",
      "\n",
      "No supported index is available. Prediction results will be given with an integer index beginning at `start`.\n",
      "\n",
      "e:\\Anaconda\\Lib\\site-packages\\statsmodels\\tsa\\base\\tsa_model.py:836: FutureWarning:\n",
      "\n",
      "No supported index is available. In the next version, calling this method in a model without a supported index will result in an exception.\n",
      "\n"
     ]
    },
    {
     "data": {
      "application/vnd.plotly.v1+json": {
       "config": {
        "plotlyServerURL": "https://plot.ly"
       },
       "data": [
        {
         "hovertemplate": "<extra></extra>",
         "legendgroup": "",
         "line": {
          "color": "#636efa",
          "dash": "solid"
         },
         "marker": {
          "symbol": "circle"
         },
         "mode": "lines",
         "name": "",
         "orientation": "v",
         "showlegend": false,
         "type": "scatter",
         "xaxis": "x",
         "yaxis": "y"
        },
        {
         "mode": "lines",
         "name": "Training Data",
         "type": "scatter",
         "x": [
          "2016-09-09T00:00:00",
          "2016-10-09T00:00:00",
          "2016-11-09T00:00:00",
          "2016-12-09T00:00:00",
          "2016-09-10T00:00:00",
          "2016-10-10T00:00:00",
          "2016-11-10T00:00:00",
          "2016-12-10T00:00:00",
          "2016-09-11T00:00:00",
          "2016-10-11T00:00:00",
          "2016-11-11T00:00:00",
          "2016-12-11T00:00:00",
          "2016-09-12T00:00:00",
          "2016-10-12T00:00:00",
          "2016-11-12T00:00:00",
          "2016-12-12T00:00:00",
          "2017-01-09T00:00:00",
          "2017-02-09T00:00:00",
          "2017-03-09T00:00:00",
          "2017-04-09T00:00:00",
          "2017-05-09T00:00:00",
          "2017-06-09T00:00:00",
          "2017-07-09T00:00:00",
          "2017-08-09T00:00:00",
          "2017-09-09T00:00:00",
          "2017-10-09T00:00:00",
          "2017-11-09T00:00:00",
          "2017-12-09T00:00:00",
          "2017-01-10T00:00:00",
          "2017-02-10T00:00:00",
          "2017-03-10T00:00:00",
          "2017-04-10T00:00:00",
          "2017-05-10T00:00:00",
          "2017-06-10T00:00:00",
          "2017-07-10T00:00:00",
          "2017-08-10T00:00:00",
          "2017-09-10T00:00:00",
          "2017-10-10T00:00:00",
          "2017-11-10T00:00:00",
          "2017-12-10T00:00:00",
          "2017-01-11T00:00:00",
          "2017-02-11T00:00:00",
          "2017-03-11T00:00:00",
          "2017-04-11T00:00:00",
          "2017-05-11T00:00:00",
          "2017-06-11T00:00:00",
          "2017-07-11T00:00:00",
          "2017-08-11T00:00:00",
          "2017-09-11T00:00:00",
          "2017-10-11T00:00:00",
          "2017-11-11T00:00:00",
          "2017-12-11T00:00:00",
          "2017-01-12T00:00:00",
          "2017-02-12T00:00:00",
          "2017-03-12T00:00:00",
          "2017-04-12T00:00:00",
          "2017-05-12T00:00:00",
          "2017-06-12T00:00:00",
          "2017-07-12T00:00:00",
          "2017-08-12T00:00:00",
          "2017-09-12T00:00:00",
          "2017-10-12T00:00:00",
          "2017-11-12T00:00:00",
          "2017-12-12T00:00:00",
          "2018-01-09T00:00:00",
          "2018-02-09T00:00:00",
          "2018-03-09T00:00:00",
          "2018-04-09T00:00:00",
          "2018-05-09T00:00:00",
          "2018-06-09T00:00:00",
          "2018-07-09T00:00:00",
          "2018-08-09T00:00:00",
          "2018-09-09T00:00:00",
          "2018-10-09T00:00:00",
          "2018-11-09T00:00:00",
          "2018-12-09T00:00:00",
          "2018-01-10T00:00:00",
          "2018-02-10T00:00:00",
          "2018-03-10T00:00:00",
          "2018-04-10T00:00:00",
          "2018-05-10T00:00:00",
          "2018-06-10T00:00:00",
          "2018-07-10T00:00:00",
          "2018-08-10T00:00:00",
          "2018-09-10T00:00:00",
          "2018-10-10T00:00:00",
          "2018-11-10T00:00:00",
          "2018-12-10T00:00:00",
          "2018-01-11T00:00:00",
          "2018-02-11T00:00:00",
          "2018-03-11T00:00:00",
          "2018-04-11T00:00:00",
          "2018-05-11T00:00:00",
          "2018-06-11T00:00:00",
          "2018-07-11T00:00:00",
          "2018-08-11T00:00:00",
          "2018-09-11T00:00:00",
          "2018-10-11T00:00:00",
          "2018-11-11T00:00:00",
          "2018-12-11T00:00:00",
          "2018-01-12T00:00:00",
          "2018-02-12T00:00:00",
          "2018-03-12T00:00:00",
          "2018-04-12T00:00:00",
          "2018-05-12T00:00:00",
          "2018-06-12T00:00:00",
          "2018-07-12T00:00:00",
          "2018-08-12T00:00:00",
          "2018-09-12T00:00:00",
          "2018-10-12T00:00:00",
          "2018-11-12T00:00:00",
          "2018-12-12T00:00:00",
          "2019-01-09T00:00:00",
          "2019-02-09T00:00:00",
          "2019-03-09T00:00:00",
          "2019-04-09T00:00:00",
          "2019-05-09T00:00:00",
          "2019-06-09T00:00:00",
          "2019-07-09T00:00:00",
          "2019-08-09T00:00:00",
          "2019-09-09T00:00:00",
          "2019-10-09T00:00:00",
          "2019-11-09T00:00:00",
          "2019-12-09T00:00:00",
          "2019-01-10T00:00:00",
          "2019-02-10T00:00:00",
          "2019-03-10T00:00:00",
          "2019-04-10T00:00:00",
          "2019-05-10T00:00:00",
          "2019-06-10T00:00:00",
          "2019-07-10T00:00:00",
          "2019-08-10T00:00:00",
          "2019-09-10T00:00:00",
          "2019-10-10T00:00:00",
          "2019-11-10T00:00:00",
          "2019-12-10T00:00:00",
          "2019-01-11T00:00:00",
          "2019-02-11T00:00:00",
          "2019-03-11T00:00:00",
          "2019-04-11T00:00:00",
          "2019-05-11T00:00:00",
          "2019-06-11T00:00:00",
          "2019-07-11T00:00:00",
          "2019-08-11T00:00:00",
          "2019-09-11T00:00:00",
          "2019-10-11T00:00:00",
          "2019-11-11T00:00:00",
          "2019-12-11T00:00:00",
          "2019-01-12T00:00:00",
          "2019-02-12T00:00:00",
          "2019-03-12T00:00:00",
          "2019-04-12T00:00:00",
          "2019-05-12T00:00:00",
          "2019-06-12T00:00:00",
          "2019-07-12T00:00:00",
          "2019-08-12T00:00:00",
          "2019-09-12T00:00:00",
          "2019-10-12T00:00:00",
          "2019-11-12T00:00:00",
          "2019-12-12T00:00:00",
          "2020-01-09T00:00:00",
          "2020-02-09T00:00:00",
          "2020-03-09T00:00:00",
          "2020-04-09T00:00:00",
          "2020-05-09T00:00:00",
          "2020-06-09T00:00:00",
          "2020-07-09T00:00:00",
          "2020-08-09T00:00:00",
          "2020-09-09T00:00:00",
          "2020-10-09T00:00:00",
          "2020-11-09T00:00:00",
          "2020-12-09T00:00:00",
          "2020-01-10T00:00:00",
          "2020-02-10T00:00:00",
          "2020-03-10T00:00:00",
          "2020-04-10T00:00:00",
          "2020-05-10T00:00:00",
          "2020-06-10T00:00:00",
          "2020-07-10T00:00:00"
         ],
         "y": [
          8,
          3,
          3,
          1,
          363,
          560,
          899,
          825,
          3959,
          2983,
          4238,
          2066,
          248,
          3,
          19,
          8,
          0,
          1,
          2,
          2,
          1,
          0,
          1,
          2,
          3,
          5,
          2,
          3,
          66,
          70,
          100,
          131,
          153,
          149,
          185,
          347,
          288,
          290,
          171,
          446,
          2603,
          1292,
          1904,
          5133,
          2517,
          185,
          439,
          2380,
          979,
          1998,
          128,
          24,
          124,
          80,
          23,
          19,
          21,
          40,
          105,
          76,
          50,
          21,
          1,
          1,
          0,
          0,
          0,
          1,
          0,
          0,
          2,
          2,
          3,
          1,
          1,
          4,
          23,
          29,
          7,
          51,
          80,
          146,
          260,
          68,
          91,
          52,
          103,
          194,
          3668,
          3795,
          1188,
          998,
          3148,
          3356,
          4518,
          4828,
          2195,
          1833,
          1610,
          1403,
          21,
          44,
          26,
          19,
          27,
          19,
          15,
          16,
          28,
          12,
          10,
          0,
          1,
          4,
          3,
          0,
          2,
          3,
          1,
          2,
          5,
          5,
          7,
          3,
          3,
          31,
          45,
          35,
          42,
          21,
          45,
          134,
          162,
          277,
          199,
          166,
          342,
          1,
          2963,
          4889,
          5148,
          4309,
          154,
          438,
          1745,
          2474,
          758,
          600,
          132,
          106,
          73,
          35,
          30,
          83,
          82,
          69,
          10,
          25,
          0,
          0,
          0,
          1,
          4,
          1,
          1,
          4,
          5,
          1,
          6,
          9,
          1,
          1,
          211,
          190,
          114,
          242,
          188,
          270,
          262
         ]
        },
        {
         "mode": "lines",
         "name": "Testing Data",
         "type": "scatter",
         "x": [
          "2020-08-10T00:00:00",
          "2020-09-10T00:00:00",
          "2020-10-10T00:00:00",
          "2020-11-10T00:00:00",
          "2020-12-10T00:00:00",
          "2020-01-11T00:00:00",
          "2020-02-11T00:00:00",
          "2020-03-11T00:00:00",
          "2020-04-11T00:00:00",
          "2020-05-11T00:00:00",
          "2020-06-11T00:00:00",
          "2020-07-11T00:00:00",
          "2020-08-11T00:00:00",
          "2020-09-11T00:00:00",
          "2020-10-11T00:00:00",
          "2020-11-11T00:00:00",
          "2020-12-11T00:00:00",
          "2020-01-12T00:00:00",
          "2020-02-12T00:00:00",
          "2020-03-12T00:00:00",
          "2020-04-12T00:00:00",
          "2020-05-12T00:00:00",
          "2020-06-12T00:00:00",
          "2020-07-12T00:00:00",
          "2020-08-12T00:00:00",
          "2020-09-12T00:00:00",
          "2020-10-12T00:00:00",
          "2020-11-12T00:00:00",
          "2020-12-12T00:00:00",
          "2021-01-09T00:00:00",
          "2021-02-09T00:00:00",
          "2021-03-09T00:00:00",
          "2021-04-09T00:00:00",
          "2021-05-09T00:00:00",
          "2021-06-09T00:00:00",
          "2021-07-09T00:00:00",
          "2021-08-09T00:00:00",
          "2021-09-09T00:00:00",
          "2021-10-09T00:00:00",
          "2021-11-09T00:00:00",
          "2021-12-09T00:00:00",
          "2021-01-10T00:00:00",
          "2021-02-10T00:00:00",
          "2021-03-10T00:00:00",
          "2021-04-10T00:00:00",
          "2021-05-10T00:00:00",
          "2021-06-10T00:00:00",
          "2021-07-10T00:00:00",
          "2021-08-10T00:00:00",
          "2021-09-10T00:00:00",
          "2021-10-10T00:00:00",
          "2021-11-10T00:00:00",
          "2021-12-10T00:00:00",
          "2021-01-11T00:00:00",
          "2021-02-11T00:00:00",
          "2021-03-11T00:00:00",
          "2021-04-11T00:00:00",
          "2021-05-11T00:00:00",
          "2021-06-11T00:00:00",
          "2021-07-11T00:00:00",
          "2021-08-11T00:00:00",
          "2021-09-11T00:00:00",
          "2021-10-11T00:00:00",
          "2021-11-11T00:00:00",
          "2021-12-11T00:00:00",
          "2021-01-12T00:00:00",
          "2021-02-12T00:00:00",
          "2021-03-12T00:00:00",
          "2021-04-12T00:00:00",
          "2021-05-12T00:00:00",
          "2021-06-12T00:00:00",
          "2021-07-12T00:00:00",
          "2021-08-12T00:00:00",
          "2021-09-12T00:00:00",
          "2021-10-12T00:00:00",
          "2021-11-12T00:00:00",
          "2021-12-12T00:00:00"
         ],
         "y": [
          173,
          183,
          324,
          588,
          462,
          3520,
          3628,
          2553,
          4012,
          5293,
          4327,
          5405,
          3554,
          1590,
          3582,
          2631,
          2038,
          66,
          65,
          69,
          68,
          29,
          19,
          27,
          41,
          16,
          42,
          16,
          2,
          1,
          1,
          0,
          1,
          4,
          6,
          4,
          0,
          1,
          0,
          0,
          0,
          8,
          6,
          23,
          31,
          32,
          34,
          98,
          121,
          224,
          296,
          137,
          153,
          2458,
          2834,
          2936,
          3537,
          6515,
          4600,
          5020,
          5433,
          4868,
          5833,
          4706,
          3993,
          2,
          7,
          23,
          37,
          10,
          19,
          32,
          19,
          11,
          16,
          28,
          34
         ]
        },
        {
         "mode": "lines",
         "name": "Forecast",
         "type": "scatter",
         "x": [
          "2020-07-31T00:00:00",
          "2020-08-31T00:00:00",
          "2020-09-30T00:00:00",
          "2020-10-31T00:00:00",
          "2020-11-30T00:00:00",
          "2020-12-31T00:00:00",
          "2021-01-31T00:00:00",
          "2021-02-28T00:00:00",
          "2021-03-31T00:00:00",
          "2021-04-30T00:00:00",
          "2021-05-31T00:00:00",
          "2021-06-30T00:00:00",
          "2021-07-31T00:00:00",
          "2021-08-31T00:00:00",
          "2021-09-30T00:00:00",
          "2021-10-31T00:00:00",
          "2021-11-30T00:00:00",
          "2021-12-31T00:00:00",
          "2022-01-31T00:00:00",
          "2022-02-28T00:00:00",
          "2022-03-31T00:00:00",
          "2022-04-30T00:00:00",
          "2022-05-31T00:00:00",
          "2022-06-30T00:00:00",
          "2022-07-31T00:00:00",
          "2022-08-31T00:00:00",
          "2022-09-30T00:00:00",
          "2022-10-31T00:00:00",
          "2022-11-30T00:00:00",
          "2022-12-31T00:00:00",
          "2023-01-31T00:00:00",
          "2023-02-28T00:00:00",
          "2023-03-31T00:00:00",
          "2023-04-30T00:00:00",
          "2023-05-31T00:00:00",
          "2023-06-30T00:00:00",
          "2023-07-31T00:00:00",
          "2023-08-31T00:00:00",
          "2023-09-30T00:00:00",
          "2023-10-31T00:00:00",
          "2023-11-30T00:00:00",
          "2023-12-31T00:00:00",
          "2024-01-31T00:00:00",
          "2024-02-29T00:00:00",
          "2024-03-31T00:00:00",
          "2024-04-30T00:00:00",
          "2024-05-31T00:00:00",
          "2024-06-30T00:00:00"
         ],
         "y": [
          null,
          null,
          null,
          null,
          null,
          null,
          null,
          null,
          null,
          null,
          null,
          null,
          null,
          null,
          null,
          null,
          null,
          null,
          null,
          null,
          null,
          null,
          null,
          null,
          null,
          null,
          null,
          null,
          null,
          null,
          null,
          null,
          null,
          null,
          null,
          null,
          null,
          null,
          null,
          null,
          null,
          null,
          null,
          null,
          null,
          null,
          null,
          null
         ]
        }
       ],
       "layout": {
        "legend": {
         "tracegroupgap": 0
        },
        "template": {
         "data": {
          "bar": [
           {
            "error_x": {
             "color": "#2a3f5f"
            },
            "error_y": {
             "color": "#2a3f5f"
            },
            "marker": {
             "line": {
              "color": "#E5ECF6",
              "width": 0.5
             },
             "pattern": {
              "fillmode": "overlay",
              "size": 10,
              "solidity": 0.2
             }
            },
            "type": "bar"
           }
          ],
          "barpolar": [
           {
            "marker": {
             "line": {
              "color": "#E5ECF6",
              "width": 0.5
             },
             "pattern": {
              "fillmode": "overlay",
              "size": 10,
              "solidity": 0.2
             }
            },
            "type": "barpolar"
           }
          ],
          "carpet": [
           {
            "aaxis": {
             "endlinecolor": "#2a3f5f",
             "gridcolor": "white",
             "linecolor": "white",
             "minorgridcolor": "white",
             "startlinecolor": "#2a3f5f"
            },
            "baxis": {
             "endlinecolor": "#2a3f5f",
             "gridcolor": "white",
             "linecolor": "white",
             "minorgridcolor": "white",
             "startlinecolor": "#2a3f5f"
            },
            "type": "carpet"
           }
          ],
          "choropleth": [
           {
            "colorbar": {
             "outlinewidth": 0,
             "ticks": ""
            },
            "type": "choropleth"
           }
          ],
          "contour": [
           {
            "colorbar": {
             "outlinewidth": 0,
             "ticks": ""
            },
            "colorscale": [
             [
              0,
              "#0d0887"
             ],
             [
              0.1111111111111111,
              "#46039f"
             ],
             [
              0.2222222222222222,
              "#7201a8"
             ],
             [
              0.3333333333333333,
              "#9c179e"
             ],
             [
              0.4444444444444444,
              "#bd3786"
             ],
             [
              0.5555555555555556,
              "#d8576b"
             ],
             [
              0.6666666666666666,
              "#ed7953"
             ],
             [
              0.7777777777777778,
              "#fb9f3a"
             ],
             [
              0.8888888888888888,
              "#fdca26"
             ],
             [
              1,
              "#f0f921"
             ]
            ],
            "type": "contour"
           }
          ],
          "contourcarpet": [
           {
            "colorbar": {
             "outlinewidth": 0,
             "ticks": ""
            },
            "type": "contourcarpet"
           }
          ],
          "heatmap": [
           {
            "colorbar": {
             "outlinewidth": 0,
             "ticks": ""
            },
            "colorscale": [
             [
              0,
              "#0d0887"
             ],
             [
              0.1111111111111111,
              "#46039f"
             ],
             [
              0.2222222222222222,
              "#7201a8"
             ],
             [
              0.3333333333333333,
              "#9c179e"
             ],
             [
              0.4444444444444444,
              "#bd3786"
             ],
             [
              0.5555555555555556,
              "#d8576b"
             ],
             [
              0.6666666666666666,
              "#ed7953"
             ],
             [
              0.7777777777777778,
              "#fb9f3a"
             ],
             [
              0.8888888888888888,
              "#fdca26"
             ],
             [
              1,
              "#f0f921"
             ]
            ],
            "type": "heatmap"
           }
          ],
          "heatmapgl": [
           {
            "colorbar": {
             "outlinewidth": 0,
             "ticks": ""
            },
            "colorscale": [
             [
              0,
              "#0d0887"
             ],
             [
              0.1111111111111111,
              "#46039f"
             ],
             [
              0.2222222222222222,
              "#7201a8"
             ],
             [
              0.3333333333333333,
              "#9c179e"
             ],
             [
              0.4444444444444444,
              "#bd3786"
             ],
             [
              0.5555555555555556,
              "#d8576b"
             ],
             [
              0.6666666666666666,
              "#ed7953"
             ],
             [
              0.7777777777777778,
              "#fb9f3a"
             ],
             [
              0.8888888888888888,
              "#fdca26"
             ],
             [
              1,
              "#f0f921"
             ]
            ],
            "type": "heatmapgl"
           }
          ],
          "histogram": [
           {
            "marker": {
             "pattern": {
              "fillmode": "overlay",
              "size": 10,
              "solidity": 0.2
             }
            },
            "type": "histogram"
           }
          ],
          "histogram2d": [
           {
            "colorbar": {
             "outlinewidth": 0,
             "ticks": ""
            },
            "colorscale": [
             [
              0,
              "#0d0887"
             ],
             [
              0.1111111111111111,
              "#46039f"
             ],
             [
              0.2222222222222222,
              "#7201a8"
             ],
             [
              0.3333333333333333,
              "#9c179e"
             ],
             [
              0.4444444444444444,
              "#bd3786"
             ],
             [
              0.5555555555555556,
              "#d8576b"
             ],
             [
              0.6666666666666666,
              "#ed7953"
             ],
             [
              0.7777777777777778,
              "#fb9f3a"
             ],
             [
              0.8888888888888888,
              "#fdca26"
             ],
             [
              1,
              "#f0f921"
             ]
            ],
            "type": "histogram2d"
           }
          ],
          "histogram2dcontour": [
           {
            "colorbar": {
             "outlinewidth": 0,
             "ticks": ""
            },
            "colorscale": [
             [
              0,
              "#0d0887"
             ],
             [
              0.1111111111111111,
              "#46039f"
             ],
             [
              0.2222222222222222,
              "#7201a8"
             ],
             [
              0.3333333333333333,
              "#9c179e"
             ],
             [
              0.4444444444444444,
              "#bd3786"
             ],
             [
              0.5555555555555556,
              "#d8576b"
             ],
             [
              0.6666666666666666,
              "#ed7953"
             ],
             [
              0.7777777777777778,
              "#fb9f3a"
             ],
             [
              0.8888888888888888,
              "#fdca26"
             ],
             [
              1,
              "#f0f921"
             ]
            ],
            "type": "histogram2dcontour"
           }
          ],
          "mesh3d": [
           {
            "colorbar": {
             "outlinewidth": 0,
             "ticks": ""
            },
            "type": "mesh3d"
           }
          ],
          "parcoords": [
           {
            "line": {
             "colorbar": {
              "outlinewidth": 0,
              "ticks": ""
             }
            },
            "type": "parcoords"
           }
          ],
          "pie": [
           {
            "automargin": true,
            "type": "pie"
           }
          ],
          "scatter": [
           {
            "fillpattern": {
             "fillmode": "overlay",
             "size": 10,
             "solidity": 0.2
            },
            "type": "scatter"
           }
          ],
          "scatter3d": [
           {
            "line": {
             "colorbar": {
              "outlinewidth": 0,
              "ticks": ""
             }
            },
            "marker": {
             "colorbar": {
              "outlinewidth": 0,
              "ticks": ""
             }
            },
            "type": "scatter3d"
           }
          ],
          "scattercarpet": [
           {
            "marker": {
             "colorbar": {
              "outlinewidth": 0,
              "ticks": ""
             }
            },
            "type": "scattercarpet"
           }
          ],
          "scattergeo": [
           {
            "marker": {
             "colorbar": {
              "outlinewidth": 0,
              "ticks": ""
             }
            },
            "type": "scattergeo"
           }
          ],
          "scattergl": [
           {
            "marker": {
             "colorbar": {
              "outlinewidth": 0,
              "ticks": ""
             }
            },
            "type": "scattergl"
           }
          ],
          "scattermapbox": [
           {
            "marker": {
             "colorbar": {
              "outlinewidth": 0,
              "ticks": ""
             }
            },
            "type": "scattermapbox"
           }
          ],
          "scatterpolar": [
           {
            "marker": {
             "colorbar": {
              "outlinewidth": 0,
              "ticks": ""
             }
            },
            "type": "scatterpolar"
           }
          ],
          "scatterpolargl": [
           {
            "marker": {
             "colorbar": {
              "outlinewidth": 0,
              "ticks": ""
             }
            },
            "type": "scatterpolargl"
           }
          ],
          "scatterternary": [
           {
            "marker": {
             "colorbar": {
              "outlinewidth": 0,
              "ticks": ""
             }
            },
            "type": "scatterternary"
           }
          ],
          "surface": [
           {
            "colorbar": {
             "outlinewidth": 0,
             "ticks": ""
            },
            "colorscale": [
             [
              0,
              "#0d0887"
             ],
             [
              0.1111111111111111,
              "#46039f"
             ],
             [
              0.2222222222222222,
              "#7201a8"
             ],
             [
              0.3333333333333333,
              "#9c179e"
             ],
             [
              0.4444444444444444,
              "#bd3786"
             ],
             [
              0.5555555555555556,
              "#d8576b"
             ],
             [
              0.6666666666666666,
              "#ed7953"
             ],
             [
              0.7777777777777778,
              "#fb9f3a"
             ],
             [
              0.8888888888888888,
              "#fdca26"
             ],
             [
              1,
              "#f0f921"
             ]
            ],
            "type": "surface"
           }
          ],
          "table": [
           {
            "cells": {
             "fill": {
              "color": "#EBF0F8"
             },
             "line": {
              "color": "white"
             }
            },
            "header": {
             "fill": {
              "color": "#C8D4E3"
             },
             "line": {
              "color": "white"
             }
            },
            "type": "table"
           }
          ]
         },
         "layout": {
          "annotationdefaults": {
           "arrowcolor": "#2a3f5f",
           "arrowhead": 0,
           "arrowwidth": 1
          },
          "autotypenumbers": "strict",
          "coloraxis": {
           "colorbar": {
            "outlinewidth": 0,
            "ticks": ""
           }
          },
          "colorscale": {
           "diverging": [
            [
             0,
             "#8e0152"
            ],
            [
             0.1,
             "#c51b7d"
            ],
            [
             0.2,
             "#de77ae"
            ],
            [
             0.3,
             "#f1b6da"
            ],
            [
             0.4,
             "#fde0ef"
            ],
            [
             0.5,
             "#f7f7f7"
            ],
            [
             0.6,
             "#e6f5d0"
            ],
            [
             0.7,
             "#b8e186"
            ],
            [
             0.8,
             "#7fbc41"
            ],
            [
             0.9,
             "#4d9221"
            ],
            [
             1,
             "#276419"
            ]
           ],
           "sequential": [
            [
             0,
             "#0d0887"
            ],
            [
             0.1111111111111111,
             "#46039f"
            ],
            [
             0.2222222222222222,
             "#7201a8"
            ],
            [
             0.3333333333333333,
             "#9c179e"
            ],
            [
             0.4444444444444444,
             "#bd3786"
            ],
            [
             0.5555555555555556,
             "#d8576b"
            ],
            [
             0.6666666666666666,
             "#ed7953"
            ],
            [
             0.7777777777777778,
             "#fb9f3a"
            ],
            [
             0.8888888888888888,
             "#fdca26"
            ],
            [
             1,
             "#f0f921"
            ]
           ],
           "sequentialminus": [
            [
             0,
             "#0d0887"
            ],
            [
             0.1111111111111111,
             "#46039f"
            ],
            [
             0.2222222222222222,
             "#7201a8"
            ],
            [
             0.3333333333333333,
             "#9c179e"
            ],
            [
             0.4444444444444444,
             "#bd3786"
            ],
            [
             0.5555555555555556,
             "#d8576b"
            ],
            [
             0.6666666666666666,
             "#ed7953"
            ],
            [
             0.7777777777777778,
             "#fb9f3a"
            ],
            [
             0.8888888888888888,
             "#fdca26"
            ],
            [
             1,
             "#f0f921"
            ]
           ]
          },
          "colorway": [
           "#636efa",
           "#EF553B",
           "#00cc96",
           "#ab63fa",
           "#FFA15A",
           "#19d3f3",
           "#FF6692",
           "#B6E880",
           "#FF97FF",
           "#FECB52"
          ],
          "font": {
           "color": "#2a3f5f"
          },
          "geo": {
           "bgcolor": "white",
           "lakecolor": "white",
           "landcolor": "#E5ECF6",
           "showlakes": true,
           "showland": true,
           "subunitcolor": "white"
          },
          "hoverlabel": {
           "align": "left"
          },
          "hovermode": "closest",
          "mapbox": {
           "style": "light"
          },
          "paper_bgcolor": "white",
          "plot_bgcolor": "#E5ECF6",
          "polar": {
           "angularaxis": {
            "gridcolor": "white",
            "linecolor": "white",
            "ticks": ""
           },
           "bgcolor": "#E5ECF6",
           "radialaxis": {
            "gridcolor": "white",
            "linecolor": "white",
            "ticks": ""
           }
          },
          "scene": {
           "xaxis": {
            "backgroundcolor": "#E5ECF6",
            "gridcolor": "white",
            "gridwidth": 2,
            "linecolor": "white",
            "showbackground": true,
            "ticks": "",
            "zerolinecolor": "white"
           },
           "yaxis": {
            "backgroundcolor": "#E5ECF6",
            "gridcolor": "white",
            "gridwidth": 2,
            "linecolor": "white",
            "showbackground": true,
            "ticks": "",
            "zerolinecolor": "white"
           },
           "zaxis": {
            "backgroundcolor": "#E5ECF6",
            "gridcolor": "white",
            "gridwidth": 2,
            "linecolor": "white",
            "showbackground": true,
            "ticks": "",
            "zerolinecolor": "white"
           }
          },
          "shapedefaults": {
           "line": {
            "color": "#2a3f5f"
           }
          },
          "ternary": {
           "aaxis": {
            "gridcolor": "white",
            "linecolor": "white",
            "ticks": ""
           },
           "baxis": {
            "gridcolor": "white",
            "linecolor": "white",
            "ticks": ""
           },
           "bgcolor": "#E5ECF6",
           "caxis": {
            "gridcolor": "white",
            "linecolor": "white",
            "ticks": ""
           }
          },
          "title": {
           "x": 0.05
          },
          "xaxis": {
           "automargin": true,
           "gridcolor": "white",
           "linecolor": "white",
           "ticks": "",
           "title": {
            "standoff": 15
           },
           "zerolinecolor": "white",
           "zerolinewidth": 2
          },
          "yaxis": {
           "automargin": true,
           "gridcolor": "white",
           "linecolor": "white",
           "ticks": "",
           "title": {
            "standoff": 15
           },
           "zerolinecolor": "white",
           "zerolinewidth": 2
          }
         }
        },
        "title": {
         "text": "ARIMA Forecast with Original Data"
        },
        "xaxis": {
         "anchor": "y",
         "domain": [
          0,
          1
         ],
         "title": {
          "text": "Date"
         }
        },
        "yaxis": {
         "anchor": "x",
         "domain": [
          0,
          1
         ],
         "title": {
          "text": "FIRECOUNT"
         }
        }
       }
      }
     },
     "metadata": {},
     "output_type": "display_data"
    },
    {
     "name": "stdout",
     "output_type": "stream",
     "text": [
      "The predicted value for 2022 is 331.68\n",
      "The predicted value for 2023 is 509.57\n",
      "The predicted value for 2024 is 510.40\n",
      "The predicted value for 2025 is 510.40\n"
     ]
    }
   ],
   "source": [
    "import pandas as pd\n",
    "from pmdarima import auto_arima\n",
    "import numpy as np\n",
    "import plotly.express as px\n",
    "from sklearn.metrics import mean_absolute_error, mean_squared_error\n",
    "\n",
    "# Load and clean data\n",
    "df = pd.read_csv(r'D:\\stubble buring\\stubble\\STN1.csv')\n",
    "df.rename(columns={'date': 'DATE'}, inplace=True)\n",
    "df['DATE'] = pd.to_datetime(df['DATE'], errors='coerce')\n",
    "df.dropna(subset=['DATE'], inplace=True)\n",
    "\n",
    "# Handle missing values (e.g., interpolation)\n",
    "df['FIRECOUNT'] = df['FIRECOUNT'].interpolate(method='linear')\n",
    "\n",
    "# Filter data for the specified date range\n",
    "df = df[(df['DATE'] >= '2016-09-01') & (df['DATE'] <= '2021-12-31')]\n",
    "\n",
    "# Set DATE as index\n",
    "df.set_index('DATE', inplace=True)\n",
    "\n",
    "# Split data into train and test sets (70:30 ratio)\n",
    "train_ratio = 0.7\n",
    "split_index = int(len(df) * train_ratio)\n",
    "train_data = df.iloc[:split_index]\n",
    "test_data = df.iloc[split_index:]\n",
    "\n",
    "# Fit ARIMA model on training data\n",
    "arima_model = auto_arima(train_data['FIRECOUNT'], seasonal=False, trace=True)\n",
    "print(arima_model.summary())\n",
    "\n",
    "# Forecast for the next 48 months (4 years)\n",
    "forecast_period = 48\n",
    "forecast = arima_model.predict(n_periods=forecast_period)\n",
    "\n",
    "# Create forecast date index for 2022-2025\n",
    "forecast_dates = pd.date_range(start=train_data.index[-1] + pd.DateOffset(1), periods=forecast_period, freq='M')\n",
    "forecast_series = pd.Series(forecast, index=forecast_dates)\n",
    "\n",
    "# Model Evaluation\n",
    "test_forecast = arima_model.predict(n_periods=len(test_data))\n",
    "mae = mean_absolute_error(test_data['FIRECOUNT'], test_forecast)\n",
    "rmse = np.sqrt(mean_squared_error(test_data['FIRECOUNT'], test_forecast))\n",
    "print(f\"Model Evaluation Metrics:\\nMAE: {mae:.2f}, RMSE: {rmse:.2f}\")\n",
    "\n",
    "# Plot original data and forecast\n",
    "fig = px.line(title=\"ARIMA Forecast with Original Data\")\n",
    "fig.add_scatter(x=train_data.index, y=train_data['FIRECOUNT'], mode='lines', name='Training Data')\n",
    "fig.add_scatter(x=test_data.index, y=test_data['FIRECOUNT'], mode='lines', name='Testing Data')\n",
    "fig.add_scatter(x=forecast_dates, y=forecast_series, mode='lines', name='Forecast')\n",
    "fig.update_layout(xaxis_title=\"Date\", yaxis_title=\"FIRECOUNT\")\n",
    "fig.show()\n",
    "\n",
    "# Display yearly predictions\n",
    "for year, value in zip(range(2022, 2026), forecast[:48:12]):\n",
    "    print(f\"The predicted value for {year} is {value:.2f}\")\n"
   ]
  },
  {
   "cell_type": "code",
   "execution_count": null,
   "metadata": {},
   "outputs": [],
   "source": []
  }
 ],
 "metadata": {
  "kernelspec": {
   "display_name": "base",
   "language": "python",
   "name": "python3"
  },
  "language_info": {
   "codemirror_mode": {
    "name": "ipython",
    "version": 3
   },
   "file_extension": ".py",
   "mimetype": "text/x-python",
   "name": "python",
   "nbconvert_exporter": "python",
   "pygments_lexer": "ipython3",
   "version": "3.12.4"
  }
 },
 "nbformat": 4,
 "nbformat_minor": 2
}
